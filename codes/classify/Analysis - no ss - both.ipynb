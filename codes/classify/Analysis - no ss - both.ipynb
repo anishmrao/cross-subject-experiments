{
 "cells": [
  {
   "cell_type": "code",
   "execution_count": 1,
   "metadata": {
    "scrolled": true
   },
   "outputs": [],
   "source": [
    "import numpy as np\n",
    "import torch\n",
    "import sys\n",
    "import os\n",
    "import time\n",
    "import xlwt\n",
    "import csv\n",
    "import random\n",
    "import math\n",
    "import copy\n",
    "import pickle\n",
    "import gc\n",
    "\n",
    "# masterPath = os.path.dirname(os.path.dirname(os.path.abspath(__file__)))\n",
    "# sys.path.insert(1, os.path.join(masterPath, 'centralRepo'))\n",
    "sys.path.insert(1, '../centralRepo')\n",
    "from eegDataset import eegDataset\n",
    "from baseModel import baseModel\n",
    "from networks import *\n",
    "import transforms\n",
    "from saveData import fetchData\n",
    "import seaborn as sns\n",
    "import matplotlib.pyplot as plt\n",
    "import statistics"
   ]
  },
  {
   "cell_type": "code",
   "execution_count": 2,
   "metadata": {},
   "outputs": [],
   "source": [
    "config = {}\n",
    "config['modelArguments'] = {'nChan': 22, 'nTime': 1000, 'dropoutP': 0.5,\n",
    "                                    'nBands':9, 'm' : 32, 'temporalLayer': 'LogVarLayer',\n",
    "                                    'nClass': 4, 'doWeightNorm': True}\n",
    "\n",
    "# Training related details    \n",
    "config['modelTrainArguments'] = {'stopCondi':  {'c': {'Or': {'c1': {'MaxEpoch': {'maxEpochs': 1000, 'varName' : 'epoch'}},\n",
    "                                                   'c2': {'NoDecrease': {'numEpochs' : 200, 'varName': 'valInacc'}} } }},\n",
    "      'classes': [0,1], 'sampler' : 'RandomSampler', 'loadBestModel': True,\n",
    "      'bestVarToCheck': 'valInacc', 'continueAfterEarlystop':False,'lr': 1e-3}\n",
    "\n",
    "config['batchSize'] = 16\n",
    "nGPU = 0"
   ]
  },
  {
   "cell_type": "code",
   "execution_count": 3,
   "metadata": {},
   "outputs": [],
   "source": [
    "config['inDataPath'] = '../../data/bci42a/multiviewPython'\n",
    "config['inLabelPath'] = '../../data//bci42a/multiviewPython/dataLabels.csv'\n",
    "fbcnet_dataset = eegDataset(dataPath = config['inDataPath'], dataLabelsPath= config['inLabelPath'], preloadData = False, transform= None)\n",
    "FBCNET_ROOT_PATH = '../../output/bci42a/ses2Test/fbcnet_cross_subs/'\n",
    "fbcnet = FBCNet(**config['modelArguments'])\n",
    "\n",
    "config['inDataPath'] = '../../data/bci42a/rawPython'\n",
    "config['inLabelPath'] = '../../data//bci42a/rawPython/dataLabels.csv'\n",
    "eegnet_dataset = eegDataset(dataPath = config['inDataPath'], dataLabelsPath= config['inLabelPath'], preloadData = False, transform= None)\n",
    "EEGNET_ROOT_PATH = '../../output/bci42a/ses2Test/eegnet_cross_subject/'\n",
    "eegnet = eegNet(**config['modelArguments'])\n",
    "\n",
    "models = [('fbcnet', fbcnet, fbcnet_dataset, FBCNET_ROOT_PATH), ('eegnet', eegnet, eegnet_dataset, EEGNET_ROOT_PATH)]"
   ]
  },
  {
   "cell_type": "code",
   "execution_count": 4,
   "metadata": {},
   "outputs": [],
   "source": [
    "def test_model(test_sub, data, model, session='1'):\n",
    "        subIdxTest = [i for i, x in enumerate(data.labels) if x[3] in test_sub and x[4] == session]\n",
    "        testData = copy.deepcopy(data)\n",
    "        testData.createPartialDataset(subIdxTest, loadNonLoadedData = True)\n",
    "\n",
    "        testResults, pred, act, pred_prob = model.test_preds(testData)\n",
    "\n",
    "        del testData\n",
    "        gc.collect()\n",
    "\n",
    "        return testResults, pred, act, pred_prob"
   ]
  },
  {
   "cell_type": "code",
   "execution_count": 5,
   "metadata": {},
   "outputs": [
    {
     "name": "stdout",
     "output_type": "stream",
     "text": [
      "Testing subject 001 with all models...\n",
      "Code will be running on device  cuda:0\n"
     ]
    },
    {
     "name": "stderr",
     "output_type": "stream",
     "text": [
      "../centralRepo/baseModel.py:565: UserWarning: To copy construct from a tensor, it is recommended to use sourceTensor.clone().detach() or sourceTensor.clone().detach().requires_grad_(True), rather than torch.tensor(sourceTensor).\n",
      "  return predicted, actual, torch.tensor(loss).item()/totalCount, predicted_probs\n",
      "../centralRepo/baseModel.py:565: UserWarning: To copy construct from a tensor, it is recommended to use sourceTensor.clone().detach() or sourceTensor.clone().detach().requires_grad_(True), rather than torch.tensor(sourceTensor).\n",
      "  return predicted, actual, torch.tensor(loss).item()/totalCount, predicted_probs\n"
     ]
    },
    {
     "name": "stdout",
     "output_type": "stream",
     "text": [
      "Results for model fbcnet 1 {'acc': 0.7048611111111112, 'cm': array([[51,  9, 11,  1],\n",
      "       [21, 45,  6,  0],\n",
      "       [ 1,  0, 54, 17],\n",
      "       [ 0,  0, 19, 53]]), 'loss': 0.6606802940368652}\n",
      "Code will be running on device  cuda:0\n"
     ]
    },
    {
     "name": "stderr",
     "output_type": "stream",
     "text": [
      "../centralRepo/baseModel.py:565: UserWarning: To copy construct from a tensor, it is recommended to use sourceTensor.clone().detach() or sourceTensor.clone().detach().requires_grad_(True), rather than torch.tensor(sourceTensor).\n",
      "  return predicted, actual, torch.tensor(loss).item()/totalCount, predicted_probs\n",
      "../centralRepo/baseModel.py:565: UserWarning: To copy construct from a tensor, it is recommended to use sourceTensor.clone().detach() or sourceTensor.clone().detach().requires_grad_(True), rather than torch.tensor(sourceTensor).\n",
      "  return predicted, actual, torch.tensor(loss).item()/totalCount, predicted_probs\n"
     ]
    },
    {
     "name": "stdout",
     "output_type": "stream",
     "text": [
      "Results for model eegnet 1 {'acc': 0.5034722222222222, 'cm': array([[24, 21, 15, 12],\n",
      "       [17, 41,  7,  7],\n",
      "       [14, 10, 40,  8],\n",
      "       [ 5, 20,  7, 40]]), 'loss': 1.4141811794704862}\n",
      "Code will be running on device  cuda:0\n"
     ]
    },
    {
     "name": "stderr",
     "output_type": "stream",
     "text": [
      "../centralRepo/baseModel.py:565: UserWarning: To copy construct from a tensor, it is recommended to use sourceTensor.clone().detach() or sourceTensor.clone().detach().requires_grad_(True), rather than torch.tensor(sourceTensor).\n",
      "  return predicted, actual, torch.tensor(loss).item()/totalCount, predicted_probs\n",
      "../centralRepo/baseModel.py:565: UserWarning: To copy construct from a tensor, it is recommended to use sourceTensor.clone().detach() or sourceTensor.clone().detach().requires_grad_(True), rather than torch.tensor(sourceTensor).\n",
      "  return predicted, actual, torch.tensor(loss).item()/totalCount, predicted_probs\n"
     ]
    },
    {
     "name": "stdout",
     "output_type": "stream",
     "text": [
      "Results for model fbcnet 2 {'acc': 0.6909722222222222, 'cm': array([[41, 15, 10,  6],\n",
      "       [ 8, 61,  3,  0],\n",
      "       [ 1,  0, 45, 26],\n",
      "       [ 0,  0, 20, 52]]), 'loss': 0.6937871509128146}\n",
      "Code will be running on device  cuda:0\n"
     ]
    },
    {
     "name": "stderr",
     "output_type": "stream",
     "text": [
      "../centralRepo/baseModel.py:565: UserWarning: To copy construct from a tensor, it is recommended to use sourceTensor.clone().detach() or sourceTensor.clone().detach().requires_grad_(True), rather than torch.tensor(sourceTensor).\n",
      "  return predicted, actual, torch.tensor(loss).item()/totalCount, predicted_probs\n",
      "../centralRepo/baseModel.py:565: UserWarning: To copy construct from a tensor, it is recommended to use sourceTensor.clone().detach() or sourceTensor.clone().detach().requires_grad_(True), rather than torch.tensor(sourceTensor).\n",
      "  return predicted, actual, torch.tensor(loss).item()/totalCount, predicted_probs\n"
     ]
    },
    {
     "name": "stdout",
     "output_type": "stream",
     "text": [
      "Results for model eegnet 2 {'acc': 0.7013888888888888, 'cm': array([[47, 15,  5,  5],\n",
      "       [15, 52,  2,  3],\n",
      "       [ 2,  3, 45, 22],\n",
      "       [ 2,  4,  8, 58]]), 'loss': 0.9975721571180556}\n",
      "Code will be running on device  cuda:0\n"
     ]
    },
    {
     "name": "stderr",
     "output_type": "stream",
     "text": [
      "../centralRepo/baseModel.py:565: UserWarning: To copy construct from a tensor, it is recommended to use sourceTensor.clone().detach() or sourceTensor.clone().detach().requires_grad_(True), rather than torch.tensor(sourceTensor).\n",
      "  return predicted, actual, torch.tensor(loss).item()/totalCount, predicted_probs\n",
      "../centralRepo/baseModel.py:565: UserWarning: To copy construct from a tensor, it is recommended to use sourceTensor.clone().detach() or sourceTensor.clone().detach().requires_grad_(True), rather than torch.tensor(sourceTensor).\n",
      "  return predicted, actual, torch.tensor(loss).item()/totalCount, predicted_probs\n"
     ]
    },
    {
     "name": "stdout",
     "output_type": "stream",
     "text": [
      "Results for model fbcnet 3 {'acc': 0.7465277777777778, 'cm': array([[58,  4,  9,  1],\n",
      "       [12, 56,  4,  0],\n",
      "       [ 2,  1, 59, 10],\n",
      "       [ 1,  0, 29, 42]]), 'loss': 0.6049310896131728}\n",
      "Code will be running on device  cuda:0\n"
     ]
    },
    {
     "name": "stderr",
     "output_type": "stream",
     "text": [
      "../centralRepo/baseModel.py:565: UserWarning: To copy construct from a tensor, it is recommended to use sourceTensor.clone().detach() or sourceTensor.clone().detach().requires_grad_(True), rather than torch.tensor(sourceTensor).\n",
      "  return predicted, actual, torch.tensor(loss).item()/totalCount, predicted_probs\n",
      "../centralRepo/baseModel.py:565: UserWarning: To copy construct from a tensor, it is recommended to use sourceTensor.clone().detach() or sourceTensor.clone().detach().requires_grad_(True), rather than torch.tensor(sourceTensor).\n",
      "  return predicted, actual, torch.tensor(loss).item()/totalCount, predicted_probs\n"
     ]
    },
    {
     "name": "stdout",
     "output_type": "stream",
     "text": [
      "Results for model eegnet 3 {'acc': 0.5659722222222222, 'cm': array([[30, 24,  9,  9],\n",
      "       [14, 51,  2,  5],\n",
      "       [11,  6, 38, 17],\n",
      "       [ 6,  9, 13, 44]]), 'loss': 1.2172532611423068}\n",
      "Code will be running on device  cuda:0\n"
     ]
    },
    {
     "name": "stderr",
     "output_type": "stream",
     "text": [
      "../centralRepo/baseModel.py:565: UserWarning: To copy construct from a tensor, it is recommended to use sourceTensor.clone().detach() or sourceTensor.clone().detach().requires_grad_(True), rather than torch.tensor(sourceTensor).\n",
      "  return predicted, actual, torch.tensor(loss).item()/totalCount, predicted_probs\n",
      "../centralRepo/baseModel.py:565: UserWarning: To copy construct from a tensor, it is recommended to use sourceTensor.clone().detach() or sourceTensor.clone().detach().requires_grad_(True), rather than torch.tensor(sourceTensor).\n",
      "  return predicted, actual, torch.tensor(loss).item()/totalCount, predicted_probs\n"
     ]
    },
    {
     "name": "stdout",
     "output_type": "stream",
     "text": [
      "Results for model fbcnet 4 {'acc': 0.6666666666666666, 'cm': array([[51,  7,  8,  6],\n",
      "       [20, 43,  9,  0],\n",
      "       [ 2,  0, 37, 33],\n",
      "       [ 0,  0, 11, 61]]), 'loss': 0.6990844938490126}\n",
      "Code will be running on device  cuda:0\n"
     ]
    },
    {
     "name": "stderr",
     "output_type": "stream",
     "text": [
      "../centralRepo/baseModel.py:565: UserWarning: To copy construct from a tensor, it is recommended to use sourceTensor.clone().detach() or sourceTensor.clone().detach().requires_grad_(True), rather than torch.tensor(sourceTensor).\n",
      "  return predicted, actual, torch.tensor(loss).item()/totalCount, predicted_probs\n",
      "../centralRepo/baseModel.py:565: UserWarning: To copy construct from a tensor, it is recommended to use sourceTensor.clone().detach() or sourceTensor.clone().detach().requires_grad_(True), rather than torch.tensor(sourceTensor).\n",
      "  return predicted, actual, torch.tensor(loss).item()/totalCount, predicted_probs\n"
     ]
    },
    {
     "name": "stdout",
     "output_type": "stream",
     "text": [
      "Results for model eegnet 4 {'acc': 0.5416666666666666, 'cm': array([[38, 24,  6,  4],\n",
      "       [21, 39,  2, 10],\n",
      "       [ 8, 11, 37, 16],\n",
      "       [ 5, 17,  8, 42]]), 'loss': 1.2847266727023654}\n",
      "Code will be running on device  cuda:0\n"
     ]
    },
    {
     "name": "stderr",
     "output_type": "stream",
     "text": [
      "../centralRepo/baseModel.py:565: UserWarning: To copy construct from a tensor, it is recommended to use sourceTensor.clone().detach() or sourceTensor.clone().detach().requires_grad_(True), rather than torch.tensor(sourceTensor).\n",
      "  return predicted, actual, torch.tensor(loss).item()/totalCount, predicted_probs\n",
      "../centralRepo/baseModel.py:565: UserWarning: To copy construct from a tensor, it is recommended to use sourceTensor.clone().detach() or sourceTensor.clone().detach().requires_grad_(True), rather than torch.tensor(sourceTensor).\n",
      "  return predicted, actual, torch.tensor(loss).item()/totalCount, predicted_probs\n"
     ]
    },
    {
     "name": "stdout",
     "output_type": "stream",
     "text": [
      "Results for model fbcnet 5 {'acc': 0.6006944444444444, 'cm': array([[64,  1,  6,  1],\n",
      "       [45, 18,  9,  0],\n",
      "       [ 5,  0, 42, 25],\n",
      "       [ 0,  0, 23, 49]]), 'loss': 0.742124080657959}\n",
      "Code will be running on device  cuda:0\n"
     ]
    },
    {
     "name": "stderr",
     "output_type": "stream",
     "text": [
      "../centralRepo/baseModel.py:565: UserWarning: To copy construct from a tensor, it is recommended to use sourceTensor.clone().detach() or sourceTensor.clone().detach().requires_grad_(True), rather than torch.tensor(sourceTensor).\n",
      "  return predicted, actual, torch.tensor(loss).item()/totalCount, predicted_probs\n",
      "../centralRepo/baseModel.py:565: UserWarning: To copy construct from a tensor, it is recommended to use sourceTensor.clone().detach() or sourceTensor.clone().detach().requires_grad_(True), rather than torch.tensor(sourceTensor).\n",
      "  return predicted, actual, torch.tensor(loss).item()/totalCount, predicted_probs\n"
     ]
    },
    {
     "name": "stdout",
     "output_type": "stream",
     "text": [
      "Results for model eegnet 5 {'acc': 0.5416666666666666, 'cm': array([[28, 27, 10,  7],\n",
      "       [10, 48,  3, 11],\n",
      "       [ 8, 11, 46,  7],\n",
      "       [ 5, 18, 15, 34]]), 'loss': 1.3800603018866644}\n",
      "Code will be running on device  cuda:0\n"
     ]
    },
    {
     "name": "stderr",
     "output_type": "stream",
     "text": [
      "../centralRepo/baseModel.py:565: UserWarning: To copy construct from a tensor, it is recommended to use sourceTensor.clone().detach() or sourceTensor.clone().detach().requires_grad_(True), rather than torch.tensor(sourceTensor).\n",
      "  return predicted, actual, torch.tensor(loss).item()/totalCount, predicted_probs\n",
      "../centralRepo/baseModel.py:565: UserWarning: To copy construct from a tensor, it is recommended to use sourceTensor.clone().detach() or sourceTensor.clone().detach().requires_grad_(True), rather than torch.tensor(sourceTensor).\n",
      "  return predicted, actual, torch.tensor(loss).item()/totalCount, predicted_probs\n"
     ]
    },
    {
     "name": "stdout",
     "output_type": "stream",
     "text": [
      "Results for model fbcnet 6 {'acc': 0.7430555555555556, 'cm': array([[59,  2,  6,  5],\n",
      "       [24, 44,  4,  0],\n",
      "       [ 1,  0, 65,  6],\n",
      "       [ 0,  0, 26, 46]]), 'loss': 0.6115825441148546}\n",
      "Code will be running on device  cuda:0\n"
     ]
    },
    {
     "name": "stderr",
     "output_type": "stream",
     "text": [
      "../centralRepo/baseModel.py:565: UserWarning: To copy construct from a tensor, it is recommended to use sourceTensor.clone().detach() or sourceTensor.clone().detach().requires_grad_(True), rather than torch.tensor(sourceTensor).\n",
      "  return predicted, actual, torch.tensor(loss).item()/totalCount, predicted_probs\n",
      "../centralRepo/baseModel.py:565: UserWarning: To copy construct from a tensor, it is recommended to use sourceTensor.clone().detach() or sourceTensor.clone().detach().requires_grad_(True), rather than torch.tensor(sourceTensor).\n",
      "  return predicted, actual, torch.tensor(loss).item()/totalCount, predicted_probs\n"
     ]
    },
    {
     "name": "stdout",
     "output_type": "stream",
     "text": [
      "Results for model eegnet 6 {'acc': 0.65625, 'cm': array([[37, 24,  5,  6],\n",
      "       [23, 45,  3,  1],\n",
      "       [11,  2, 46, 13],\n",
      "       [ 3,  0,  8, 61]]), 'loss': 0.9614543914794922}\n",
      "Code will be running on device  cuda:0\n"
     ]
    },
    {
     "name": "stderr",
     "output_type": "stream",
     "text": [
      "../centralRepo/baseModel.py:565: UserWarning: To copy construct from a tensor, it is recommended to use sourceTensor.clone().detach() or sourceTensor.clone().detach().requires_grad_(True), rather than torch.tensor(sourceTensor).\n",
      "  return predicted, actual, torch.tensor(loss).item()/totalCount, predicted_probs\n",
      "../centralRepo/baseModel.py:565: UserWarning: To copy construct from a tensor, it is recommended to use sourceTensor.clone().detach() or sourceTensor.clone().detach().requires_grad_(True), rather than torch.tensor(sourceTensor).\n",
      "  return predicted, actual, torch.tensor(loss).item()/totalCount, predicted_probs\n"
     ]
    },
    {
     "name": "stdout",
     "output_type": "stream",
     "text": [
      "Results for model fbcnet 7 {'acc': 0.6354166666666666, 'cm': array([[62,  1,  9,  0],\n",
      "       [38, 23, 11,  0],\n",
      "       [ 2,  0, 58, 12],\n",
      "       [ 0,  0, 32, 40]]), 'loss': 0.7668737835354276}\n",
      "Code will be running on device  cuda:0\n"
     ]
    },
    {
     "name": "stderr",
     "output_type": "stream",
     "text": [
      "../centralRepo/baseModel.py:565: UserWarning: To copy construct from a tensor, it is recommended to use sourceTensor.clone().detach() or sourceTensor.clone().detach().requires_grad_(True), rather than torch.tensor(sourceTensor).\n",
      "  return predicted, actual, torch.tensor(loss).item()/totalCount, predicted_probs\n",
      "../centralRepo/baseModel.py:565: UserWarning: To copy construct from a tensor, it is recommended to use sourceTensor.clone().detach() or sourceTensor.clone().detach().requires_grad_(True), rather than torch.tensor(sourceTensor).\n",
      "  return predicted, actual, torch.tensor(loss).item()/totalCount, predicted_probs\n"
     ]
    },
    {
     "name": "stdout",
     "output_type": "stream",
     "text": [
      "Results for model eegnet 7 {'acc': 0.6458333333333334, 'cm': array([[36, 27,  5,  4],\n",
      "       [15, 49,  6,  2],\n",
      "       [ 8,  2, 43, 19],\n",
      "       [ 0,  3, 11, 58]]), 'loss': 1.0955171585083008}\n",
      "Code will be running on device  cuda:0\n"
     ]
    },
    {
     "name": "stderr",
     "output_type": "stream",
     "text": [
      "../centralRepo/baseModel.py:565: UserWarning: To copy construct from a tensor, it is recommended to use sourceTensor.clone().detach() or sourceTensor.clone().detach().requires_grad_(True), rather than torch.tensor(sourceTensor).\n",
      "  return predicted, actual, torch.tensor(loss).item()/totalCount, predicted_probs\n",
      "../centralRepo/baseModel.py:565: UserWarning: To copy construct from a tensor, it is recommended to use sourceTensor.clone().detach() or sourceTensor.clone().detach().requires_grad_(True), rather than torch.tensor(sourceTensor).\n",
      "  return predicted, actual, torch.tensor(loss).item()/totalCount, predicted_probs\n"
     ]
    },
    {
     "name": "stdout",
     "output_type": "stream",
     "text": [
      "Results for model fbcnet 8 {'acc': 0.7465277777777778, 'cm': array([[60,  5,  5,  2],\n",
      "       [13, 52,  7,  0],\n",
      "       [ 5,  0, 55, 12],\n",
      "       [ 1,  0, 23, 48]]), 'loss': 0.5870521863301595}\n",
      "Code will be running on device  cuda:0\n"
     ]
    },
    {
     "name": "stderr",
     "output_type": "stream",
     "text": [
      "../centralRepo/baseModel.py:565: UserWarning: To copy construct from a tensor, it is recommended to use sourceTensor.clone().detach() or sourceTensor.clone().detach().requires_grad_(True), rather than torch.tensor(sourceTensor).\n",
      "  return predicted, actual, torch.tensor(loss).item()/totalCount, predicted_probs\n",
      "../centralRepo/baseModel.py:565: UserWarning: To copy construct from a tensor, it is recommended to use sourceTensor.clone().detach() or sourceTensor.clone().detach().requires_grad_(True), rather than torch.tensor(sourceTensor).\n",
      "  return predicted, actual, torch.tensor(loss).item()/totalCount, predicted_probs\n"
     ]
    },
    {
     "name": "stdout",
     "output_type": "stream",
     "text": [
      "Results for model eegnet 8 {'acc': 0.625, 'cm': array([[49, 19,  4,  0],\n",
      "       [26, 40,  3,  3],\n",
      "       [ 6,  7, 42, 17],\n",
      "       [ 1,  7, 15, 49]]), 'loss': 1.1438682344224718}\n",
      "Theoretical max accuracy: 0.9965277777777778\n",
      "Testing subject 002 with all models...\n",
      "Code will be running on device  cuda:0\n"
     ]
    },
    {
     "name": "stderr",
     "output_type": "stream",
     "text": [
      "../centralRepo/baseModel.py:565: UserWarning: To copy construct from a tensor, it is recommended to use sourceTensor.clone().detach() or sourceTensor.clone().detach().requires_grad_(True), rather than torch.tensor(sourceTensor).\n",
      "  return predicted, actual, torch.tensor(loss).item()/totalCount, predicted_probs\n",
      "../centralRepo/baseModel.py:565: UserWarning: To copy construct from a tensor, it is recommended to use sourceTensor.clone().detach() or sourceTensor.clone().detach().requires_grad_(True), rather than torch.tensor(sourceTensor).\n",
      "  return predicted, actual, torch.tensor(loss).item()/totalCount, predicted_probs\n"
     ]
    },
    {
     "name": "stdout",
     "output_type": "stream",
     "text": [
      "Results for model fbcnet 0 {'acc': 0.4583333333333333, 'cm': array([[19, 26, 24,  3],\n",
      "       [ 6, 40, 16, 10],\n",
      "       [ 2,  6, 64,  0],\n",
      "       [14, 24, 25,  9]]), 'loss': 1.26515441470676}\n",
      "Code will be running on device  cuda:0\n"
     ]
    },
    {
     "name": "stderr",
     "output_type": "stream",
     "text": [
      "../centralRepo/baseModel.py:565: UserWarning: To copy construct from a tensor, it is recommended to use sourceTensor.clone().detach() or sourceTensor.clone().detach().requires_grad_(True), rather than torch.tensor(sourceTensor).\n",
      "  return predicted, actual, torch.tensor(loss).item()/totalCount, predicted_probs\n",
      "../centralRepo/baseModel.py:565: UserWarning: To copy construct from a tensor, it is recommended to use sourceTensor.clone().detach() or sourceTensor.clone().detach().requires_grad_(True), rather than torch.tensor(sourceTensor).\n",
      "  return predicted, actual, torch.tensor(loss).item()/totalCount, predicted_probs\n"
     ]
    },
    {
     "name": "stdout",
     "output_type": "stream",
     "text": [
      "Results for model eegnet 0 {'acc': 0.4895833333333333, 'cm': array([[31, 18, 16,  7],\n",
      "       [ 8, 41, 15,  8],\n",
      "       [14, 14, 43,  1],\n",
      "       [15, 19, 12, 26]]), 'loss': 1.380746841430664}\n",
      "Code will be running on device  cuda:0\n"
     ]
    },
    {
     "name": "stderr",
     "output_type": "stream",
     "text": [
      "../centralRepo/baseModel.py:565: UserWarning: To copy construct from a tensor, it is recommended to use sourceTensor.clone().detach() or sourceTensor.clone().detach().requires_grad_(True), rather than torch.tensor(sourceTensor).\n",
      "  return predicted, actual, torch.tensor(loss).item()/totalCount, predicted_probs\n",
      "../centralRepo/baseModel.py:565: UserWarning: To copy construct from a tensor, it is recommended to use sourceTensor.clone().detach() or sourceTensor.clone().detach().requires_grad_(True), rather than torch.tensor(sourceTensor).\n",
      "  return predicted, actual, torch.tensor(loss).item()/totalCount, predicted_probs\n"
     ]
    },
    {
     "name": "stdout",
     "output_type": "stream",
     "text": [
      "Results for model fbcnet 2 {'acc': 0.4965277777777778, 'cm': array([[35,  3, 30,  4],\n",
      "       [19, 16, 31,  6],\n",
      "       [ 1,  0, 69,  2],\n",
      "       [18,  9, 22, 23]]), 'loss': 1.2325933244493272}\n",
      "Code will be running on device  cuda:0\n"
     ]
    },
    {
     "name": "stderr",
     "output_type": "stream",
     "text": [
      "../centralRepo/baseModel.py:565: UserWarning: To copy construct from a tensor, it is recommended to use sourceTensor.clone().detach() or sourceTensor.clone().detach().requires_grad_(True), rather than torch.tensor(sourceTensor).\n",
      "  return predicted, actual, torch.tensor(loss).item()/totalCount, predicted_probs\n",
      "../centralRepo/baseModel.py:565: UserWarning: To copy construct from a tensor, it is recommended to use sourceTensor.clone().detach() or sourceTensor.clone().detach().requires_grad_(True), rather than torch.tensor(sourceTensor).\n",
      "  return predicted, actual, torch.tensor(loss).item()/totalCount, predicted_probs\n"
     ]
    },
    {
     "name": "stdout",
     "output_type": "stream",
     "text": [
      "Results for model eegnet 2 {'acc': 0.5, 'cm': array([[31, 21, 11,  9],\n",
      "       [14, 38, 10, 10],\n",
      "       [10, 19, 40,  3],\n",
      "       [10, 19,  8, 35]]), 'loss': 1.5454823176066081}\n",
      "Code will be running on device  cuda:0\n"
     ]
    },
    {
     "name": "stderr",
     "output_type": "stream",
     "text": [
      "../centralRepo/baseModel.py:565: UserWarning: To copy construct from a tensor, it is recommended to use sourceTensor.clone().detach() or sourceTensor.clone().detach().requires_grad_(True), rather than torch.tensor(sourceTensor).\n",
      "  return predicted, actual, torch.tensor(loss).item()/totalCount, predicted_probs\n",
      "../centralRepo/baseModel.py:565: UserWarning: To copy construct from a tensor, it is recommended to use sourceTensor.clone().detach() or sourceTensor.clone().detach().requires_grad_(True), rather than torch.tensor(sourceTensor).\n",
      "  return predicted, actual, torch.tensor(loss).item()/totalCount, predicted_probs\n"
     ]
    },
    {
     "name": "stdout",
     "output_type": "stream",
     "text": [
      "Results for model fbcnet 3 {'acc': 0.4583333333333333, 'cm': array([[26, 24, 15,  7],\n",
      "       [22, 34, 12,  4],\n",
      "       [ 4,  5, 63,  0],\n",
      "       [22, 29, 12,  9]]), 'loss': 1.1804112328423395}\n",
      "Code will be running on device  cuda:0\n"
     ]
    },
    {
     "name": "stderr",
     "output_type": "stream",
     "text": [
      "../centralRepo/baseModel.py:565: UserWarning: To copy construct from a tensor, it is recommended to use sourceTensor.clone().detach() or sourceTensor.clone().detach().requires_grad_(True), rather than torch.tensor(sourceTensor).\n",
      "  return predicted, actual, torch.tensor(loss).item()/totalCount, predicted_probs\n",
      "../centralRepo/baseModel.py:565: UserWarning: To copy construct from a tensor, it is recommended to use sourceTensor.clone().detach() or sourceTensor.clone().detach().requires_grad_(True), rather than torch.tensor(sourceTensor).\n",
      "  return predicted, actual, torch.tensor(loss).item()/totalCount, predicted_probs\n"
     ]
    },
    {
     "name": "stdout",
     "output_type": "stream",
     "text": [
      "Results for model eegnet 3 {'acc': 0.5104166666666666, 'cm': array([[33, 14, 20,  5],\n",
      "       [18, 42,  8,  4],\n",
      "       [14,  9, 44,  5],\n",
      "       [ 8, 19, 17, 28]]), 'loss': 1.4486079745822482}\n",
      "Code will be running on device  cuda:0\n"
     ]
    },
    {
     "name": "stderr",
     "output_type": "stream",
     "text": [
      "../centralRepo/baseModel.py:565: UserWarning: To copy construct from a tensor, it is recommended to use sourceTensor.clone().detach() or sourceTensor.clone().detach().requires_grad_(True), rather than torch.tensor(sourceTensor).\n",
      "  return predicted, actual, torch.tensor(loss).item()/totalCount, predicted_probs\n",
      "../centralRepo/baseModel.py:565: UserWarning: To copy construct from a tensor, it is recommended to use sourceTensor.clone().detach() or sourceTensor.clone().detach().requires_grad_(True), rather than torch.tensor(sourceTensor).\n",
      "  return predicted, actual, torch.tensor(loss).item()/totalCount, predicted_probs\n"
     ]
    },
    {
     "name": "stdout",
     "output_type": "stream",
     "text": [
      "Results for model fbcnet 4 {'acc': 0.4375, 'cm': array([[24, 30, 16,  2],\n",
      "       [19, 36, 11,  6],\n",
      "       [ 6, 12, 52,  2],\n",
      "       [20, 25, 13, 14]]), 'loss': 1.2247094048394098}\n",
      "Code will be running on device  cuda:0\n"
     ]
    },
    {
     "name": "stderr",
     "output_type": "stream",
     "text": [
      "../centralRepo/baseModel.py:565: UserWarning: To copy construct from a tensor, it is recommended to use sourceTensor.clone().detach() or sourceTensor.clone().detach().requires_grad_(True), rather than torch.tensor(sourceTensor).\n",
      "  return predicted, actual, torch.tensor(loss).item()/totalCount, predicted_probs\n",
      "../centralRepo/baseModel.py:565: UserWarning: To copy construct from a tensor, it is recommended to use sourceTensor.clone().detach() or sourceTensor.clone().detach().requires_grad_(True), rather than torch.tensor(sourceTensor).\n",
      "  return predicted, actual, torch.tensor(loss).item()/totalCount, predicted_probs\n"
     ]
    },
    {
     "name": "stdout",
     "output_type": "stream",
     "text": [
      "Results for model eegnet 4 {'acc': 0.4895833333333333, 'cm': array([[34, 25, 11,  2],\n",
      "       [17, 37, 12,  6],\n",
      "       [14, 15, 41,  2],\n",
      "       [10, 18, 15, 29]]), 'loss': 1.6085451973809137}\n",
      "Code will be running on device  cuda:0\n"
     ]
    },
    {
     "name": "stderr",
     "output_type": "stream",
     "text": [
      "../centralRepo/baseModel.py:565: UserWarning: To copy construct from a tensor, it is recommended to use sourceTensor.clone().detach() or sourceTensor.clone().detach().requires_grad_(True), rather than torch.tensor(sourceTensor).\n",
      "  return predicted, actual, torch.tensor(loss).item()/totalCount, predicted_probs\n",
      "../centralRepo/baseModel.py:565: UserWarning: To copy construct from a tensor, it is recommended to use sourceTensor.clone().detach() or sourceTensor.clone().detach().requires_grad_(True), rather than torch.tensor(sourceTensor).\n",
      "  return predicted, actual, torch.tensor(loss).item()/totalCount, predicted_probs\n"
     ]
    },
    {
     "name": "stdout",
     "output_type": "stream",
     "text": [
      "Results for model fbcnet 5 {'acc': 0.4652777777777778, 'cm': array([[10,  8, 30, 24],\n",
      "       [10, 15, 23, 24],\n",
      "       [ 1,  2, 68,  1],\n",
      "       [ 8,  9, 14, 41]]), 'loss': 1.2528582678900824}\n",
      "Code will be running on device  cuda:0\n"
     ]
    },
    {
     "name": "stderr",
     "output_type": "stream",
     "text": [
      "../centralRepo/baseModel.py:565: UserWarning: To copy construct from a tensor, it is recommended to use sourceTensor.clone().detach() or sourceTensor.clone().detach().requires_grad_(True), rather than torch.tensor(sourceTensor).\n",
      "  return predicted, actual, torch.tensor(loss).item()/totalCount, predicted_probs\n",
      "../centralRepo/baseModel.py:565: UserWarning: To copy construct from a tensor, it is recommended to use sourceTensor.clone().detach() or sourceTensor.clone().detach().requires_grad_(True), rather than torch.tensor(sourceTensor).\n",
      "  return predicted, actual, torch.tensor(loss).item()/totalCount, predicted_probs\n"
     ]
    },
    {
     "name": "stdout",
     "output_type": "stream",
     "text": [
      "Results for model eegnet 5 {'acc': 0.5277777777777778, 'cm': array([[31, 18, 14,  9],\n",
      "       [ 8, 42, 14,  8],\n",
      "       [11, 17, 43,  1],\n",
      "       [11, 15, 10, 36]]), 'loss': 1.3118529849582248}\n",
      "Code will be running on device  cuda:0\n"
     ]
    },
    {
     "name": "stderr",
     "output_type": "stream",
     "text": [
      "../centralRepo/baseModel.py:565: UserWarning: To copy construct from a tensor, it is recommended to use sourceTensor.clone().detach() or sourceTensor.clone().detach().requires_grad_(True), rather than torch.tensor(sourceTensor).\n",
      "  return predicted, actual, torch.tensor(loss).item()/totalCount, predicted_probs\n",
      "../centralRepo/baseModel.py:565: UserWarning: To copy construct from a tensor, it is recommended to use sourceTensor.clone().detach() or sourceTensor.clone().detach().requires_grad_(True), rather than torch.tensor(sourceTensor).\n",
      "  return predicted, actual, torch.tensor(loss).item()/totalCount, predicted_probs\n"
     ]
    },
    {
     "name": "stdout",
     "output_type": "stream",
     "text": [
      "Results for model fbcnet 6 {'acc': 0.5034722222222222, 'cm': array([[42, 11, 14,  5],\n",
      "       [31, 25, 10,  6],\n",
      "       [ 4,  3, 62,  3],\n",
      "       [34, 14,  8, 16]]), 'loss': 1.1183867984347873}\n",
      "Code will be running on device  cuda:0\n"
     ]
    },
    {
     "name": "stderr",
     "output_type": "stream",
     "text": [
      "../centralRepo/baseModel.py:565: UserWarning: To copy construct from a tensor, it is recommended to use sourceTensor.clone().detach() or sourceTensor.clone().detach().requires_grad_(True), rather than torch.tensor(sourceTensor).\n",
      "  return predicted, actual, torch.tensor(loss).item()/totalCount, predicted_probs\n",
      "../centralRepo/baseModel.py:565: UserWarning: To copy construct from a tensor, it is recommended to use sourceTensor.clone().detach() or sourceTensor.clone().detach().requires_grad_(True), rather than torch.tensor(sourceTensor).\n",
      "  return predicted, actual, torch.tensor(loss).item()/totalCount, predicted_probs\n"
     ]
    },
    {
     "name": "stdout",
     "output_type": "stream",
     "text": [
      "Results for model eegnet 6 {'acc': 0.4791666666666667, 'cm': array([[29, 20, 16,  7],\n",
      "       [20, 32, 13,  7],\n",
      "       [ 9, 10, 49,  4],\n",
      "       [15, 16, 13, 28]]), 'loss': 1.5870674981011286}\n",
      "Code will be running on device  cuda:0\n"
     ]
    },
    {
     "name": "stderr",
     "output_type": "stream",
     "text": [
      "../centralRepo/baseModel.py:565: UserWarning: To copy construct from a tensor, it is recommended to use sourceTensor.clone().detach() or sourceTensor.clone().detach().requires_grad_(True), rather than torch.tensor(sourceTensor).\n",
      "  return predicted, actual, torch.tensor(loss).item()/totalCount, predicted_probs\n",
      "../centralRepo/baseModel.py:565: UserWarning: To copy construct from a tensor, it is recommended to use sourceTensor.clone().detach() or sourceTensor.clone().detach().requires_grad_(True), rather than torch.tensor(sourceTensor).\n",
      "  return predicted, actual, torch.tensor(loss).item()/totalCount, predicted_probs\n"
     ]
    },
    {
     "name": "stdout",
     "output_type": "stream",
     "text": [
      "Results for model fbcnet 7 {'acc': 0.5, 'cm': array([[28, 29, 12,  3],\n",
      "       [16, 43,  7,  6],\n",
      "       [ 5,  4, 60,  3],\n",
      "       [23, 29,  7, 13]]), 'loss': 1.172980096605089}\n",
      "Code will be running on device  cuda:0\n"
     ]
    },
    {
     "name": "stderr",
     "output_type": "stream",
     "text": [
      "../centralRepo/baseModel.py:565: UserWarning: To copy construct from a tensor, it is recommended to use sourceTensor.clone().detach() or sourceTensor.clone().detach().requires_grad_(True), rather than torch.tensor(sourceTensor).\n",
      "  return predicted, actual, torch.tensor(loss).item()/totalCount, predicted_probs\n",
      "../centralRepo/baseModel.py:565: UserWarning: To copy construct from a tensor, it is recommended to use sourceTensor.clone().detach() or sourceTensor.clone().detach().requires_grad_(True), rather than torch.tensor(sourceTensor).\n",
      "  return predicted, actual, torch.tensor(loss).item()/totalCount, predicted_probs\n"
     ]
    },
    {
     "name": "stdout",
     "output_type": "stream",
     "text": [
      "Results for model eegnet 7 {'acc': 0.4895833333333333, 'cm': array([[34, 23,  8,  7],\n",
      "       [22, 34, 10,  6],\n",
      "       [19, 12, 37,  4],\n",
      "       [11, 17,  8, 36]]), 'loss': 1.4669240315755208}\n",
      "Code will be running on device  cuda:0\n"
     ]
    },
    {
     "name": "stderr",
     "output_type": "stream",
     "text": [
      "../centralRepo/baseModel.py:565: UserWarning: To copy construct from a tensor, it is recommended to use sourceTensor.clone().detach() or sourceTensor.clone().detach().requires_grad_(True), rather than torch.tensor(sourceTensor).\n",
      "  return predicted, actual, torch.tensor(loss).item()/totalCount, predicted_probs\n",
      "../centralRepo/baseModel.py:565: UserWarning: To copy construct from a tensor, it is recommended to use sourceTensor.clone().detach() or sourceTensor.clone().detach().requires_grad_(True), rather than torch.tensor(sourceTensor).\n",
      "  return predicted, actual, torch.tensor(loss).item()/totalCount, predicted_probs\n"
     ]
    },
    {
     "name": "stdout",
     "output_type": "stream",
     "text": [
      "Results for model fbcnet 8 {'acc': 0.4756944444444444, 'cm': array([[30, 26, 13,  3],\n",
      "       [30, 32,  6,  4],\n",
      "       [ 7,  4, 60,  1],\n",
      "       [24, 24,  9, 15]]), 'loss': 1.1395355860392253}\n",
      "Code will be running on device  cuda:0\n"
     ]
    },
    {
     "name": "stderr",
     "output_type": "stream",
     "text": [
      "../centralRepo/baseModel.py:565: UserWarning: To copy construct from a tensor, it is recommended to use sourceTensor.clone().detach() or sourceTensor.clone().detach().requires_grad_(True), rather than torch.tensor(sourceTensor).\n",
      "  return predicted, actual, torch.tensor(loss).item()/totalCount, predicted_probs\n",
      "../centralRepo/baseModel.py:565: UserWarning: To copy construct from a tensor, it is recommended to use sourceTensor.clone().detach() or sourceTensor.clone().detach().requires_grad_(True), rather than torch.tensor(sourceTensor).\n",
      "  return predicted, actual, torch.tensor(loss).item()/totalCount, predicted_probs\n"
     ]
    },
    {
     "name": "stdout",
     "output_type": "stream",
     "text": [
      "Results for model eegnet 8 {'acc': 0.4756944444444444, 'cm': array([[27, 23,  6, 16],\n",
      "       [17, 41,  7,  7],\n",
      "       [ 7, 19, 38,  8],\n",
      "       [12, 13, 16, 31]]), 'loss': 1.5588834550645616}\n",
      "Theoretical max accuracy: 0.9652777777777778\n",
      "Testing subject 003 with all models...\n",
      "Code will be running on device  cuda:0\n"
     ]
    },
    {
     "name": "stderr",
     "output_type": "stream",
     "text": [
      "../centralRepo/baseModel.py:565: UserWarning: To copy construct from a tensor, it is recommended to use sourceTensor.clone().detach() or sourceTensor.clone().detach().requires_grad_(True), rather than torch.tensor(sourceTensor).\n",
      "  return predicted, actual, torch.tensor(loss).item()/totalCount, predicted_probs\n",
      "../centralRepo/baseModel.py:565: UserWarning: To copy construct from a tensor, it is recommended to use sourceTensor.clone().detach() or sourceTensor.clone().detach().requires_grad_(True), rather than torch.tensor(sourceTensor).\n",
      "  return predicted, actual, torch.tensor(loss).item()/totalCount, predicted_probs\n"
     ]
    },
    {
     "name": "stdout",
     "output_type": "stream",
     "text": [
      "Results for model fbcnet 0 {'acc': 0.8229166666666666, 'cm': array([[52,  8,  3,  9],\n",
      "       [ 0, 70,  0,  2],\n",
      "       [ 0,  5, 49, 18],\n",
      "       [ 1,  1,  4, 66]]), 'loss': 0.4898236592610677}\n",
      "Code will be running on device  cuda:0\n"
     ]
    },
    {
     "name": "stderr",
     "output_type": "stream",
     "text": [
      "../centralRepo/baseModel.py:565: UserWarning: To copy construct from a tensor, it is recommended to use sourceTensor.clone().detach() or sourceTensor.clone().detach().requires_grad_(True), rather than torch.tensor(sourceTensor).\n",
      "  return predicted, actual, torch.tensor(loss).item()/totalCount, predicted_probs\n",
      "../centralRepo/baseModel.py:565: UserWarning: To copy construct from a tensor, it is recommended to use sourceTensor.clone().detach() or sourceTensor.clone().detach().requires_grad_(True), rather than torch.tensor(sourceTensor).\n",
      "  return predicted, actual, torch.tensor(loss).item()/totalCount, predicted_probs\n"
     ]
    },
    {
     "name": "stdout",
     "output_type": "stream",
     "text": [
      "Results for model eegnet 0 {'acc': 0.7986111111111112, 'cm': array([[49, 14,  7,  2],\n",
      "       [ 1, 63,  7,  1],\n",
      "       [ 0, 10, 60,  2],\n",
      "       [ 1,  4,  9, 58]]), 'loss': 0.6582983864678277}\n",
      "Code will be running on device  cuda:0\n"
     ]
    },
    {
     "name": "stderr",
     "output_type": "stream",
     "text": [
      "../centralRepo/baseModel.py:565: UserWarning: To copy construct from a tensor, it is recommended to use sourceTensor.clone().detach() or sourceTensor.clone().detach().requires_grad_(True), rather than torch.tensor(sourceTensor).\n",
      "  return predicted, actual, torch.tensor(loss).item()/totalCount, predicted_probs\n",
      "../centralRepo/baseModel.py:565: UserWarning: To copy construct from a tensor, it is recommended to use sourceTensor.clone().detach() or sourceTensor.clone().detach().requires_grad_(True), rather than torch.tensor(sourceTensor).\n",
      "  return predicted, actual, torch.tensor(loss).item()/totalCount, predicted_probs\n"
     ]
    },
    {
     "name": "stdout",
     "output_type": "stream",
     "text": [
      "Results for model fbcnet 1 {'acc': 0.7881944444444444, 'cm': array([[62,  7,  3,  0],\n",
      "       [ 3, 69,  0,  0],\n",
      "       [ 8, 13, 44,  7],\n",
      "       [ 6,  2, 12, 52]]), 'loss': 0.581877867380778}\n",
      "Code will be running on device  cuda:0\n"
     ]
    },
    {
     "name": "stderr",
     "output_type": "stream",
     "text": [
      "../centralRepo/baseModel.py:565: UserWarning: To copy construct from a tensor, it is recommended to use sourceTensor.clone().detach() or sourceTensor.clone().detach().requires_grad_(True), rather than torch.tensor(sourceTensor).\n",
      "  return predicted, actual, torch.tensor(loss).item()/totalCount, predicted_probs\n",
      "../centralRepo/baseModel.py:565: UserWarning: To copy construct from a tensor, it is recommended to use sourceTensor.clone().detach() or sourceTensor.clone().detach().requires_grad_(True), rather than torch.tensor(sourceTensor).\n",
      "  return predicted, actual, torch.tensor(loss).item()/totalCount, predicted_probs\n"
     ]
    },
    {
     "name": "stdout",
     "output_type": "stream",
     "text": [
      "Results for model eegnet 1 {'acc': 0.6215277777777778, 'cm': array([[35, 15, 17,  5],\n",
      "       [13, 47, 11,  1],\n",
      "       [ 9,  9, 54,  0],\n",
      "       [ 7, 18,  4, 43]]), 'loss': 1.220675786336263}\n",
      "Code will be running on device  cuda:0\n"
     ]
    },
    {
     "name": "stderr",
     "output_type": "stream",
     "text": [
      "../centralRepo/baseModel.py:565: UserWarning: To copy construct from a tensor, it is recommended to use sourceTensor.clone().detach() or sourceTensor.clone().detach().requires_grad_(True), rather than torch.tensor(sourceTensor).\n",
      "  return predicted, actual, torch.tensor(loss).item()/totalCount, predicted_probs\n",
      "../centralRepo/baseModel.py:565: UserWarning: To copy construct from a tensor, it is recommended to use sourceTensor.clone().detach() or sourceTensor.clone().detach().requires_grad_(True), rather than torch.tensor(sourceTensor).\n",
      "  return predicted, actual, torch.tensor(loss).item()/totalCount, predicted_probs\n"
     ]
    },
    {
     "name": "stdout",
     "output_type": "stream",
     "text": [
      "Results for model fbcnet 3 {'acc': 0.8229166666666666, 'cm': array([[64,  2,  5,  1],\n",
      "       [ 2, 66,  3,  1],\n",
      "       [ 6,  4, 45, 17],\n",
      "       [ 5,  1,  4, 62]]), 'loss': 0.5377021895514594}\n",
      "Code will be running on device  cuda:0\n"
     ]
    },
    {
     "name": "stderr",
     "output_type": "stream",
     "text": [
      "../centralRepo/baseModel.py:565: UserWarning: To copy construct from a tensor, it is recommended to use sourceTensor.clone().detach() or sourceTensor.clone().detach().requires_grad_(True), rather than torch.tensor(sourceTensor).\n",
      "  return predicted, actual, torch.tensor(loss).item()/totalCount, predicted_probs\n",
      "../centralRepo/baseModel.py:565: UserWarning: To copy construct from a tensor, it is recommended to use sourceTensor.clone().detach() or sourceTensor.clone().detach().requires_grad_(True), rather than torch.tensor(sourceTensor).\n",
      "  return predicted, actual, torch.tensor(loss).item()/totalCount, predicted_probs\n"
     ]
    },
    {
     "name": "stdout",
     "output_type": "stream",
     "text": [
      "Results for model eegnet 3 {'acc': 0.6944444444444444, 'cm': array([[44, 10, 12,  6],\n",
      "       [11, 46,  4, 11],\n",
      "       [11, 11, 50,  0],\n",
      "       [ 4,  5,  3, 60]]), 'loss': 0.9359094831678603}\n",
      "Code will be running on device  cuda:0\n"
     ]
    },
    {
     "name": "stderr",
     "output_type": "stream",
     "text": [
      "../centralRepo/baseModel.py:565: UserWarning: To copy construct from a tensor, it is recommended to use sourceTensor.clone().detach() or sourceTensor.clone().detach().requires_grad_(True), rather than torch.tensor(sourceTensor).\n",
      "  return predicted, actual, torch.tensor(loss).item()/totalCount, predicted_probs\n",
      "../centralRepo/baseModel.py:565: UserWarning: To copy construct from a tensor, it is recommended to use sourceTensor.clone().detach() or sourceTensor.clone().detach().requires_grad_(True), rather than torch.tensor(sourceTensor).\n",
      "  return predicted, actual, torch.tensor(loss).item()/totalCount, predicted_probs\n"
     ]
    },
    {
     "name": "stdout",
     "output_type": "stream",
     "text": [
      "Results for model fbcnet 4 {'acc': 0.7777777777777778, 'cm': array([[54, 12,  4,  2],\n",
      "       [ 1, 69,  1,  1],\n",
      "       [ 4, 17, 36, 15],\n",
      "       [ 5,  1,  1, 65]]), 'loss': 0.6016759342617459}\n",
      "Code will be running on device  cuda:0\n"
     ]
    },
    {
     "name": "stderr",
     "output_type": "stream",
     "text": [
      "../centralRepo/baseModel.py:565: UserWarning: To copy construct from a tensor, it is recommended to use sourceTensor.clone().detach() or sourceTensor.clone().detach().requires_grad_(True), rather than torch.tensor(sourceTensor).\n",
      "  return predicted, actual, torch.tensor(loss).item()/totalCount, predicted_probs\n",
      "../centralRepo/baseModel.py:565: UserWarning: To copy construct from a tensor, it is recommended to use sourceTensor.clone().detach() or sourceTensor.clone().detach().requires_grad_(True), rather than torch.tensor(sourceTensor).\n",
      "  return predicted, actual, torch.tensor(loss).item()/totalCount, predicted_probs\n"
     ]
    },
    {
     "name": "stdout",
     "output_type": "stream",
     "text": [
      "Results for model eegnet 4 {'acc': 0.6284722222222222, 'cm': array([[39, 13, 12,  8],\n",
      "       [19, 39,  7,  7],\n",
      "       [ 5,  6, 61,  0],\n",
      "       [ 4, 18,  8, 42]]), 'loss': 1.00994873046875}\n",
      "Code will be running on device  cuda:0\n"
     ]
    },
    {
     "name": "stderr",
     "output_type": "stream",
     "text": [
      "../centralRepo/baseModel.py:565: UserWarning: To copy construct from a tensor, it is recommended to use sourceTensor.clone().detach() or sourceTensor.clone().detach().requires_grad_(True), rather than torch.tensor(sourceTensor).\n",
      "  return predicted, actual, torch.tensor(loss).item()/totalCount, predicted_probs\n",
      "../centralRepo/baseModel.py:565: UserWarning: To copy construct from a tensor, it is recommended to use sourceTensor.clone().detach() or sourceTensor.clone().detach().requires_grad_(True), rather than torch.tensor(sourceTensor).\n",
      "  return predicted, actual, torch.tensor(loss).item()/totalCount, predicted_probs\n"
     ]
    },
    {
     "name": "stdout",
     "output_type": "stream",
     "text": [
      "Results for model fbcnet 5 {'acc': 0.78125, 'cm': array([[55,  1, 11,  5],\n",
      "       [ 9, 51,  9,  3],\n",
      "       [ 3,  1, 53, 15],\n",
      "       [ 1,  0,  5, 66]]), 'loss': 0.6244690153333876}\n",
      "Code will be running on device  cuda:0\n"
     ]
    },
    {
     "name": "stderr",
     "output_type": "stream",
     "text": [
      "../centralRepo/baseModel.py:565: UserWarning: To copy construct from a tensor, it is recommended to use sourceTensor.clone().detach() or sourceTensor.clone().detach().requires_grad_(True), rather than torch.tensor(sourceTensor).\n",
      "  return predicted, actual, torch.tensor(loss).item()/totalCount, predicted_probs\n",
      "../centralRepo/baseModel.py:565: UserWarning: To copy construct from a tensor, it is recommended to use sourceTensor.clone().detach() or sourceTensor.clone().detach().requires_grad_(True), rather than torch.tensor(sourceTensor).\n",
      "  return predicted, actual, torch.tensor(loss).item()/totalCount, predicted_probs\n"
     ]
    },
    {
     "name": "stdout",
     "output_type": "stream",
     "text": [
      "Results for model eegnet 5 {'acc': 0.6215277777777778, 'cm': array([[37, 16, 11,  8],\n",
      "       [12, 51,  4,  5],\n",
      "       [ 9,  6, 56,  1],\n",
      "       [ 8, 22,  7, 35]]), 'loss': 1.06769773695204}\n",
      "Code will be running on device  cuda:0\n"
     ]
    },
    {
     "name": "stderr",
     "output_type": "stream",
     "text": [
      "../centralRepo/baseModel.py:565: UserWarning: To copy construct from a tensor, it is recommended to use sourceTensor.clone().detach() or sourceTensor.clone().detach().requires_grad_(True), rather than torch.tensor(sourceTensor).\n",
      "  return predicted, actual, torch.tensor(loss).item()/totalCount, predicted_probs\n",
      "../centralRepo/baseModel.py:565: UserWarning: To copy construct from a tensor, it is recommended to use sourceTensor.clone().detach() or sourceTensor.clone().detach().requires_grad_(True), rather than torch.tensor(sourceTensor).\n",
      "  return predicted, actual, torch.tensor(loss).item()/totalCount, predicted_probs\n"
     ]
    },
    {
     "name": "stdout",
     "output_type": "stream",
     "text": [
      "Results for model fbcnet 6 {'acc': 0.7847222222222222, 'cm': array([[59, 11,  1,  1],\n",
      "       [ 2, 70,  0,  0],\n",
      "       [ 9, 11, 49,  3],\n",
      "       [ 9,  3, 12, 48]]), 'loss': 0.6138793627421061}\n",
      "Code will be running on device  cuda:0\n"
     ]
    },
    {
     "name": "stderr",
     "output_type": "stream",
     "text": [
      "../centralRepo/baseModel.py:565: UserWarning: To copy construct from a tensor, it is recommended to use sourceTensor.clone().detach() or sourceTensor.clone().detach().requires_grad_(True), rather than torch.tensor(sourceTensor).\n",
      "  return predicted, actual, torch.tensor(loss).item()/totalCount, predicted_probs\n",
      "../centralRepo/baseModel.py:565: UserWarning: To copy construct from a tensor, it is recommended to use sourceTensor.clone().detach() or sourceTensor.clone().detach().requires_grad_(True), rather than torch.tensor(sourceTensor).\n",
      "  return predicted, actual, torch.tensor(loss).item()/totalCount, predicted_probs\n"
     ]
    },
    {
     "name": "stdout",
     "output_type": "stream",
     "text": [
      "Results for model eegnet 6 {'acc': 0.6701388888888888, 'cm': array([[37, 20, 12,  3],\n",
      "       [ 9, 47, 12,  4],\n",
      "       [ 6,  9, 55,  2],\n",
      "       [ 3, 10,  5, 54]]), 'loss': 0.9583453072441949}\n",
      "Code will be running on device  cuda:0\n"
     ]
    },
    {
     "name": "stderr",
     "output_type": "stream",
     "text": [
      "../centralRepo/baseModel.py:565: UserWarning: To copy construct from a tensor, it is recommended to use sourceTensor.clone().detach() or sourceTensor.clone().detach().requires_grad_(True), rather than torch.tensor(sourceTensor).\n",
      "  return predicted, actual, torch.tensor(loss).item()/totalCount, predicted_probs\n",
      "../centralRepo/baseModel.py:565: UserWarning: To copy construct from a tensor, it is recommended to use sourceTensor.clone().detach() or sourceTensor.clone().detach().requires_grad_(True), rather than torch.tensor(sourceTensor).\n",
      "  return predicted, actual, torch.tensor(loss).item()/totalCount, predicted_probs\n"
     ]
    },
    {
     "name": "stdout",
     "output_type": "stream",
     "text": [
      "Results for model fbcnet 7 {'acc': 0.7361111111111112, 'cm': array([[57,  7,  0,  8],\n",
      "       [ 8, 59,  0,  5],\n",
      "       [ 7, 11, 26, 28],\n",
      "       [ 0,  1,  1, 70]]), 'loss': 0.6888613171047635}\n",
      "Code will be running on device  cuda:0\n"
     ]
    },
    {
     "name": "stderr",
     "output_type": "stream",
     "text": [
      "../centralRepo/baseModel.py:565: UserWarning: To copy construct from a tensor, it is recommended to use sourceTensor.clone().detach() or sourceTensor.clone().detach().requires_grad_(True), rather than torch.tensor(sourceTensor).\n",
      "  return predicted, actual, torch.tensor(loss).item()/totalCount, predicted_probs\n",
      "../centralRepo/baseModel.py:565: UserWarning: To copy construct from a tensor, it is recommended to use sourceTensor.clone().detach() or sourceTensor.clone().detach().requires_grad_(True), rather than torch.tensor(sourceTensor).\n",
      "  return predicted, actual, torch.tensor(loss).item()/totalCount, predicted_probs\n"
     ]
    },
    {
     "name": "stdout",
     "output_type": "stream",
     "text": [
      "Results for model eegnet 7 {'acc': 0.6805555555555556, 'cm': array([[38, 15, 13,  6],\n",
      "       [ 6, 47, 15,  4],\n",
      "       [ 4,  7, 61,  0],\n",
      "       [ 3, 12,  7, 50]]), 'loss': 0.8248392211066352}\n",
      "Code will be running on device  cuda:0\n"
     ]
    },
    {
     "name": "stderr",
     "output_type": "stream",
     "text": [
      "../centralRepo/baseModel.py:565: UserWarning: To copy construct from a tensor, it is recommended to use sourceTensor.clone().detach() or sourceTensor.clone().detach().requires_grad_(True), rather than torch.tensor(sourceTensor).\n",
      "  return predicted, actual, torch.tensor(loss).item()/totalCount, predicted_probs\n",
      "../centralRepo/baseModel.py:565: UserWarning: To copy construct from a tensor, it is recommended to use sourceTensor.clone().detach() or sourceTensor.clone().detach().requires_grad_(True), rather than torch.tensor(sourceTensor).\n",
      "  return predicted, actual, torch.tensor(loss).item()/totalCount, predicted_probs\n"
     ]
    },
    {
     "name": "stdout",
     "output_type": "stream",
     "text": [
      "Results for model fbcnet 8 {'acc': 0.8229166666666666, 'cm': array([[69,  3,  0,  0],\n",
      "       [ 2, 68,  2,  0],\n",
      "       [ 6, 11, 43, 12],\n",
      "       [ 3,  1, 11, 57]]), 'loss': 0.492451720767551}\n",
      "Code will be running on device  cuda:0\n"
     ]
    },
    {
     "name": "stderr",
     "output_type": "stream",
     "text": [
      "../centralRepo/baseModel.py:565: UserWarning: To copy construct from a tensor, it is recommended to use sourceTensor.clone().detach() or sourceTensor.clone().detach().requires_grad_(True), rather than torch.tensor(sourceTensor).\n",
      "  return predicted, actual, torch.tensor(loss).item()/totalCount, predicted_probs\n",
      "../centralRepo/baseModel.py:565: UserWarning: To copy construct from a tensor, it is recommended to use sourceTensor.clone().detach() or sourceTensor.clone().detach().requires_grad_(True), rather than torch.tensor(sourceTensor).\n",
      "  return predicted, actual, torch.tensor(loss).item()/totalCount, predicted_probs\n"
     ]
    },
    {
     "name": "stdout",
     "output_type": "stream",
     "text": [
      "Results for model eegnet 8 {'acc': 0.7152777777777778, 'cm': array([[50, 11,  6,  5],\n",
      "       [13, 45, 11,  3],\n",
      "       [ 1,  7, 59,  5],\n",
      "       [ 3,  5, 12, 52]]), 'loss': 1.0017035802205403}\n",
      "Theoretical max accuracy: 1.0\n",
      "Testing subject 004 with all models...\n",
      "Code will be running on device  cuda:0\n"
     ]
    },
    {
     "name": "stderr",
     "output_type": "stream",
     "text": [
      "../centralRepo/baseModel.py:565: UserWarning: To copy construct from a tensor, it is recommended to use sourceTensor.clone().detach() or sourceTensor.clone().detach().requires_grad_(True), rather than torch.tensor(sourceTensor).\n",
      "  return predicted, actual, torch.tensor(loss).item()/totalCount, predicted_probs\n",
      "../centralRepo/baseModel.py:565: UserWarning: To copy construct from a tensor, it is recommended to use sourceTensor.clone().detach() or sourceTensor.clone().detach().requires_grad_(True), rather than torch.tensor(sourceTensor).\n",
      "  return predicted, actual, torch.tensor(loss).item()/totalCount, predicted_probs\n"
     ]
    },
    {
     "name": "stdout",
     "output_type": "stream",
     "text": [
      "Results for model fbcnet 0 {'acc': 0.5451388888888888, 'cm': array([[37, 30,  0,  5],\n",
      "       [ 7, 61,  0,  4],\n",
      "       [ 9, 18, 16, 29],\n",
      "       [ 6, 23,  0, 43]]), 'loss': 1.0261107550726996}\n",
      "Code will be running on device  cuda:0\n"
     ]
    },
    {
     "name": "stderr",
     "output_type": "stream",
     "text": [
      "../centralRepo/baseModel.py:565: UserWarning: To copy construct from a tensor, it is recommended to use sourceTensor.clone().detach() or sourceTensor.clone().detach().requires_grad_(True), rather than torch.tensor(sourceTensor).\n",
      "  return predicted, actual, torch.tensor(loss).item()/totalCount, predicted_probs\n",
      "../centralRepo/baseModel.py:565: UserWarning: To copy construct from a tensor, it is recommended to use sourceTensor.clone().detach() or sourceTensor.clone().detach().requires_grad_(True), rather than torch.tensor(sourceTensor).\n",
      "  return predicted, actual, torch.tensor(loss).item()/totalCount, predicted_probs\n"
     ]
    },
    {
     "name": "stdout",
     "output_type": "stream",
     "text": [
      "Results for model eegnet 0 {'acc': 0.5277777777777778, 'cm': array([[49,  7, 11,  5],\n",
      "       [13, 31, 16, 12],\n",
      "       [10, 12, 42,  8],\n",
      "       [13, 14, 15, 30]]), 'loss': 1.303060319688585}\n",
      "Code will be running on device  cuda:0\n"
     ]
    },
    {
     "name": "stderr",
     "output_type": "stream",
     "text": [
      "../centralRepo/baseModel.py:565: UserWarning: To copy construct from a tensor, it is recommended to use sourceTensor.clone().detach() or sourceTensor.clone().detach().requires_grad_(True), rather than torch.tensor(sourceTensor).\n",
      "  return predicted, actual, torch.tensor(loss).item()/totalCount, predicted_probs\n",
      "../centralRepo/baseModel.py:565: UserWarning: To copy construct from a tensor, it is recommended to use sourceTensor.clone().detach() or sourceTensor.clone().detach().requires_grad_(True), rather than torch.tensor(sourceTensor).\n",
      "  return predicted, actual, torch.tensor(loss).item()/totalCount, predicted_probs\n"
     ]
    },
    {
     "name": "stdout",
     "output_type": "stream",
     "text": [
      "Results for model fbcnet 1 {'acc': 0.6770833333333334, 'cm': array([[50, 12,  8,  2],\n",
      "       [12, 46, 10,  4],\n",
      "       [ 4,  3, 55, 10],\n",
      "       [ 6,  8, 14, 44]]), 'loss': 0.9313543107774522}\n",
      "Code will be running on device  cuda:0\n"
     ]
    },
    {
     "name": "stderr",
     "output_type": "stream",
     "text": [
      "../centralRepo/baseModel.py:565: UserWarning: To copy construct from a tensor, it is recommended to use sourceTensor.clone().detach() or sourceTensor.clone().detach().requires_grad_(True), rather than torch.tensor(sourceTensor).\n",
      "  return predicted, actual, torch.tensor(loss).item()/totalCount, predicted_probs\n",
      "../centralRepo/baseModel.py:565: UserWarning: To copy construct from a tensor, it is recommended to use sourceTensor.clone().detach() or sourceTensor.clone().detach().requires_grad_(True), rather than torch.tensor(sourceTensor).\n",
      "  return predicted, actual, torch.tensor(loss).item()/totalCount, predicted_probs\n"
     ]
    },
    {
     "name": "stdout",
     "output_type": "stream",
     "text": [
      "Results for model eegnet 1 {'acc': 0.5590277777777778, 'cm': array([[42, 14,  9,  7],\n",
      "       [14, 37, 11, 10],\n",
      "       [12, 11, 44,  5],\n",
      "       [14, 12,  8, 38]]), 'loss': 1.3374705844455295}\n",
      "Code will be running on device  cuda:0\n"
     ]
    },
    {
     "name": "stderr",
     "output_type": "stream",
     "text": [
      "../centralRepo/baseModel.py:565: UserWarning: To copy construct from a tensor, it is recommended to use sourceTensor.clone().detach() or sourceTensor.clone().detach().requires_grad_(True), rather than torch.tensor(sourceTensor).\n",
      "  return predicted, actual, torch.tensor(loss).item()/totalCount, predicted_probs\n",
      "../centralRepo/baseModel.py:565: UserWarning: To copy construct from a tensor, it is recommended to use sourceTensor.clone().detach() or sourceTensor.clone().detach().requires_grad_(True), rather than torch.tensor(sourceTensor).\n",
      "  return predicted, actual, torch.tensor(loss).item()/totalCount, predicted_probs\n"
     ]
    },
    {
     "name": "stdout",
     "output_type": "stream",
     "text": [
      "Results for model fbcnet 2 {'acc': 0.5208333333333334, 'cm': array([[55, 12,  1,  4],\n",
      "       [21, 47,  1,  3],\n",
      "       [27, 14, 19, 12],\n",
      "       [22, 20,  1, 29]]), 'loss': 1.1056012047661676}\n",
      "Code will be running on device  cuda:0\n"
     ]
    },
    {
     "name": "stderr",
     "output_type": "stream",
     "text": [
      "../centralRepo/baseModel.py:565: UserWarning: To copy construct from a tensor, it is recommended to use sourceTensor.clone().detach() or sourceTensor.clone().detach().requires_grad_(True), rather than torch.tensor(sourceTensor).\n",
      "  return predicted, actual, torch.tensor(loss).item()/totalCount, predicted_probs\n",
      "../centralRepo/baseModel.py:565: UserWarning: To copy construct from a tensor, it is recommended to use sourceTensor.clone().detach() or sourceTensor.clone().detach().requires_grad_(True), rather than torch.tensor(sourceTensor).\n",
      "  return predicted, actual, torch.tensor(loss).item()/totalCount, predicted_probs\n"
     ]
    },
    {
     "name": "stdout",
     "output_type": "stream",
     "text": [
      "Results for model eegnet 2 {'acc': 0.5451388888888888, 'cm': array([[46, 11,  8,  7],\n",
      "       [11, 43,  7, 11],\n",
      "       [11, 15, 35, 11],\n",
      "       [ 7, 18, 14, 33]]), 'loss': 1.3703818851047092}\n",
      "Code will be running on device  cuda:0\n"
     ]
    },
    {
     "name": "stderr",
     "output_type": "stream",
     "text": [
      "../centralRepo/baseModel.py:565: UserWarning: To copy construct from a tensor, it is recommended to use sourceTensor.clone().detach() or sourceTensor.clone().detach().requires_grad_(True), rather than torch.tensor(sourceTensor).\n",
      "  return predicted, actual, torch.tensor(loss).item()/totalCount, predicted_probs\n",
      "../centralRepo/baseModel.py:565: UserWarning: To copy construct from a tensor, it is recommended to use sourceTensor.clone().detach() or sourceTensor.clone().detach().requires_grad_(True), rather than torch.tensor(sourceTensor).\n",
      "  return predicted, actual, torch.tensor(loss).item()/totalCount, predicted_probs\n"
     ]
    },
    {
     "name": "stdout",
     "output_type": "stream",
     "text": [
      "Results for model fbcnet 4 {'acc': 0.6006944444444444, 'cm': array([[52, 15,  1,  4],\n",
      "       [19, 41,  4,  8],\n",
      "       [ 5, 11, 32, 24],\n",
      "       [ 7, 12,  5, 48]]), 'loss': 0.9371049669053819}\n",
      "Code will be running on device  cuda:0\n"
     ]
    },
    {
     "name": "stderr",
     "output_type": "stream",
     "text": [
      "../centralRepo/baseModel.py:565: UserWarning: To copy construct from a tensor, it is recommended to use sourceTensor.clone().detach() or sourceTensor.clone().detach().requires_grad_(True), rather than torch.tensor(sourceTensor).\n",
      "  return predicted, actual, torch.tensor(loss).item()/totalCount, predicted_probs\n",
      "../centralRepo/baseModel.py:565: UserWarning: To copy construct from a tensor, it is recommended to use sourceTensor.clone().detach() or sourceTensor.clone().detach().requires_grad_(True), rather than torch.tensor(sourceTensor).\n",
      "  return predicted, actual, torch.tensor(loss).item()/totalCount, predicted_probs\n"
     ]
    },
    {
     "name": "stdout",
     "output_type": "stream",
     "text": [
      "Results for model eegnet 4 {'acc': 0.5069444444444444, 'cm': array([[41, 14,  9,  8],\n",
      "       [11, 34,  6, 21],\n",
      "       [10, 11, 37, 14],\n",
      "       [ 8, 15, 15, 34]]), 'loss': 1.4205457899305556}\n",
      "Code will be running on device  cuda:0\n"
     ]
    },
    {
     "name": "stderr",
     "output_type": "stream",
     "text": [
      "../centralRepo/baseModel.py:565: UserWarning: To copy construct from a tensor, it is recommended to use sourceTensor.clone().detach() or sourceTensor.clone().detach().requires_grad_(True), rather than torch.tensor(sourceTensor).\n",
      "  return predicted, actual, torch.tensor(loss).item()/totalCount, predicted_probs\n",
      "../centralRepo/baseModel.py:565: UserWarning: To copy construct from a tensor, it is recommended to use sourceTensor.clone().detach() or sourceTensor.clone().detach().requires_grad_(True), rather than torch.tensor(sourceTensor).\n",
      "  return predicted, actual, torch.tensor(loss).item()/totalCount, predicted_probs\n"
     ]
    },
    {
     "name": "stdout",
     "output_type": "stream",
     "text": [
      "Results for model fbcnet 5 {'acc': 0.5625, 'cm': array([[60,  5,  4,  3],\n",
      "       [36, 28,  7,  1],\n",
      "       [14,  4, 41, 13],\n",
      "       [18,  8, 13, 33]]), 'loss': 0.990947405497233}\n",
      "Code will be running on device  cuda:0\n"
     ]
    },
    {
     "name": "stderr",
     "output_type": "stream",
     "text": [
      "../centralRepo/baseModel.py:565: UserWarning: To copy construct from a tensor, it is recommended to use sourceTensor.clone().detach() or sourceTensor.clone().detach().requires_grad_(True), rather than torch.tensor(sourceTensor).\n",
      "  return predicted, actual, torch.tensor(loss).item()/totalCount, predicted_probs\n",
      "../centralRepo/baseModel.py:565: UserWarning: To copy construct from a tensor, it is recommended to use sourceTensor.clone().detach() or sourceTensor.clone().detach().requires_grad_(True), rather than torch.tensor(sourceTensor).\n",
      "  return predicted, actual, torch.tensor(loss).item()/totalCount, predicted_probs\n"
     ]
    },
    {
     "name": "stdout",
     "output_type": "stream",
     "text": [
      "Results for model eegnet 5 {'acc': 0.4826388888888889, 'cm': array([[40, 14, 12,  6],\n",
      "       [18, 30, 16,  8],\n",
      "       [ 9, 17, 38,  8],\n",
      "       [15, 12, 14, 31]]), 'loss': 1.4800874922010634}\n",
      "Code will be running on device  cuda:0\n"
     ]
    },
    {
     "name": "stderr",
     "output_type": "stream",
     "text": [
      "../centralRepo/baseModel.py:565: UserWarning: To copy construct from a tensor, it is recommended to use sourceTensor.clone().detach() or sourceTensor.clone().detach().requires_grad_(True), rather than torch.tensor(sourceTensor).\n",
      "  return predicted, actual, torch.tensor(loss).item()/totalCount, predicted_probs\n",
      "../centralRepo/baseModel.py:565: UserWarning: To copy construct from a tensor, it is recommended to use sourceTensor.clone().detach() or sourceTensor.clone().detach().requires_grad_(True), rather than torch.tensor(sourceTensor).\n",
      "  return predicted, actual, torch.tensor(loss).item()/totalCount, predicted_probs\n"
     ]
    },
    {
     "name": "stdout",
     "output_type": "stream",
     "text": [
      "Results for model fbcnet 6 {'acc': 0.6354166666666666, 'cm': array([[63,  5,  1,  3],\n",
      "       [22, 41,  2,  7],\n",
      "       [13,  7, 32, 20],\n",
      "       [12, 10,  3, 47]]), 'loss': 0.9155874252319336}\n",
      "Code will be running on device  cuda:0\n"
     ]
    },
    {
     "name": "stderr",
     "output_type": "stream",
     "text": [
      "../centralRepo/baseModel.py:565: UserWarning: To copy construct from a tensor, it is recommended to use sourceTensor.clone().detach() or sourceTensor.clone().detach().requires_grad_(True), rather than torch.tensor(sourceTensor).\n",
      "  return predicted, actual, torch.tensor(loss).item()/totalCount, predicted_probs\n",
      "../centralRepo/baseModel.py:565: UserWarning: To copy construct from a tensor, it is recommended to use sourceTensor.clone().detach() or sourceTensor.clone().detach().requires_grad_(True), rather than torch.tensor(sourceTensor).\n",
      "  return predicted, actual, torch.tensor(loss).item()/totalCount, predicted_probs\n"
     ]
    },
    {
     "name": "stdout",
     "output_type": "stream",
     "text": [
      "Results for model eegnet 6 {'acc': 0.5694444444444444, 'cm': array([[43, 13, 12,  4],\n",
      "       [19, 28, 15, 10],\n",
      "       [ 2,  9, 50, 11],\n",
      "       [10,  9, 10, 43]]), 'loss': 1.279698583814833}\n",
      "Code will be running on device  cuda:0\n"
     ]
    },
    {
     "name": "stderr",
     "output_type": "stream",
     "text": [
      "../centralRepo/baseModel.py:565: UserWarning: To copy construct from a tensor, it is recommended to use sourceTensor.clone().detach() or sourceTensor.clone().detach().requires_grad_(True), rather than torch.tensor(sourceTensor).\n",
      "  return predicted, actual, torch.tensor(loss).item()/totalCount, predicted_probs\n",
      "../centralRepo/baseModel.py:565: UserWarning: To copy construct from a tensor, it is recommended to use sourceTensor.clone().detach() or sourceTensor.clone().detach().requires_grad_(True), rather than torch.tensor(sourceTensor).\n",
      "  return predicted, actual, torch.tensor(loss).item()/totalCount, predicted_probs\n"
     ]
    },
    {
     "name": "stdout",
     "output_type": "stream",
     "text": [
      "Results for model fbcnet 7 {'acc': 0.5381944444444444, 'cm': array([[42,  8, 19,  3],\n",
      "       [15, 29, 20,  8],\n",
      "       [ 6,  3, 40, 23],\n",
      "       [11,  2, 15, 44]]), 'loss': 1.0440571043226454}\n",
      "Code will be running on device  cuda:0\n"
     ]
    },
    {
     "name": "stderr",
     "output_type": "stream",
     "text": [
      "../centralRepo/baseModel.py:565: UserWarning: To copy construct from a tensor, it is recommended to use sourceTensor.clone().detach() or sourceTensor.clone().detach().requires_grad_(True), rather than torch.tensor(sourceTensor).\n",
      "  return predicted, actual, torch.tensor(loss).item()/totalCount, predicted_probs\n",
      "../centralRepo/baseModel.py:565: UserWarning: To copy construct from a tensor, it is recommended to use sourceTensor.clone().detach() or sourceTensor.clone().detach().requires_grad_(True), rather than torch.tensor(sourceTensor).\n",
      "  return predicted, actual, torch.tensor(loss).item()/totalCount, predicted_probs\n"
     ]
    },
    {
     "name": "stdout",
     "output_type": "stream",
     "text": [
      "Results for model eegnet 7 {'acc': 0.5833333333333334, 'cm': array([[54,  6,  8,  4],\n",
      "       [22, 30,  9, 11],\n",
      "       [ 4, 11, 42, 15],\n",
      "       [ 5, 11, 14, 42]]), 'loss': 1.2231838438245985}\n",
      "Code will be running on device  cuda:0\n"
     ]
    },
    {
     "name": "stderr",
     "output_type": "stream",
     "text": [
      "../centralRepo/baseModel.py:565: UserWarning: To copy construct from a tensor, it is recommended to use sourceTensor.clone().detach() or sourceTensor.clone().detach().requires_grad_(True), rather than torch.tensor(sourceTensor).\n",
      "  return predicted, actual, torch.tensor(loss).item()/totalCount, predicted_probs\n",
      "../centralRepo/baseModel.py:565: UserWarning: To copy construct from a tensor, it is recommended to use sourceTensor.clone().detach() or sourceTensor.clone().detach().requires_grad_(True), rather than torch.tensor(sourceTensor).\n",
      "  return predicted, actual, torch.tensor(loss).item()/totalCount, predicted_probs\n"
     ]
    },
    {
     "name": "stdout",
     "output_type": "stream",
     "text": [
      "Results for model fbcnet 8 {'acc': 0.5416666666666666, 'cm': array([[34, 24,  6,  8],\n",
      "       [16, 41,  7,  8],\n",
      "       [ 5,  7, 26, 34],\n",
      "       [ 3, 12,  2, 55]]), 'loss': 1.0457563400268555}\n",
      "Code will be running on device  cuda:0\n"
     ]
    },
    {
     "name": "stderr",
     "output_type": "stream",
     "text": [
      "../centralRepo/baseModel.py:565: UserWarning: To copy construct from a tensor, it is recommended to use sourceTensor.clone().detach() or sourceTensor.clone().detach().requires_grad_(True), rather than torch.tensor(sourceTensor).\n",
      "  return predicted, actual, torch.tensor(loss).item()/totalCount, predicted_probs\n",
      "../centralRepo/baseModel.py:565: UserWarning: To copy construct from a tensor, it is recommended to use sourceTensor.clone().detach() or sourceTensor.clone().detach().requires_grad_(True), rather than torch.tensor(sourceTensor).\n",
      "  return predicted, actual, torch.tensor(loss).item()/totalCount, predicted_probs\n"
     ]
    },
    {
     "name": "stdout",
     "output_type": "stream",
     "text": [
      "Results for model eegnet 8 {'acc': 0.5034722222222222, 'cm': array([[49, 13,  6,  4],\n",
      "       [26, 32,  6,  8],\n",
      "       [15, 15, 26, 16],\n",
      "       [ 9, 16,  9, 38]]), 'loss': 1.3525496588812933}\n",
      "Theoretical max accuracy: 0.9930555555555556\n",
      "Testing subject 005 with all models...\n",
      "Code will be running on device  cuda:0\n"
     ]
    },
    {
     "name": "stderr",
     "output_type": "stream",
     "text": [
      "../centralRepo/baseModel.py:565: UserWarning: To copy construct from a tensor, it is recommended to use sourceTensor.clone().detach() or sourceTensor.clone().detach().requires_grad_(True), rather than torch.tensor(sourceTensor).\n",
      "  return predicted, actual, torch.tensor(loss).item()/totalCount, predicted_probs\n",
      "../centralRepo/baseModel.py:565: UserWarning: To copy construct from a tensor, it is recommended to use sourceTensor.clone().detach() or sourceTensor.clone().detach().requires_grad_(True), rather than torch.tensor(sourceTensor).\n",
      "  return predicted, actual, torch.tensor(loss).item()/totalCount, predicted_probs\n"
     ]
    },
    {
     "name": "stdout",
     "output_type": "stream",
     "text": [
      "Results for model fbcnet 0 {'acc': 0.4444444444444444, 'cm': array([[23, 30, 18,  1],\n",
      "       [ 1, 69,  1,  1],\n",
      "       [ 9, 38, 24,  1],\n",
      "       [ 3, 33, 24, 12]]), 'loss': 1.267695215013292}\n",
      "Code will be running on device  cuda:0\n"
     ]
    },
    {
     "name": "stderr",
     "output_type": "stream",
     "text": [
      "../centralRepo/baseModel.py:565: UserWarning: To copy construct from a tensor, it is recommended to use sourceTensor.clone().detach() or sourceTensor.clone().detach().requires_grad_(True), rather than torch.tensor(sourceTensor).\n",
      "  return predicted, actual, torch.tensor(loss).item()/totalCount, predicted_probs\n",
      "../centralRepo/baseModel.py:565: UserWarning: To copy construct from a tensor, it is recommended to use sourceTensor.clone().detach() or sourceTensor.clone().detach().requires_grad_(True), rather than torch.tensor(sourceTensor).\n",
      "  return predicted, actual, torch.tensor(loss).item()/totalCount, predicted_probs\n"
     ]
    },
    {
     "name": "stdout",
     "output_type": "stream",
     "text": [
      "Results for model eegnet 0 {'acc': 0.59375, 'cm': array([[44,  9,  6, 13],\n",
      "       [ 8, 47,  5, 12],\n",
      "       [ 5, 19, 34, 14],\n",
      "       [ 6, 13,  7, 46]]), 'loss': 1.2353253894382052}\n",
      "Code will be running on device  cuda:0\n"
     ]
    },
    {
     "name": "stderr",
     "output_type": "stream",
     "text": [
      "../centralRepo/baseModel.py:565: UserWarning: To copy construct from a tensor, it is recommended to use sourceTensor.clone().detach() or sourceTensor.clone().detach().requires_grad_(True), rather than torch.tensor(sourceTensor).\n",
      "  return predicted, actual, torch.tensor(loss).item()/totalCount, predicted_probs\n",
      "../centralRepo/baseModel.py:565: UserWarning: To copy construct from a tensor, it is recommended to use sourceTensor.clone().detach() or sourceTensor.clone().detach().requires_grad_(True), rather than torch.tensor(sourceTensor).\n",
      "  return predicted, actual, torch.tensor(loss).item()/totalCount, predicted_probs\n"
     ]
    },
    {
     "name": "stdout",
     "output_type": "stream",
     "text": [
      "Results for model fbcnet 1 {'acc': 0.53125, 'cm': array([[22, 24, 10, 16],\n",
      "       [ 7, 50,  4, 11],\n",
      "       [ 5, 21, 28, 18],\n",
      "       [ 3, 12,  4, 53]]), 'loss': 1.099339485168457}\n",
      "Code will be running on device  cuda:0\n"
     ]
    },
    {
     "name": "stderr",
     "output_type": "stream",
     "text": [
      "../centralRepo/baseModel.py:565: UserWarning: To copy construct from a tensor, it is recommended to use sourceTensor.clone().detach() or sourceTensor.clone().detach().requires_grad_(True), rather than torch.tensor(sourceTensor).\n",
      "  return predicted, actual, torch.tensor(loss).item()/totalCount, predicted_probs\n",
      "../centralRepo/baseModel.py:565: UserWarning: To copy construct from a tensor, it is recommended to use sourceTensor.clone().detach() or sourceTensor.clone().detach().requires_grad_(True), rather than torch.tensor(sourceTensor).\n",
      "  return predicted, actual, torch.tensor(loss).item()/totalCount, predicted_probs\n"
     ]
    },
    {
     "name": "stdout",
     "output_type": "stream",
     "text": [
      "Results for model eegnet 1 {'acc': 0.6041666666666666, 'cm': array([[50,  3,  4, 15],\n",
      "       [ 2, 49,  4, 17],\n",
      "       [17, 11, 29, 15],\n",
      "       [ 4, 16,  6, 46]]), 'loss': 1.3336730533175998}\n",
      "Code will be running on device  cuda:0\n"
     ]
    },
    {
     "name": "stderr",
     "output_type": "stream",
     "text": [
      "../centralRepo/baseModel.py:565: UserWarning: To copy construct from a tensor, it is recommended to use sourceTensor.clone().detach() or sourceTensor.clone().detach().requires_grad_(True), rather than torch.tensor(sourceTensor).\n",
      "  return predicted, actual, torch.tensor(loss).item()/totalCount, predicted_probs\n",
      "../centralRepo/baseModel.py:565: UserWarning: To copy construct from a tensor, it is recommended to use sourceTensor.clone().detach() or sourceTensor.clone().detach().requires_grad_(True), rather than torch.tensor(sourceTensor).\n",
      "  return predicted, actual, torch.tensor(loss).item()/totalCount, predicted_probs\n"
     ]
    },
    {
     "name": "stdout",
     "output_type": "stream",
     "text": [
      "Results for model fbcnet 2 {'acc': 0.5243055555555556, 'cm': array([[58, 12,  0,  2],\n",
      "       [26, 42,  0,  4],\n",
      "       [32, 15, 13, 12],\n",
      "       [25,  7,  2, 38]]), 'loss': 1.1250243716769748}\n",
      "Code will be running on device  cuda:0\n"
     ]
    },
    {
     "name": "stderr",
     "output_type": "stream",
     "text": [
      "../centralRepo/baseModel.py:565: UserWarning: To copy construct from a tensor, it is recommended to use sourceTensor.clone().detach() or sourceTensor.clone().detach().requires_grad_(True), rather than torch.tensor(sourceTensor).\n",
      "  return predicted, actual, torch.tensor(loss).item()/totalCount, predicted_probs\n",
      "../centralRepo/baseModel.py:565: UserWarning: To copy construct from a tensor, it is recommended to use sourceTensor.clone().detach() or sourceTensor.clone().detach().requires_grad_(True), rather than torch.tensor(sourceTensor).\n",
      "  return predicted, actual, torch.tensor(loss).item()/totalCount, predicted_probs\n"
     ]
    },
    {
     "name": "stdout",
     "output_type": "stream",
     "text": [
      "Results for model eegnet 2 {'acc': 0.6041666666666666, 'cm': array([[44, 12,  4, 12],\n",
      "       [11, 48,  5,  8],\n",
      "       [16, 11, 36,  9],\n",
      "       [11, 12,  3, 46]]), 'loss': 1.2934208975897894}\n",
      "Code will be running on device  cuda:0\n"
     ]
    },
    {
     "name": "stderr",
     "output_type": "stream",
     "text": [
      "../centralRepo/baseModel.py:565: UserWarning: To copy construct from a tensor, it is recommended to use sourceTensor.clone().detach() or sourceTensor.clone().detach().requires_grad_(True), rather than torch.tensor(sourceTensor).\n",
      "  return predicted, actual, torch.tensor(loss).item()/totalCount, predicted_probs\n",
      "../centralRepo/baseModel.py:565: UserWarning: To copy construct from a tensor, it is recommended to use sourceTensor.clone().detach() or sourceTensor.clone().detach().requires_grad_(True), rather than torch.tensor(sourceTensor).\n",
      "  return predicted, actual, torch.tensor(loss).item()/totalCount, predicted_probs\n"
     ]
    },
    {
     "name": "stdout",
     "output_type": "stream",
     "text": [
      "Results for model fbcnet 3 {'acc': 0.5243055555555556, 'cm': array([[31,  2, 17, 22],\n",
      "       [19, 17, 10, 26],\n",
      "       [ 9,  2, 45, 16],\n",
      "       [ 7,  0,  7, 58]]), 'loss': 1.157441669040256}\n",
      "Code will be running on device  cuda:0\n"
     ]
    },
    {
     "name": "stderr",
     "output_type": "stream",
     "text": [
      "../centralRepo/baseModel.py:565: UserWarning: To copy construct from a tensor, it is recommended to use sourceTensor.clone().detach() or sourceTensor.clone().detach().requires_grad_(True), rather than torch.tensor(sourceTensor).\n",
      "  return predicted, actual, torch.tensor(loss).item()/totalCount, predicted_probs\n",
      "../centralRepo/baseModel.py:565: UserWarning: To copy construct from a tensor, it is recommended to use sourceTensor.clone().detach() or sourceTensor.clone().detach().requires_grad_(True), rather than torch.tensor(sourceTensor).\n",
      "  return predicted, actual, torch.tensor(loss).item()/totalCount, predicted_probs\n"
     ]
    },
    {
     "name": "stdout",
     "output_type": "stream",
     "text": [
      "Results for model eegnet 3 {'acc': 0.6805555555555556, 'cm': array([[46,  3,  9, 14],\n",
      "       [ 0, 57,  3, 12],\n",
      "       [11, 11, 38, 12],\n",
      "       [ 3,  8,  6, 55]]), 'loss': 1.1321081585354276}\n",
      "Code will be running on device  cuda:0\n"
     ]
    },
    {
     "name": "stderr",
     "output_type": "stream",
     "text": [
      "../centralRepo/baseModel.py:565: UserWarning: To copy construct from a tensor, it is recommended to use sourceTensor.clone().detach() or sourceTensor.clone().detach().requires_grad_(True), rather than torch.tensor(sourceTensor).\n",
      "  return predicted, actual, torch.tensor(loss).item()/totalCount, predicted_probs\n",
      "../centralRepo/baseModel.py:565: UserWarning: To copy construct from a tensor, it is recommended to use sourceTensor.clone().detach() or sourceTensor.clone().detach().requires_grad_(True), rather than torch.tensor(sourceTensor).\n",
      "  return predicted, actual, torch.tensor(loss).item()/totalCount, predicted_probs\n"
     ]
    },
    {
     "name": "stdout",
     "output_type": "stream",
     "text": [
      "Results for model fbcnet 5 {'acc': 0.4861111111111111, 'cm': array([[37,  3,  8, 24],\n",
      "       [21, 20,  8, 23],\n",
      "       [13,  1, 25, 33],\n",
      "       [ 9,  0,  5, 58]]), 'loss': 1.1339172787136502}\n",
      "Code will be running on device  cuda:0\n"
     ]
    },
    {
     "name": "stderr",
     "output_type": "stream",
     "text": [
      "../centralRepo/baseModel.py:565: UserWarning: To copy construct from a tensor, it is recommended to use sourceTensor.clone().detach() or sourceTensor.clone().detach().requires_grad_(True), rather than torch.tensor(sourceTensor).\n",
      "  return predicted, actual, torch.tensor(loss).item()/totalCount, predicted_probs\n",
      "../centralRepo/baseModel.py:565: UserWarning: To copy construct from a tensor, it is recommended to use sourceTensor.clone().detach() or sourceTensor.clone().detach().requires_grad_(True), rather than torch.tensor(sourceTensor).\n",
      "  return predicted, actual, torch.tensor(loss).item()/totalCount, predicted_probs\n"
     ]
    },
    {
     "name": "stdout",
     "output_type": "stream",
     "text": [
      "Results for model eegnet 5 {'acc': 0.5868055555555556, 'cm': array([[49,  8,  4, 11],\n",
      "       [ 7, 47,  7, 11],\n",
      "       [11, 16, 34, 11],\n",
      "       [17, 10,  6, 39]]), 'loss': 1.2501712375217013}\n",
      "Code will be running on device  cuda:0\n"
     ]
    },
    {
     "name": "stderr",
     "output_type": "stream",
     "text": [
      "../centralRepo/baseModel.py:565: UserWarning: To copy construct from a tensor, it is recommended to use sourceTensor.clone().detach() or sourceTensor.clone().detach().requires_grad_(True), rather than torch.tensor(sourceTensor).\n",
      "  return predicted, actual, torch.tensor(loss).item()/totalCount, predicted_probs\n",
      "../centralRepo/baseModel.py:565: UserWarning: To copy construct from a tensor, it is recommended to use sourceTensor.clone().detach() or sourceTensor.clone().detach().requires_grad_(True), rather than torch.tensor(sourceTensor).\n",
      "  return predicted, actual, torch.tensor(loss).item()/totalCount, predicted_probs\n"
     ]
    },
    {
     "name": "stdout",
     "output_type": "stream",
     "text": [
      "Results for model fbcnet 6 {'acc': 0.5034722222222222, 'cm': array([[48,  2,  3, 19],\n",
      "       [18, 38,  2, 14],\n",
      "       [21,  6,  8, 37],\n",
      "       [14,  5,  2, 51]]), 'loss': 1.1408924526638455}\n",
      "Code will be running on device  cuda:0\n"
     ]
    },
    {
     "name": "stderr",
     "output_type": "stream",
     "text": [
      "../centralRepo/baseModel.py:565: UserWarning: To copy construct from a tensor, it is recommended to use sourceTensor.clone().detach() or sourceTensor.clone().detach().requires_grad_(True), rather than torch.tensor(sourceTensor).\n",
      "  return predicted, actual, torch.tensor(loss).item()/totalCount, predicted_probs\n",
      "../centralRepo/baseModel.py:565: UserWarning: To copy construct from a tensor, it is recommended to use sourceTensor.clone().detach() or sourceTensor.clone().detach().requires_grad_(True), rather than torch.tensor(sourceTensor).\n",
      "  return predicted, actual, torch.tensor(loss).item()/totalCount, predicted_probs\n"
     ]
    },
    {
     "name": "stdout",
     "output_type": "stream",
     "text": [
      "Results for model eegnet 6 {'acc': 0.6805555555555556, 'cm': array([[56,  2,  4, 10],\n",
      "       [ 2, 53,  4, 13],\n",
      "       [14,  5, 39, 14],\n",
      "       [ 6, 14,  4, 48]]), 'loss': 0.9961217244466146}\n",
      "Code will be running on device  cuda:0\n"
     ]
    },
    {
     "name": "stderr",
     "output_type": "stream",
     "text": [
      "../centralRepo/baseModel.py:565: UserWarning: To copy construct from a tensor, it is recommended to use sourceTensor.clone().detach() or sourceTensor.clone().detach().requires_grad_(True), rather than torch.tensor(sourceTensor).\n",
      "  return predicted, actual, torch.tensor(loss).item()/totalCount, predicted_probs\n",
      "../centralRepo/baseModel.py:565: UserWarning: To copy construct from a tensor, it is recommended to use sourceTensor.clone().detach() or sourceTensor.clone().detach().requires_grad_(True), rather than torch.tensor(sourceTensor).\n",
      "  return predicted, actual, torch.tensor(loss).item()/totalCount, predicted_probs\n"
     ]
    },
    {
     "name": "stdout",
     "output_type": "stream",
     "text": [
      "Results for model fbcnet 7 {'acc': 0.4340277777777778, 'cm': array([[44,  5,  1, 22],\n",
      "       [30, 21,  0, 21],\n",
      "       [19,  3, 12, 38],\n",
      "       [14,  4,  6, 48]]), 'loss': 1.25010257297092}\n",
      "Code will be running on device  cuda:0\n"
     ]
    },
    {
     "name": "stderr",
     "output_type": "stream",
     "text": [
      "../centralRepo/baseModel.py:565: UserWarning: To copy construct from a tensor, it is recommended to use sourceTensor.clone().detach() or sourceTensor.clone().detach().requires_grad_(True), rather than torch.tensor(sourceTensor).\n",
      "  return predicted, actual, torch.tensor(loss).item()/totalCount, predicted_probs\n",
      "../centralRepo/baseModel.py:565: UserWarning: To copy construct from a tensor, it is recommended to use sourceTensor.clone().detach() or sourceTensor.clone().detach().requires_grad_(True), rather than torch.tensor(sourceTensor).\n",
      "  return predicted, actual, torch.tensor(loss).item()/totalCount, predicted_probs\n"
     ]
    },
    {
     "name": "stdout",
     "output_type": "stream",
     "text": [
      "Results for model eegnet 7 {'acc': 0.6041666666666666, 'cm': array([[56,  3,  2, 11],\n",
      "       [ 0, 45,  5, 22],\n",
      "       [ 7,  7, 29, 29],\n",
      "       [ 6, 19,  3, 44]]), 'loss': 1.1461400985717773}\n",
      "Code will be running on device  cuda:0\n"
     ]
    },
    {
     "name": "stderr",
     "output_type": "stream",
     "text": [
      "../centralRepo/baseModel.py:565: UserWarning: To copy construct from a tensor, it is recommended to use sourceTensor.clone().detach() or sourceTensor.clone().detach().requires_grad_(True), rather than torch.tensor(sourceTensor).\n",
      "  return predicted, actual, torch.tensor(loss).item()/totalCount, predicted_probs\n",
      "../centralRepo/baseModel.py:565: UserWarning: To copy construct from a tensor, it is recommended to use sourceTensor.clone().detach() or sourceTensor.clone().detach().requires_grad_(True), rather than torch.tensor(sourceTensor).\n",
      "  return predicted, actual, torch.tensor(loss).item()/totalCount, predicted_probs\n"
     ]
    },
    {
     "name": "stdout",
     "output_type": "stream",
     "text": [
      "Results for model fbcnet 8 {'acc': 0.4340277777777778, 'cm': array([[70,  2,  0,  0],\n",
      "       [39, 29,  3,  1],\n",
      "       [52,  6, 12,  2],\n",
      "       [39, 10,  9, 14]]), 'loss': 1.3059506946139865}\n",
      "Code will be running on device  cuda:0\n"
     ]
    },
    {
     "name": "stderr",
     "output_type": "stream",
     "text": [
      "../centralRepo/baseModel.py:565: UserWarning: To copy construct from a tensor, it is recommended to use sourceTensor.clone().detach() or sourceTensor.clone().detach().requires_grad_(True), rather than torch.tensor(sourceTensor).\n",
      "  return predicted, actual, torch.tensor(loss).item()/totalCount, predicted_probs\n",
      "../centralRepo/baseModel.py:565: UserWarning: To copy construct from a tensor, it is recommended to use sourceTensor.clone().detach() or sourceTensor.clone().detach().requires_grad_(True), rather than torch.tensor(sourceTensor).\n",
      "  return predicted, actual, torch.tensor(loss).item()/totalCount, predicted_probs\n"
     ]
    },
    {
     "name": "stdout",
     "output_type": "stream",
     "text": [
      "Results for model eegnet 8 {'acc': 0.6180555555555556, 'cm': array([[47,  2,  8, 15],\n",
      "       [ 4, 51,  6, 11],\n",
      "       [14, 13, 36,  9],\n",
      "       [ 5, 19,  4, 44]]), 'loss': 1.2344872156778972}\n",
      "Theoretical max accuracy: 0.9930555555555556\n",
      "Testing subject 006 with all models...\n",
      "Code will be running on device  cuda:0\n"
     ]
    },
    {
     "name": "stderr",
     "output_type": "stream",
     "text": [
      "../centralRepo/baseModel.py:565: UserWarning: To copy construct from a tensor, it is recommended to use sourceTensor.clone().detach() or sourceTensor.clone().detach().requires_grad_(True), rather than torch.tensor(sourceTensor).\n",
      "  return predicted, actual, torch.tensor(loss).item()/totalCount, predicted_probs\n",
      "../centralRepo/baseModel.py:565: UserWarning: To copy construct from a tensor, it is recommended to use sourceTensor.clone().detach() or sourceTensor.clone().detach().requires_grad_(True), rather than torch.tensor(sourceTensor).\n",
      "  return predicted, actual, torch.tensor(loss).item()/totalCount, predicted_probs\n"
     ]
    },
    {
     "name": "stdout",
     "output_type": "stream",
     "text": [
      "Results for model fbcnet 0 {'acc': 0.4270833333333333, 'cm': array([[49,  5,  5, 13],\n",
      "       [31, 19,  3, 19],\n",
      "       [20,  4, 18, 30],\n",
      "       [20, 12,  3, 37]]), 'loss': 1.2636160320705838}\n",
      "Code will be running on device  cuda:0\n"
     ]
    },
    {
     "name": "stderr",
     "output_type": "stream",
     "text": [
      "../centralRepo/baseModel.py:565: UserWarning: To copy construct from a tensor, it is recommended to use sourceTensor.clone().detach() or sourceTensor.clone().detach().requires_grad_(True), rather than torch.tensor(sourceTensor).\n",
      "  return predicted, actual, torch.tensor(loss).item()/totalCount, predicted_probs\n",
      "../centralRepo/baseModel.py:565: UserWarning: To copy construct from a tensor, it is recommended to use sourceTensor.clone().detach() or sourceTensor.clone().detach().requires_grad_(True), rather than torch.tensor(sourceTensor).\n",
      "  return predicted, actual, torch.tensor(loss).item()/totalCount, predicted_probs\n"
     ]
    },
    {
     "name": "stdout",
     "output_type": "stream",
     "text": [
      "Results for model eegnet 0 {'acc': 0.5243055555555556, 'cm': array([[45, 11,  5, 11],\n",
      "       [15, 34,  6, 17],\n",
      "       [ 7, 21, 35,  9],\n",
      "       [13, 18,  4, 37]]), 'loss': 1.9302130805121527}\n",
      "Code will be running on device  cuda:0\n"
     ]
    },
    {
     "name": "stderr",
     "output_type": "stream",
     "text": [
      "../centralRepo/baseModel.py:565: UserWarning: To copy construct from a tensor, it is recommended to use sourceTensor.clone().detach() or sourceTensor.clone().detach().requires_grad_(True), rather than torch.tensor(sourceTensor).\n",
      "  return predicted, actual, torch.tensor(loss).item()/totalCount, predicted_probs\n",
      "../centralRepo/baseModel.py:565: UserWarning: To copy construct from a tensor, it is recommended to use sourceTensor.clone().detach() or sourceTensor.clone().detach().requires_grad_(True), rather than torch.tensor(sourceTensor).\n",
      "  return predicted, actual, torch.tensor(loss).item()/totalCount, predicted_probs\n"
     ]
    },
    {
     "name": "stdout",
     "output_type": "stream",
     "text": [
      "Results for model fbcnet 1 {'acc': 0.4826388888888889, 'cm': array([[45, 17,  9,  1],\n",
      "       [17, 45, 10,  0],\n",
      "       [16, 12, 41,  3],\n",
      "       [23, 27, 14,  8]]), 'loss': 1.332342677646213}\n",
      "Code will be running on device  cuda:0\n"
     ]
    },
    {
     "name": "stderr",
     "output_type": "stream",
     "text": [
      "../centralRepo/baseModel.py:565: UserWarning: To copy construct from a tensor, it is recommended to use sourceTensor.clone().detach() or sourceTensor.clone().detach().requires_grad_(True), rather than torch.tensor(sourceTensor).\n",
      "  return predicted, actual, torch.tensor(loss).item()/totalCount, predicted_probs\n",
      "../centralRepo/baseModel.py:565: UserWarning: To copy construct from a tensor, it is recommended to use sourceTensor.clone().detach() or sourceTensor.clone().detach().requires_grad_(True), rather than torch.tensor(sourceTensor).\n",
      "  return predicted, actual, torch.tensor(loss).item()/totalCount, predicted_probs\n"
     ]
    },
    {
     "name": "stdout",
     "output_type": "stream",
     "text": [
      "Results for model eegnet 1 {'acc': 0.4722222222222222, 'cm': array([[33, 12, 10, 17],\n",
      "       [15, 38,  8, 11],\n",
      "       [17, 17, 30,  8],\n",
      "       [16, 15,  6, 35]]), 'loss': 1.622422218322754}\n",
      "Code will be running on device  cuda:0\n"
     ]
    },
    {
     "name": "stderr",
     "output_type": "stream",
     "text": [
      "../centralRepo/baseModel.py:565: UserWarning: To copy construct from a tensor, it is recommended to use sourceTensor.clone().detach() or sourceTensor.clone().detach().requires_grad_(True), rather than torch.tensor(sourceTensor).\n",
      "  return predicted, actual, torch.tensor(loss).item()/totalCount, predicted_probs\n",
      "../centralRepo/baseModel.py:565: UserWarning: To copy construct from a tensor, it is recommended to use sourceTensor.clone().detach() or sourceTensor.clone().detach().requires_grad_(True), rather than torch.tensor(sourceTensor).\n",
      "  return predicted, actual, torch.tensor(loss).item()/totalCount, predicted_probs\n"
     ]
    },
    {
     "name": "stdout",
     "output_type": "stream",
     "text": [
      "Results for model fbcnet 2 {'acc': 0.4444444444444444, 'cm': array([[41, 20,  6,  5],\n",
      "       [22, 40,  4,  6],\n",
      "       [13, 16, 28, 15],\n",
      "       [21, 31,  1, 19]]), 'loss': 1.2030584547254775}\n",
      "Code will be running on device  cuda:0\n"
     ]
    },
    {
     "name": "stderr",
     "output_type": "stream",
     "text": [
      "../centralRepo/baseModel.py:565: UserWarning: To copy construct from a tensor, it is recommended to use sourceTensor.clone().detach() or sourceTensor.clone().detach().requires_grad_(True), rather than torch.tensor(sourceTensor).\n",
      "  return predicted, actual, torch.tensor(loss).item()/totalCount, predicted_probs\n",
      "../centralRepo/baseModel.py:565: UserWarning: To copy construct from a tensor, it is recommended to use sourceTensor.clone().detach() or sourceTensor.clone().detach().requires_grad_(True), rather than torch.tensor(sourceTensor).\n",
      "  return predicted, actual, torch.tensor(loss).item()/totalCount, predicted_probs\n"
     ]
    },
    {
     "name": "stdout",
     "output_type": "stream",
     "text": [
      "Results for model eegnet 2 {'acc': 0.4756944444444444, 'cm': array([[45, 14,  6,  7],\n",
      "       [15, 43,  6,  8],\n",
      "       [16, 23, 29,  4],\n",
      "       [24, 25,  3, 20]]), 'loss': 1.639679167005751}\n",
      "Code will be running on device  cuda:0\n"
     ]
    },
    {
     "name": "stderr",
     "output_type": "stream",
     "text": [
      "../centralRepo/baseModel.py:565: UserWarning: To copy construct from a tensor, it is recommended to use sourceTensor.clone().detach() or sourceTensor.clone().detach().requires_grad_(True), rather than torch.tensor(sourceTensor).\n",
      "  return predicted, actual, torch.tensor(loss).item()/totalCount, predicted_probs\n",
      "../centralRepo/baseModel.py:565: UserWarning: To copy construct from a tensor, it is recommended to use sourceTensor.clone().detach() or sourceTensor.clone().detach().requires_grad_(True), rather than torch.tensor(sourceTensor).\n",
      "  return predicted, actual, torch.tensor(loss).item()/totalCount, predicted_probs\n"
     ]
    },
    {
     "name": "stdout",
     "output_type": "stream",
     "text": [
      "Results for model fbcnet 3 {'acc': 0.4131944444444444, 'cm': array([[26, 32,  2, 12],\n",
      "       [10, 55,  0,  7],\n",
      "       [ 8, 28, 10, 26],\n",
      "       [11, 33,  0, 28]]), 'loss': 1.3188594182332356}\n",
      "Code will be running on device  cuda:0\n"
     ]
    },
    {
     "name": "stderr",
     "output_type": "stream",
     "text": [
      "../centralRepo/baseModel.py:565: UserWarning: To copy construct from a tensor, it is recommended to use sourceTensor.clone().detach() or sourceTensor.clone().detach().requires_grad_(True), rather than torch.tensor(sourceTensor).\n",
      "  return predicted, actual, torch.tensor(loss).item()/totalCount, predicted_probs\n",
      "../centralRepo/baseModel.py:565: UserWarning: To copy construct from a tensor, it is recommended to use sourceTensor.clone().detach() or sourceTensor.clone().detach().requires_grad_(True), rather than torch.tensor(sourceTensor).\n",
      "  return predicted, actual, torch.tensor(loss).item()/totalCount, predicted_probs\n"
     ]
    },
    {
     "name": "stdout",
     "output_type": "stream",
     "text": [
      "Results for model eegnet 3 {'acc': 0.5034722222222222, 'cm': array([[36, 11, 10, 15],\n",
      "       [ 9, 40,  6, 17],\n",
      "       [ 8, 18, 29, 17],\n",
      "       [12, 13,  7, 40]]), 'loss': 1.7111695607503254}\n",
      "Code will be running on device  cuda:0\n"
     ]
    },
    {
     "name": "stderr",
     "output_type": "stream",
     "text": [
      "../centralRepo/baseModel.py:565: UserWarning: To copy construct from a tensor, it is recommended to use sourceTensor.clone().detach() or sourceTensor.clone().detach().requires_grad_(True), rather than torch.tensor(sourceTensor).\n",
      "  return predicted, actual, torch.tensor(loss).item()/totalCount, predicted_probs\n",
      "../centralRepo/baseModel.py:565: UserWarning: To copy construct from a tensor, it is recommended to use sourceTensor.clone().detach() or sourceTensor.clone().detach().requires_grad_(True), rather than torch.tensor(sourceTensor).\n",
      "  return predicted, actual, torch.tensor(loss).item()/totalCount, predicted_probs\n"
     ]
    },
    {
     "name": "stdout",
     "output_type": "stream",
     "text": [
      "Results for model fbcnet 4 {'acc': 0.4826388888888889, 'cm': array([[46, 10,  6, 10],\n",
      "       [22, 32,  5, 13],\n",
      "       [15,  9, 29, 19],\n",
      "       [25,  9,  6, 32]]), 'loss': 1.2166225645277235}\n",
      "Code will be running on device  cuda:0\n"
     ]
    },
    {
     "name": "stderr",
     "output_type": "stream",
     "text": [
      "../centralRepo/baseModel.py:565: UserWarning: To copy construct from a tensor, it is recommended to use sourceTensor.clone().detach() or sourceTensor.clone().detach().requires_grad_(True), rather than torch.tensor(sourceTensor).\n",
      "  return predicted, actual, torch.tensor(loss).item()/totalCount, predicted_probs\n",
      "../centralRepo/baseModel.py:565: UserWarning: To copy construct from a tensor, it is recommended to use sourceTensor.clone().detach() or sourceTensor.clone().detach().requires_grad_(True), rather than torch.tensor(sourceTensor).\n",
      "  return predicted, actual, torch.tensor(loss).item()/totalCount, predicted_probs\n"
     ]
    },
    {
     "name": "stdout",
     "output_type": "stream",
     "text": [
      "Results for model eegnet 4 {'acc': 0.4965277777777778, 'cm': array([[37, 14,  6, 15],\n",
      "       [14, 37,  7, 14],\n",
      "       [ 9, 17, 37,  9],\n",
      "       [19, 13,  8, 32]]), 'loss': 1.5545550452338324}\n",
      "Code will be running on device  cuda:0\n"
     ]
    },
    {
     "name": "stderr",
     "output_type": "stream",
     "text": [
      "../centralRepo/baseModel.py:565: UserWarning: To copy construct from a tensor, it is recommended to use sourceTensor.clone().detach() or sourceTensor.clone().detach().requires_grad_(True), rather than torch.tensor(sourceTensor).\n",
      "  return predicted, actual, torch.tensor(loss).item()/totalCount, predicted_probs\n",
      "../centralRepo/baseModel.py:565: UserWarning: To copy construct from a tensor, it is recommended to use sourceTensor.clone().detach() or sourceTensor.clone().detach().requires_grad_(True), rather than torch.tensor(sourceTensor).\n",
      "  return predicted, actual, torch.tensor(loss).item()/totalCount, predicted_probs\n"
     ]
    },
    {
     "name": "stdout",
     "output_type": "stream",
     "text": [
      "Results for model fbcnet 6 {'acc': 0.3958333333333333, 'cm': array([[53, 11,  1,  7],\n",
      "       [41, 28,  2,  1],\n",
      "       [23, 21, 18, 10],\n",
      "       [29, 27,  1, 15]]), 'loss': 1.3235370847913954}\n",
      "Code will be running on device  cuda:0\n"
     ]
    },
    {
     "name": "stderr",
     "output_type": "stream",
     "text": [
      "../centralRepo/baseModel.py:565: UserWarning: To copy construct from a tensor, it is recommended to use sourceTensor.clone().detach() or sourceTensor.clone().detach().requires_grad_(True), rather than torch.tensor(sourceTensor).\n",
      "  return predicted, actual, torch.tensor(loss).item()/totalCount, predicted_probs\n",
      "../centralRepo/baseModel.py:565: UserWarning: To copy construct from a tensor, it is recommended to use sourceTensor.clone().detach() or sourceTensor.clone().detach().requires_grad_(True), rather than torch.tensor(sourceTensor).\n",
      "  return predicted, actual, torch.tensor(loss).item()/totalCount, predicted_probs\n"
     ]
    },
    {
     "name": "stdout",
     "output_type": "stream",
     "text": [
      "Results for model eegnet 6 {'acc': 0.4791666666666667, 'cm': array([[24, 19, 11, 18],\n",
      "       [ 7, 45,  8, 12],\n",
      "       [ 8, 25, 31,  8],\n",
      "       [10, 19,  5, 38]]), 'loss': 1.6129588021172419}\n",
      "Code will be running on device  cuda:0\n"
     ]
    },
    {
     "name": "stderr",
     "output_type": "stream",
     "text": [
      "../centralRepo/baseModel.py:565: UserWarning: To copy construct from a tensor, it is recommended to use sourceTensor.clone().detach() or sourceTensor.clone().detach().requires_grad_(True), rather than torch.tensor(sourceTensor).\n",
      "  return predicted, actual, torch.tensor(loss).item()/totalCount, predicted_probs\n",
      "../centralRepo/baseModel.py:565: UserWarning: To copy construct from a tensor, it is recommended to use sourceTensor.clone().detach() or sourceTensor.clone().detach().requires_grad_(True), rather than torch.tensor(sourceTensor).\n",
      "  return predicted, actual, torch.tensor(loss).item()/totalCount, predicted_probs\n"
     ]
    },
    {
     "name": "stdout",
     "output_type": "stream",
     "text": [
      "Results for model fbcnet 7 {'acc': 0.4965277777777778, 'cm': array([[39, 12,  8, 13],\n",
      "       [18, 32, 10, 12],\n",
      "       [ 8,  8, 35, 21],\n",
      "       [12, 12, 11, 37]]), 'loss': 1.1979469723171658}\n",
      "Code will be running on device  cuda:0\n"
     ]
    },
    {
     "name": "stderr",
     "output_type": "stream",
     "text": [
      "../centralRepo/baseModel.py:565: UserWarning: To copy construct from a tensor, it is recommended to use sourceTensor.clone().detach() or sourceTensor.clone().detach().requires_grad_(True), rather than torch.tensor(sourceTensor).\n",
      "  return predicted, actual, torch.tensor(loss).item()/totalCount, predicted_probs\n",
      "../centralRepo/baseModel.py:565: UserWarning: To copy construct from a tensor, it is recommended to use sourceTensor.clone().detach() or sourceTensor.clone().detach().requires_grad_(True), rather than torch.tensor(sourceTensor).\n",
      "  return predicted, actual, torch.tensor(loss).item()/totalCount, predicted_probs\n"
     ]
    },
    {
     "name": "stdout",
     "output_type": "stream",
     "text": [
      "Results for model eegnet 7 {'acc': 0.5243055555555556, 'cm': array([[38, 10,  8, 16],\n",
      "       [ 8, 40, 10, 14],\n",
      "       [10, 15, 39,  8],\n",
      "       [15, 14,  9, 34]]), 'loss': 1.5263379414876301}\n",
      "Code will be running on device  cuda:0\n"
     ]
    },
    {
     "name": "stderr",
     "output_type": "stream",
     "text": [
      "../centralRepo/baseModel.py:565: UserWarning: To copy construct from a tensor, it is recommended to use sourceTensor.clone().detach() or sourceTensor.clone().detach().requires_grad_(True), rather than torch.tensor(sourceTensor).\n",
      "  return predicted, actual, torch.tensor(loss).item()/totalCount, predicted_probs\n",
      "../centralRepo/baseModel.py:565: UserWarning: To copy construct from a tensor, it is recommended to use sourceTensor.clone().detach() or sourceTensor.clone().detach().requires_grad_(True), rather than torch.tensor(sourceTensor).\n",
      "  return predicted, actual, torch.tensor(loss).item()/totalCount, predicted_probs\n"
     ]
    },
    {
     "name": "stdout",
     "output_type": "stream",
     "text": [
      "Results for model fbcnet 8 {'acc': 0.4409722222222222, 'cm': array([[45, 13,  4, 10],\n",
      "       [30, 32,  4,  6],\n",
      "       [13, 12, 23, 24],\n",
      "       [20, 21,  4, 27]]), 'loss': 1.2582420772976346}\n",
      "Code will be running on device  cuda:0\n"
     ]
    },
    {
     "name": "stderr",
     "output_type": "stream",
     "text": [
      "../centralRepo/baseModel.py:565: UserWarning: To copy construct from a tensor, it is recommended to use sourceTensor.clone().detach() or sourceTensor.clone().detach().requires_grad_(True), rather than torch.tensor(sourceTensor).\n",
      "  return predicted, actual, torch.tensor(loss).item()/totalCount, predicted_probs\n",
      "../centralRepo/baseModel.py:565: UserWarning: To copy construct from a tensor, it is recommended to use sourceTensor.clone().detach() or sourceTensor.clone().detach().requires_grad_(True), rather than torch.tensor(sourceTensor).\n",
      "  return predicted, actual, torch.tensor(loss).item()/totalCount, predicted_probs\n"
     ]
    },
    {
     "name": "stdout",
     "output_type": "stream",
     "text": [
      "Results for model eegnet 8 {'acc': 0.4583333333333333, 'cm': array([[37,  9, 10, 16],\n",
      "       [17, 37,  9,  9],\n",
      "       [15, 10, 32, 15],\n",
      "       [13, 27,  6, 26]]), 'loss': 1.781028111775716}\n",
      "Theoretical max accuracy: 0.9791666666666666\n",
      "Testing subject 007 with all models...\n",
      "Code will be running on device  cuda:0\n"
     ]
    },
    {
     "name": "stderr",
     "output_type": "stream",
     "text": [
      "../centralRepo/baseModel.py:565: UserWarning: To copy construct from a tensor, it is recommended to use sourceTensor.clone().detach() or sourceTensor.clone().detach().requires_grad_(True), rather than torch.tensor(sourceTensor).\n",
      "  return predicted, actual, torch.tensor(loss).item()/totalCount, predicted_probs\n",
      "../centralRepo/baseModel.py:565: UserWarning: To copy construct from a tensor, it is recommended to use sourceTensor.clone().detach() or sourceTensor.clone().detach().requires_grad_(True), rather than torch.tensor(sourceTensor).\n",
      "  return predicted, actual, torch.tensor(loss).item()/totalCount, predicted_probs\n"
     ]
    },
    {
     "name": "stdout",
     "output_type": "stream",
     "text": [
      "Results for model fbcnet 0 {'acc': 0.7013888888888888, 'cm': array([[39, 14,  4, 15],\n",
      "       [ 4, 48, 11,  9],\n",
      "       [ 0,  2, 48, 22],\n",
      "       [ 0,  0,  5, 67]]), 'loss': 0.7824184629652235}\n",
      "Code will be running on device  cuda:0\n"
     ]
    },
    {
     "name": "stderr",
     "output_type": "stream",
     "text": [
      "../centralRepo/baseModel.py:565: UserWarning: To copy construct from a tensor, it is recommended to use sourceTensor.clone().detach() or sourceTensor.clone().detach().requires_grad_(True), rather than torch.tensor(sourceTensor).\n",
      "  return predicted, actual, torch.tensor(loss).item()/totalCount, predicted_probs\n",
      "../centralRepo/baseModel.py:565: UserWarning: To copy construct from a tensor, it is recommended to use sourceTensor.clone().detach() or sourceTensor.clone().detach().requires_grad_(True), rather than torch.tensor(sourceTensor).\n",
      "  return predicted, actual, torch.tensor(loss).item()/totalCount, predicted_probs\n"
     ]
    },
    {
     "name": "stdout",
     "output_type": "stream",
     "text": [
      "Results for model eegnet 0 {'acc': 0.625, 'cm': array([[35,  4, 21, 12],\n",
      "       [ 8, 32, 10, 22],\n",
      "       [ 4,  4, 50, 14],\n",
      "       [ 2,  4,  3, 63]]), 'loss': 1.4760745366414387}\n",
      "Code will be running on device  cuda:0\n"
     ]
    },
    {
     "name": "stderr",
     "output_type": "stream",
     "text": [
      "../centralRepo/baseModel.py:565: UserWarning: To copy construct from a tensor, it is recommended to use sourceTensor.clone().detach() or sourceTensor.clone().detach().requires_grad_(True), rather than torch.tensor(sourceTensor).\n",
      "  return predicted, actual, torch.tensor(loss).item()/totalCount, predicted_probs\n",
      "../centralRepo/baseModel.py:565: UserWarning: To copy construct from a tensor, it is recommended to use sourceTensor.clone().detach() or sourceTensor.clone().detach().requires_grad_(True), rather than torch.tensor(sourceTensor).\n",
      "  return predicted, actual, torch.tensor(loss).item()/totalCount, predicted_probs\n"
     ]
    },
    {
     "name": "stdout",
     "output_type": "stream",
     "text": [
      "Results for model fbcnet 1 {'acc': 0.5381944444444444, 'cm': array([[14, 18,  1, 39],\n",
      "       [ 2, 33,  1, 36],\n",
      "       [ 0,  0, 37, 35],\n",
      "       [ 1,  0,  0, 71]]), 'loss': 1.1220164828830295}\n",
      "Code will be running on device  cuda:0\n"
     ]
    },
    {
     "name": "stderr",
     "output_type": "stream",
     "text": [
      "../centralRepo/baseModel.py:565: UserWarning: To copy construct from a tensor, it is recommended to use sourceTensor.clone().detach() or sourceTensor.clone().detach().requires_grad_(True), rather than torch.tensor(sourceTensor).\n",
      "  return predicted, actual, torch.tensor(loss).item()/totalCount, predicted_probs\n",
      "../centralRepo/baseModel.py:565: UserWarning: To copy construct from a tensor, it is recommended to use sourceTensor.clone().detach() or sourceTensor.clone().detach().requires_grad_(True), rather than torch.tensor(sourceTensor).\n",
      "  return predicted, actual, torch.tensor(loss).item()/totalCount, predicted_probs\n"
     ]
    },
    {
     "name": "stdout",
     "output_type": "stream",
     "text": [
      "Results for model eegnet 1 {'acc': 0.6354166666666666, 'cm': array([[41,  2, 18, 11],\n",
      "       [ 6, 43,  7, 16],\n",
      "       [11,  6, 48,  7],\n",
      "       [ 4, 15,  2, 51]]), 'loss': 1.068736606174045}\n",
      "Code will be running on device  cuda:0\n"
     ]
    },
    {
     "name": "stderr",
     "output_type": "stream",
     "text": [
      "../centralRepo/baseModel.py:565: UserWarning: To copy construct from a tensor, it is recommended to use sourceTensor.clone().detach() or sourceTensor.clone().detach().requires_grad_(True), rather than torch.tensor(sourceTensor).\n",
      "  return predicted, actual, torch.tensor(loss).item()/totalCount, predicted_probs\n",
      "../centralRepo/baseModel.py:565: UserWarning: To copy construct from a tensor, it is recommended to use sourceTensor.clone().detach() or sourceTensor.clone().detach().requires_grad_(True), rather than torch.tensor(sourceTensor).\n",
      "  return predicted, actual, torch.tensor(loss).item()/totalCount, predicted_probs\n"
     ]
    },
    {
     "name": "stdout",
     "output_type": "stream",
     "text": [
      "Results for model fbcnet 2 {'acc': 0.6388888888888888, 'cm': array([[40, 13,  3, 16],\n",
      "       [16, 29,  7, 20],\n",
      "       [ 1,  2, 49, 20],\n",
      "       [ 0,  0,  6, 66]]), 'loss': 0.83221345477634}\n",
      "Code will be running on device  cuda:0\n"
     ]
    },
    {
     "name": "stderr",
     "output_type": "stream",
     "text": [
      "../centralRepo/baseModel.py:565: UserWarning: To copy construct from a tensor, it is recommended to use sourceTensor.clone().detach() or sourceTensor.clone().detach().requires_grad_(True), rather than torch.tensor(sourceTensor).\n",
      "  return predicted, actual, torch.tensor(loss).item()/totalCount, predicted_probs\n",
      "../centralRepo/baseModel.py:565: UserWarning: To copy construct from a tensor, it is recommended to use sourceTensor.clone().detach() or sourceTensor.clone().detach().requires_grad_(True), rather than torch.tensor(sourceTensor).\n",
      "  return predicted, actual, torch.tensor(loss).item()/totalCount, predicted_probs\n"
     ]
    },
    {
     "name": "stdout",
     "output_type": "stream",
     "text": [
      "Results for model eegnet 2 {'acc': 0.6423611111111112, 'cm': array([[35,  8, 18, 11],\n",
      "       [11, 29,  8, 24],\n",
      "       [ 4,  1, 52, 15],\n",
      "       [ 1,  1,  1, 69]]), 'loss': 1.2126033571031358}\n",
      "Code will be running on device  cuda:0\n"
     ]
    },
    {
     "name": "stderr",
     "output_type": "stream",
     "text": [
      "../centralRepo/baseModel.py:565: UserWarning: To copy construct from a tensor, it is recommended to use sourceTensor.clone().detach() or sourceTensor.clone().detach().requires_grad_(True), rather than torch.tensor(sourceTensor).\n",
      "  return predicted, actual, torch.tensor(loss).item()/totalCount, predicted_probs\n",
      "../centralRepo/baseModel.py:565: UserWarning: To copy construct from a tensor, it is recommended to use sourceTensor.clone().detach() or sourceTensor.clone().detach().requires_grad_(True), rather than torch.tensor(sourceTensor).\n",
      "  return predicted, actual, torch.tensor(loss).item()/totalCount, predicted_probs\n"
     ]
    },
    {
     "name": "stdout",
     "output_type": "stream",
     "text": [
      "Results for model fbcnet 3 {'acc': 0.7118055555555556, 'cm': array([[45, 13,  1, 13],\n",
      "       [10, 52,  2,  8],\n",
      "       [ 2,  4, 40, 26],\n",
      "       [ 0,  2,  2, 68]]), 'loss': 0.7287325859069824}\n",
      "Code will be running on device  cuda:0\n"
     ]
    },
    {
     "name": "stderr",
     "output_type": "stream",
     "text": [
      "../centralRepo/baseModel.py:565: UserWarning: To copy construct from a tensor, it is recommended to use sourceTensor.clone().detach() or sourceTensor.clone().detach().requires_grad_(True), rather than torch.tensor(sourceTensor).\n",
      "  return predicted, actual, torch.tensor(loss).item()/totalCount, predicted_probs\n",
      "../centralRepo/baseModel.py:565: UserWarning: To copy construct from a tensor, it is recommended to use sourceTensor.clone().detach() or sourceTensor.clone().detach().requires_grad_(True), rather than torch.tensor(sourceTensor).\n",
      "  return predicted, actual, torch.tensor(loss).item()/totalCount, predicted_probs\n"
     ]
    },
    {
     "name": "stdout",
     "output_type": "stream",
     "text": [
      "Results for model eegnet 3 {'acc': 0.6284722222222222, 'cm': array([[41,  5, 17,  9],\n",
      "       [ 3, 42,  5, 22],\n",
      "       [ 9,  8, 38, 17],\n",
      "       [ 2,  8,  2, 60]]), 'loss': 1.217490832010905}\n",
      "Code will be running on device  cuda:0\n"
     ]
    },
    {
     "name": "stderr",
     "output_type": "stream",
     "text": [
      "../centralRepo/baseModel.py:565: UserWarning: To copy construct from a tensor, it is recommended to use sourceTensor.clone().detach() or sourceTensor.clone().detach().requires_grad_(True), rather than torch.tensor(sourceTensor).\n",
      "  return predicted, actual, torch.tensor(loss).item()/totalCount, predicted_probs\n",
      "../centralRepo/baseModel.py:565: UserWarning: To copy construct from a tensor, it is recommended to use sourceTensor.clone().detach() or sourceTensor.clone().detach().requires_grad_(True), rather than torch.tensor(sourceTensor).\n",
      "  return predicted, actual, torch.tensor(loss).item()/totalCount, predicted_probs\n"
     ]
    },
    {
     "name": "stdout",
     "output_type": "stream",
     "text": [
      "Results for model fbcnet 4 {'acc': 0.6666666666666666, 'cm': array([[32, 22,  2, 16],\n",
      "       [ 8, 55,  0,  9],\n",
      "       [ 0,  0, 37, 35],\n",
      "       [ 0,  1,  3, 68]]), 'loss': 0.7588997946845161}\n",
      "Code will be running on device  cuda:0\n"
     ]
    },
    {
     "name": "stderr",
     "output_type": "stream",
     "text": [
      "../centralRepo/baseModel.py:565: UserWarning: To copy construct from a tensor, it is recommended to use sourceTensor.clone().detach() or sourceTensor.clone().detach().requires_grad_(True), rather than torch.tensor(sourceTensor).\n",
      "  return predicted, actual, torch.tensor(loss).item()/totalCount, predicted_probs\n",
      "../centralRepo/baseModel.py:565: UserWarning: To copy construct from a tensor, it is recommended to use sourceTensor.clone().detach() or sourceTensor.clone().detach().requires_grad_(True), rather than torch.tensor(sourceTensor).\n",
      "  return predicted, actual, torch.tensor(loss).item()/totalCount, predicted_probs\n"
     ]
    },
    {
     "name": "stdout",
     "output_type": "stream",
     "text": [
      "Results for model eegnet 4 {'acc': 0.6354166666666666, 'cm': array([[41,  8, 16,  7],\n",
      "       [ 4, 46, 12, 10],\n",
      "       [ 3, 14, 49,  6],\n",
      "       [ 5, 12,  8, 47]]), 'loss': 1.4590337541368272}\n",
      "Code will be running on device  cuda:0\n"
     ]
    },
    {
     "name": "stderr",
     "output_type": "stream",
     "text": [
      "../centralRepo/baseModel.py:565: UserWarning: To copy construct from a tensor, it is recommended to use sourceTensor.clone().detach() or sourceTensor.clone().detach().requires_grad_(True), rather than torch.tensor(sourceTensor).\n",
      "  return predicted, actual, torch.tensor(loss).item()/totalCount, predicted_probs\n",
      "../centralRepo/baseModel.py:565: UserWarning: To copy construct from a tensor, it is recommended to use sourceTensor.clone().detach() or sourceTensor.clone().detach().requires_grad_(True), rather than torch.tensor(sourceTensor).\n",
      "  return predicted, actual, torch.tensor(loss).item()/totalCount, predicted_probs\n"
     ]
    },
    {
     "name": "stdout",
     "output_type": "stream",
     "text": [
      "Results for model fbcnet 5 {'acc': 0.7083333333333334, 'cm': array([[27, 26,  2, 17],\n",
      "       [ 2, 59,  2,  9],\n",
      "       [ 2,  4, 48, 18],\n",
      "       [ 0,  1,  1, 70]]), 'loss': 0.7643464406331381}\n",
      "Code will be running on device  cuda:0\n"
     ]
    },
    {
     "name": "stderr",
     "output_type": "stream",
     "text": [
      "../centralRepo/baseModel.py:565: UserWarning: To copy construct from a tensor, it is recommended to use sourceTensor.clone().detach() or sourceTensor.clone().detach().requires_grad_(True), rather than torch.tensor(sourceTensor).\n",
      "  return predicted, actual, torch.tensor(loss).item()/totalCount, predicted_probs\n",
      "../centralRepo/baseModel.py:565: UserWarning: To copy construct from a tensor, it is recommended to use sourceTensor.clone().detach() or sourceTensor.clone().detach().requires_grad_(True), rather than torch.tensor(sourceTensor).\n",
      "  return predicted, actual, torch.tensor(loss).item()/totalCount, predicted_probs\n"
     ]
    },
    {
     "name": "stdout",
     "output_type": "stream",
     "text": [
      "Results for model eegnet 5 {'acc': 0.6284722222222222, 'cm': array([[34,  9, 18, 11],\n",
      "       [ 4, 51,  7, 10],\n",
      "       [ 6, 10, 48,  8],\n",
      "       [10, 10,  4, 48]]), 'loss': 1.1879001193576388}\n",
      "Code will be running on device  cuda:0\n"
     ]
    },
    {
     "name": "stderr",
     "output_type": "stream",
     "text": [
      "../centralRepo/baseModel.py:565: UserWarning: To copy construct from a tensor, it is recommended to use sourceTensor.clone().detach() or sourceTensor.clone().detach().requires_grad_(True), rather than torch.tensor(sourceTensor).\n",
      "  return predicted, actual, torch.tensor(loss).item()/totalCount, predicted_probs\n",
      "../centralRepo/baseModel.py:565: UserWarning: To copy construct from a tensor, it is recommended to use sourceTensor.clone().detach() or sourceTensor.clone().detach().requires_grad_(True), rather than torch.tensor(sourceTensor).\n",
      "  return predicted, actual, torch.tensor(loss).item()/totalCount, predicted_probs\n"
     ]
    },
    {
     "name": "stdout",
     "output_type": "stream",
     "text": [
      "Results for model fbcnet 7 {'acc': 0.59375, 'cm': array([[19, 34,  3, 16],\n",
      "       [ 4, 48,  6, 14],\n",
      "       [ 2, 10, 43, 17],\n",
      "       [ 0,  7,  4, 61]]), 'loss': 0.9059296713935004}\n",
      "Code will be running on device  cuda:0\n"
     ]
    },
    {
     "name": "stderr",
     "output_type": "stream",
     "text": [
      "../centralRepo/baseModel.py:565: UserWarning: To copy construct from a tensor, it is recommended to use sourceTensor.clone().detach() or sourceTensor.clone().detach().requires_grad_(True), rather than torch.tensor(sourceTensor).\n",
      "  return predicted, actual, torch.tensor(loss).item()/totalCount, predicted_probs\n",
      "../centralRepo/baseModel.py:565: UserWarning: To copy construct from a tensor, it is recommended to use sourceTensor.clone().detach() or sourceTensor.clone().detach().requires_grad_(True), rather than torch.tensor(sourceTensor).\n",
      "  return predicted, actual, torch.tensor(loss).item()/totalCount, predicted_probs\n"
     ]
    },
    {
     "name": "stdout",
     "output_type": "stream",
     "text": [
      "Results for model eegnet 7 {'acc': 0.6770833333333334, 'cm': array([[33,  2, 17, 20],\n",
      "       [ 1, 46, 10, 15],\n",
      "       [ 1, 11, 52,  8],\n",
      "       [ 1,  4,  3, 64]]), 'loss': 1.2002372741699219}\n",
      "Code will be running on device  cuda:0\n"
     ]
    },
    {
     "name": "stderr",
     "output_type": "stream",
     "text": [
      "../centralRepo/baseModel.py:565: UserWarning: To copy construct from a tensor, it is recommended to use sourceTensor.clone().detach() or sourceTensor.clone().detach().requires_grad_(True), rather than torch.tensor(sourceTensor).\n",
      "  return predicted, actual, torch.tensor(loss).item()/totalCount, predicted_probs\n",
      "../centralRepo/baseModel.py:565: UserWarning: To copy construct from a tensor, it is recommended to use sourceTensor.clone().detach() or sourceTensor.clone().detach().requires_grad_(True), rather than torch.tensor(sourceTensor).\n",
      "  return predicted, actual, torch.tensor(loss).item()/totalCount, predicted_probs\n"
     ]
    },
    {
     "name": "stdout",
     "output_type": "stream",
     "text": [
      "Results for model fbcnet 8 {'acc': 0.625, 'cm': array([[40, 16,  2, 14],\n",
      "       [10, 34,  7, 21],\n",
      "       [ 0,  2, 42, 28],\n",
      "       [ 1,  1,  6, 64]]), 'loss': 0.8559280501471626}\n",
      "Code will be running on device  cuda:0\n"
     ]
    },
    {
     "name": "stderr",
     "output_type": "stream",
     "text": [
      "../centralRepo/baseModel.py:565: UserWarning: To copy construct from a tensor, it is recommended to use sourceTensor.clone().detach() or sourceTensor.clone().detach().requires_grad_(True), rather than torch.tensor(sourceTensor).\n",
      "  return predicted, actual, torch.tensor(loss).item()/totalCount, predicted_probs\n",
      "../centralRepo/baseModel.py:565: UserWarning: To copy construct from a tensor, it is recommended to use sourceTensor.clone().detach() or sourceTensor.clone().detach().requires_grad_(True), rather than torch.tensor(sourceTensor).\n",
      "  return predicted, actual, torch.tensor(loss).item()/totalCount, predicted_probs\n"
     ]
    },
    {
     "name": "stdout",
     "output_type": "stream",
     "text": [
      "Results for model eegnet 8 {'acc': 0.6111111111111112, 'cm': array([[35, 11, 17,  9],\n",
      "       [ 8, 37,  7, 20],\n",
      "       [ 2, 13, 44, 13],\n",
      "       [ 6,  4,  2, 60]]), 'loss': 1.203283839755588}\n",
      "Theoretical max accuracy: 0.9965277777777778\n",
      "Testing subject 008 with all models...\n",
      "Code will be running on device  cuda:0\n"
     ]
    },
    {
     "name": "stderr",
     "output_type": "stream",
     "text": [
      "../centralRepo/baseModel.py:565: UserWarning: To copy construct from a tensor, it is recommended to use sourceTensor.clone().detach() or sourceTensor.clone().detach().requires_grad_(True), rather than torch.tensor(sourceTensor).\n",
      "  return predicted, actual, torch.tensor(loss).item()/totalCount, predicted_probs\n",
      "../centralRepo/baseModel.py:565: UserWarning: To copy construct from a tensor, it is recommended to use sourceTensor.clone().detach() or sourceTensor.clone().detach().requires_grad_(True), rather than torch.tensor(sourceTensor).\n",
      "  return predicted, actual, torch.tensor(loss).item()/totalCount, predicted_probs\n"
     ]
    },
    {
     "name": "stdout",
     "output_type": "stream",
     "text": [
      "Results for model fbcnet 0 {'acc': 0.6701388888888888, 'cm': array([[45,  1, 26,  0],\n",
      "       [ 0, 53, 18,  1],\n",
      "       [ 6,  3, 51, 12],\n",
      "       [ 4,  5, 19, 44]]), 'loss': 0.7709805170694987}\n",
      "Code will be running on device  cuda:0\n"
     ]
    },
    {
     "name": "stderr",
     "output_type": "stream",
     "text": [
      "../centralRepo/baseModel.py:565: UserWarning: To copy construct from a tensor, it is recommended to use sourceTensor.clone().detach() or sourceTensor.clone().detach().requires_grad_(True), rather than torch.tensor(sourceTensor).\n",
      "  return predicted, actual, torch.tensor(loss).item()/totalCount, predicted_probs\n",
      "../centralRepo/baseModel.py:565: UserWarning: To copy construct from a tensor, it is recommended to use sourceTensor.clone().detach() or sourceTensor.clone().detach().requires_grad_(True), rather than torch.tensor(sourceTensor).\n",
      "  return predicted, actual, torch.tensor(loss).item()/totalCount, predicted_probs\n"
     ]
    },
    {
     "name": "stdout",
     "output_type": "stream",
     "text": [
      "Results for model eegnet 0 {'acc': 0.6736111111111112, 'cm': array([[52,  1, 17,  2],\n",
      "       [ 4, 49, 15,  4],\n",
      "       [ 8,  8, 51,  5],\n",
      "       [ 7,  3, 20, 42]]), 'loss': 1.093738979763455}\n",
      "Code will be running on device  cuda:0\n"
     ]
    },
    {
     "name": "stderr",
     "output_type": "stream",
     "text": [
      "../centralRepo/baseModel.py:565: UserWarning: To copy construct from a tensor, it is recommended to use sourceTensor.clone().detach() or sourceTensor.clone().detach().requires_grad_(True), rather than torch.tensor(sourceTensor).\n",
      "  return predicted, actual, torch.tensor(loss).item()/totalCount, predicted_probs\n",
      "../centralRepo/baseModel.py:565: UserWarning: To copy construct from a tensor, it is recommended to use sourceTensor.clone().detach() or sourceTensor.clone().detach().requires_grad_(True), rather than torch.tensor(sourceTensor).\n",
      "  return predicted, actual, torch.tensor(loss).item()/totalCount, predicted_probs\n"
     ]
    },
    {
     "name": "stdout",
     "output_type": "stream",
     "text": [
      "Results for model fbcnet 1 {'acc': 0.6666666666666666, 'cm': array([[41,  1, 30,  0],\n",
      "       [ 0, 45, 24,  3],\n",
      "       [ 5,  2, 61,  4],\n",
      "       [ 5,  3, 19, 45]]), 'loss': 0.7551488346523709}\n",
      "Code will be running on device  cuda:0\n"
     ]
    },
    {
     "name": "stderr",
     "output_type": "stream",
     "text": [
      "../centralRepo/baseModel.py:565: UserWarning: To copy construct from a tensor, it is recommended to use sourceTensor.clone().detach() or sourceTensor.clone().detach().requires_grad_(True), rather than torch.tensor(sourceTensor).\n",
      "  return predicted, actual, torch.tensor(loss).item()/totalCount, predicted_probs\n",
      "../centralRepo/baseModel.py:565: UserWarning: To copy construct from a tensor, it is recommended to use sourceTensor.clone().detach() or sourceTensor.clone().detach().requires_grad_(True), rather than torch.tensor(sourceTensor).\n",
      "  return predicted, actual, torch.tensor(loss).item()/totalCount, predicted_probs\n"
     ]
    },
    {
     "name": "stdout",
     "output_type": "stream",
     "text": [
      "Results for model eegnet 1 {'acc': 0.5625, 'cm': array([[42,  7, 13, 10],\n",
      "       [10, 30, 17, 15],\n",
      "       [ 6,  5, 56,  5],\n",
      "       [ 5, 14, 19, 34]]), 'loss': 1.3624660703870985}\n",
      "Code will be running on device  cuda:0\n"
     ]
    },
    {
     "name": "stderr",
     "output_type": "stream",
     "text": [
      "../centralRepo/baseModel.py:565: UserWarning: To copy construct from a tensor, it is recommended to use sourceTensor.clone().detach() or sourceTensor.clone().detach().requires_grad_(True), rather than torch.tensor(sourceTensor).\n",
      "  return predicted, actual, torch.tensor(loss).item()/totalCount, predicted_probs\n",
      "../centralRepo/baseModel.py:565: UserWarning: To copy construct from a tensor, it is recommended to use sourceTensor.clone().detach() or sourceTensor.clone().detach().requires_grad_(True), rather than torch.tensor(sourceTensor).\n",
      "  return predicted, actual, torch.tensor(loss).item()/totalCount, predicted_probs\n"
     ]
    },
    {
     "name": "stdout",
     "output_type": "stream",
     "text": [
      "Results for model fbcnet 2 {'acc': 0.7118055555555556, 'cm': array([[65,  1,  2,  4],\n",
      "       [ 2, 54,  5, 11],\n",
      "       [16,  7, 30, 19],\n",
      "       [10,  5,  1, 56]]), 'loss': 0.7382417784796821}\n",
      "Code will be running on device  cuda:0\n"
     ]
    },
    {
     "name": "stderr",
     "output_type": "stream",
     "text": [
      "../centralRepo/baseModel.py:565: UserWarning: To copy construct from a tensor, it is recommended to use sourceTensor.clone().detach() or sourceTensor.clone().detach().requires_grad_(True), rather than torch.tensor(sourceTensor).\n",
      "  return predicted, actual, torch.tensor(loss).item()/totalCount, predicted_probs\n",
      "../centralRepo/baseModel.py:565: UserWarning: To copy construct from a tensor, it is recommended to use sourceTensor.clone().detach() or sourceTensor.clone().detach().requires_grad_(True), rather than torch.tensor(sourceTensor).\n",
      "  return predicted, actual, torch.tensor(loss).item()/totalCount, predicted_probs\n"
     ]
    },
    {
     "name": "stdout",
     "output_type": "stream",
     "text": [
      "Results for model eegnet 2 {'acc': 0.5833333333333334, 'cm': array([[46,  7, 16,  3],\n",
      "       [12, 34, 14, 12],\n",
      "       [12,  9, 47,  4],\n",
      "       [15,  8,  8, 41]]), 'loss': 1.1805481380886502}\n",
      "Code will be running on device  cuda:0\n"
     ]
    },
    {
     "name": "stderr",
     "output_type": "stream",
     "text": [
      "../centralRepo/baseModel.py:565: UserWarning: To copy construct from a tensor, it is recommended to use sourceTensor.clone().detach() or sourceTensor.clone().detach().requires_grad_(True), rather than torch.tensor(sourceTensor).\n",
      "  return predicted, actual, torch.tensor(loss).item()/totalCount, predicted_probs\n",
      "../centralRepo/baseModel.py:565: UserWarning: To copy construct from a tensor, it is recommended to use sourceTensor.clone().detach() or sourceTensor.clone().detach().requires_grad_(True), rather than torch.tensor(sourceTensor).\n",
      "  return predicted, actual, torch.tensor(loss).item()/totalCount, predicted_probs\n"
     ]
    },
    {
     "name": "stdout",
     "output_type": "stream",
     "text": [
      "Results for model fbcnet 3 {'acc': 0.6840277777777778, 'cm': array([[62,  6,  3,  1],\n",
      "       [ 0, 70,  0,  2],\n",
      "       [10, 31, 17, 14],\n",
      "       [ 5, 19,  0, 48]]), 'loss': 0.8141160541110568}\n",
      "Code will be running on device  cuda:0\n"
     ]
    },
    {
     "name": "stderr",
     "output_type": "stream",
     "text": [
      "../centralRepo/baseModel.py:565: UserWarning: To copy construct from a tensor, it is recommended to use sourceTensor.clone().detach() or sourceTensor.clone().detach().requires_grad_(True), rather than torch.tensor(sourceTensor).\n",
      "  return predicted, actual, torch.tensor(loss).item()/totalCount, predicted_probs\n",
      "../centralRepo/baseModel.py:565: UserWarning: To copy construct from a tensor, it is recommended to use sourceTensor.clone().detach() or sourceTensor.clone().detach().requires_grad_(True), rather than torch.tensor(sourceTensor).\n",
      "  return predicted, actual, torch.tensor(loss).item()/totalCount, predicted_probs\n"
     ]
    },
    {
     "name": "stdout",
     "output_type": "stream",
     "text": [
      "Results for model eegnet 3 {'acc': 0.6076388888888888, 'cm': array([[48,  4, 18,  2],\n",
      "       [15, 39, 13,  5],\n",
      "       [12,  7, 51,  2],\n",
      "       [10, 12, 13, 37]]), 'loss': 1.0832570393880208}\n",
      "Code will be running on device  cuda:0\n"
     ]
    },
    {
     "name": "stderr",
     "output_type": "stream",
     "text": [
      "../centralRepo/baseModel.py:565: UserWarning: To copy construct from a tensor, it is recommended to use sourceTensor.clone().detach() or sourceTensor.clone().detach().requires_grad_(True), rather than torch.tensor(sourceTensor).\n",
      "  return predicted, actual, torch.tensor(loss).item()/totalCount, predicted_probs\n",
      "../centralRepo/baseModel.py:565: UserWarning: To copy construct from a tensor, it is recommended to use sourceTensor.clone().detach() or sourceTensor.clone().detach().requires_grad_(True), rather than torch.tensor(sourceTensor).\n",
      "  return predicted, actual, torch.tensor(loss).item()/totalCount, predicted_probs\n"
     ]
    },
    {
     "name": "stdout",
     "output_type": "stream",
     "text": [
      "Results for model fbcnet 4 {'acc': 0.7083333333333334, 'cm': array([[55,  2, 14,  1],\n",
      "       [ 2, 49, 17,  4],\n",
      "       [ 7,  2, 52, 11],\n",
      "       [ 7,  3, 14, 48]]), 'loss': 0.749795224931505}\n",
      "Code will be running on device  cuda:0\n"
     ]
    },
    {
     "name": "stderr",
     "output_type": "stream",
     "text": [
      "../centralRepo/baseModel.py:565: UserWarning: To copy construct from a tensor, it is recommended to use sourceTensor.clone().detach() or sourceTensor.clone().detach().requires_grad_(True), rather than torch.tensor(sourceTensor).\n",
      "  return predicted, actual, torch.tensor(loss).item()/totalCount, predicted_probs\n",
      "../centralRepo/baseModel.py:565: UserWarning: To copy construct from a tensor, it is recommended to use sourceTensor.clone().detach() or sourceTensor.clone().detach().requires_grad_(True), rather than torch.tensor(sourceTensor).\n",
      "  return predicted, actual, torch.tensor(loss).item()/totalCount, predicted_probs\n"
     ]
    },
    {
     "name": "stdout",
     "output_type": "stream",
     "text": [
      "Results for model eegnet 4 {'acc': 0.5520833333333334, 'cm': array([[35,  8, 15, 14],\n",
      "       [10, 39, 13, 10],\n",
      "       [ 6,  7, 52,  7],\n",
      "       [10,  9, 20, 33]]), 'loss': 1.4549649556477864}\n",
      "Code will be running on device  cuda:0\n"
     ]
    },
    {
     "name": "stderr",
     "output_type": "stream",
     "text": [
      "../centralRepo/baseModel.py:565: UserWarning: To copy construct from a tensor, it is recommended to use sourceTensor.clone().detach() or sourceTensor.clone().detach().requires_grad_(True), rather than torch.tensor(sourceTensor).\n",
      "  return predicted, actual, torch.tensor(loss).item()/totalCount, predicted_probs\n",
      "../centralRepo/baseModel.py:565: UserWarning: To copy construct from a tensor, it is recommended to use sourceTensor.clone().detach() or sourceTensor.clone().detach().requires_grad_(True), rather than torch.tensor(sourceTensor).\n",
      "  return predicted, actual, torch.tensor(loss).item()/totalCount, predicted_probs\n"
     ]
    },
    {
     "name": "stdout",
     "output_type": "stream",
     "text": [
      "Results for model fbcnet 5 {'acc': 0.6423611111111112, 'cm': array([[56,  0, 16,  0],\n",
      "       [ 0, 51, 20,  1],\n",
      "       [12,  4, 53,  3],\n",
      "       [13,  8, 26, 25]]), 'loss': 0.8689548704359267}\n",
      "Code will be running on device  cuda:0\n"
     ]
    },
    {
     "name": "stderr",
     "output_type": "stream",
     "text": [
      "../centralRepo/baseModel.py:565: UserWarning: To copy construct from a tensor, it is recommended to use sourceTensor.clone().detach() or sourceTensor.clone().detach().requires_grad_(True), rather than torch.tensor(sourceTensor).\n",
      "  return predicted, actual, torch.tensor(loss).item()/totalCount, predicted_probs\n",
      "../centralRepo/baseModel.py:565: UserWarning: To copy construct from a tensor, it is recommended to use sourceTensor.clone().detach() or sourceTensor.clone().detach().requires_grad_(True), rather than torch.tensor(sourceTensor).\n",
      "  return predicted, actual, torch.tensor(loss).item()/totalCount, predicted_probs\n"
     ]
    },
    {
     "name": "stdout",
     "output_type": "stream",
     "text": [
      "Results for model eegnet 5 {'acc': 0.5277777777777778, 'cm': array([[35,  8, 18, 11],\n",
      "       [10, 38, 12, 12],\n",
      "       [ 6,  9, 47, 10],\n",
      "       [11,  8, 21, 32]]), 'loss': 1.4868119557698567}\n",
      "Code will be running on device  cuda:0\n"
     ]
    },
    {
     "name": "stderr",
     "output_type": "stream",
     "text": [
      "../centralRepo/baseModel.py:565: UserWarning: To copy construct from a tensor, it is recommended to use sourceTensor.clone().detach() or sourceTensor.clone().detach().requires_grad_(True), rather than torch.tensor(sourceTensor).\n",
      "  return predicted, actual, torch.tensor(loss).item()/totalCount, predicted_probs\n",
      "../centralRepo/baseModel.py:565: UserWarning: To copy construct from a tensor, it is recommended to use sourceTensor.clone().detach() or sourceTensor.clone().detach().requires_grad_(True), rather than torch.tensor(sourceTensor).\n",
      "  return predicted, actual, torch.tensor(loss).item()/totalCount, predicted_probs\n"
     ]
    },
    {
     "name": "stdout",
     "output_type": "stream",
     "text": [
      "Results for model fbcnet 6 {'acc': 0.6666666666666666, 'cm': array([[69,  1,  2,  0],\n",
      "       [ 3, 63,  4,  2],\n",
      "       [32,  5, 26,  9],\n",
      "       [27,  6,  5, 34]]), 'loss': 0.8211832576327853}\n",
      "Code will be running on device  cuda:0\n"
     ]
    },
    {
     "name": "stderr",
     "output_type": "stream",
     "text": [
      "../centralRepo/baseModel.py:565: UserWarning: To copy construct from a tensor, it is recommended to use sourceTensor.clone().detach() or sourceTensor.clone().detach().requires_grad_(True), rather than torch.tensor(sourceTensor).\n",
      "  return predicted, actual, torch.tensor(loss).item()/totalCount, predicted_probs\n",
      "../centralRepo/baseModel.py:565: UserWarning: To copy construct from a tensor, it is recommended to use sourceTensor.clone().detach() or sourceTensor.clone().detach().requires_grad_(True), rather than torch.tensor(sourceTensor).\n",
      "  return predicted, actual, torch.tensor(loss).item()/totalCount, predicted_probs\n"
     ]
    },
    {
     "name": "stdout",
     "output_type": "stream",
     "text": [
      "Results for model eegnet 6 {'acc': 0.6527777777777778, 'cm': array([[49,  5, 15,  3],\n",
      "       [ 9, 52,  7,  4],\n",
      "       [ 9, 15, 44,  4],\n",
      "       [ 4, 13, 12, 43]]), 'loss': 1.198841518825955}\n",
      "Code will be running on device  cuda:0\n"
     ]
    },
    {
     "name": "stderr",
     "output_type": "stream",
     "text": [
      "../centralRepo/baseModel.py:565: UserWarning: To copy construct from a tensor, it is recommended to use sourceTensor.clone().detach() or sourceTensor.clone().detach().requires_grad_(True), rather than torch.tensor(sourceTensor).\n",
      "  return predicted, actual, torch.tensor(loss).item()/totalCount, predicted_probs\n",
      "../centralRepo/baseModel.py:565: UserWarning: To copy construct from a tensor, it is recommended to use sourceTensor.clone().detach() or sourceTensor.clone().detach().requires_grad_(True), rather than torch.tensor(sourceTensor).\n",
      "  return predicted, actual, torch.tensor(loss).item()/totalCount, predicted_probs\n"
     ]
    },
    {
     "name": "stdout",
     "output_type": "stream",
     "text": [
      "Results for model fbcnet 8 {'acc': 0.6944444444444444, 'cm': array([[64,  1,  7,  0],\n",
      "       [ 4, 54, 12,  2],\n",
      "       [13,  2, 54,  3],\n",
      "       [20, 12, 12, 28]]), 'loss': 0.8535082605150011}\n",
      "Code will be running on device  cuda:0\n"
     ]
    },
    {
     "name": "stderr",
     "output_type": "stream",
     "text": [
      "../centralRepo/baseModel.py:565: UserWarning: To copy construct from a tensor, it is recommended to use sourceTensor.clone().detach() or sourceTensor.clone().detach().requires_grad_(True), rather than torch.tensor(sourceTensor).\n",
      "  return predicted, actual, torch.tensor(loss).item()/totalCount, predicted_probs\n",
      "../centralRepo/baseModel.py:565: UserWarning: To copy construct from a tensor, it is recommended to use sourceTensor.clone().detach() or sourceTensor.clone().detach().requires_grad_(True), rather than torch.tensor(sourceTensor).\n",
      "  return predicted, actual, torch.tensor(loss).item()/totalCount, predicted_probs\n"
     ]
    },
    {
     "name": "stdout",
     "output_type": "stream",
     "text": [
      "Results for model eegnet 8 {'acc': 0.6805555555555556, 'cm': array([[49,  2, 17,  4],\n",
      "       [ 6, 47, 15,  4],\n",
      "       [ 6,  6, 50, 10],\n",
      "       [ 5,  4, 13, 50]]), 'loss': 0.9691172705756294}\n",
      "Theoretical max accuracy: 0.9930555555555556\n",
      "Testing subject 009 with all models...\n",
      "Code will be running on device  cuda:0\n"
     ]
    },
    {
     "name": "stderr",
     "output_type": "stream",
     "text": [
      "../centralRepo/baseModel.py:565: UserWarning: To copy construct from a tensor, it is recommended to use sourceTensor.clone().detach() or sourceTensor.clone().detach().requires_grad_(True), rather than torch.tensor(sourceTensor).\n",
      "  return predicted, actual, torch.tensor(loss).item()/totalCount, predicted_probs\n",
      "../centralRepo/baseModel.py:565: UserWarning: To copy construct from a tensor, it is recommended to use sourceTensor.clone().detach() or sourceTensor.clone().detach().requires_grad_(True), rather than torch.tensor(sourceTensor).\n",
      "  return predicted, actual, torch.tensor(loss).item()/totalCount, predicted_probs\n"
     ]
    },
    {
     "name": "stdout",
     "output_type": "stream",
     "text": [
      "Results for model fbcnet 0 {'acc': 0.6354166666666666, 'cm': array([[51, 19,  1,  1],\n",
      "       [ 6, 53,  2, 11],\n",
      "       [ 5, 27, 18, 22],\n",
      "       [ 0,  9,  2, 61]]), 'loss': 0.8399595684475369}\n",
      "Code will be running on device  cuda:0\n"
     ]
    },
    {
     "name": "stderr",
     "output_type": "stream",
     "text": [
      "../centralRepo/baseModel.py:565: UserWarning: To copy construct from a tensor, it is recommended to use sourceTensor.clone().detach() or sourceTensor.clone().detach().requires_grad_(True), rather than torch.tensor(sourceTensor).\n",
      "  return predicted, actual, torch.tensor(loss).item()/totalCount, predicted_probs\n",
      "../centralRepo/baseModel.py:565: UserWarning: To copy construct from a tensor, it is recommended to use sourceTensor.clone().detach() or sourceTensor.clone().detach().requires_grad_(True), rather than torch.tensor(sourceTensor).\n",
      "  return predicted, actual, torch.tensor(loss).item()/totalCount, predicted_probs\n"
     ]
    },
    {
     "name": "stdout",
     "output_type": "stream",
     "text": [
      "Results for model eegnet 0 {'acc': 0.5659722222222222, 'cm': array([[57, 10,  4,  1],\n",
      "       [ 3, 34, 24, 11],\n",
      "       [10,  6, 31, 25],\n",
      "       [ 3,  3, 25, 41]]), 'loss': 1.5996242099338107}\n",
      "Code will be running on device  cuda:0\n"
     ]
    },
    {
     "name": "stderr",
     "output_type": "stream",
     "text": [
      "../centralRepo/baseModel.py:565: UserWarning: To copy construct from a tensor, it is recommended to use sourceTensor.clone().detach() or sourceTensor.clone().detach().requires_grad_(True), rather than torch.tensor(sourceTensor).\n",
      "  return predicted, actual, torch.tensor(loss).item()/totalCount, predicted_probs\n",
      "../centralRepo/baseModel.py:565: UserWarning: To copy construct from a tensor, it is recommended to use sourceTensor.clone().detach() or sourceTensor.clone().detach().requires_grad_(True), rather than torch.tensor(sourceTensor).\n",
      "  return predicted, actual, torch.tensor(loss).item()/totalCount, predicted_probs\n"
     ]
    },
    {
     "name": "stdout",
     "output_type": "stream",
     "text": [
      "Results for model fbcnet 1 {'acc': 0.6805555555555556, 'cm': array([[70,  1,  1,  0],\n",
      "       [13, 51,  6,  2],\n",
      "       [20, 22, 27,  3],\n",
      "       [ 4, 12,  8, 48]]), 'loss': 0.843417591518826}\n",
      "Code will be running on device  cuda:0\n"
     ]
    },
    {
     "name": "stderr",
     "output_type": "stream",
     "text": [
      "../centralRepo/baseModel.py:565: UserWarning: To copy construct from a tensor, it is recommended to use sourceTensor.clone().detach() or sourceTensor.clone().detach().requires_grad_(True), rather than torch.tensor(sourceTensor).\n",
      "  return predicted, actual, torch.tensor(loss).item()/totalCount, predicted_probs\n",
      "../centralRepo/baseModel.py:565: UserWarning: To copy construct from a tensor, it is recommended to use sourceTensor.clone().detach() or sourceTensor.clone().detach().requires_grad_(True), rather than torch.tensor(sourceTensor).\n",
      "  return predicted, actual, torch.tensor(loss).item()/totalCount, predicted_probs\n"
     ]
    },
    {
     "name": "stdout",
     "output_type": "stream",
     "text": [
      "Results for model eegnet 1 {'acc': 0.4652777777777778, 'cm': array([[31, 22, 14,  5],\n",
      "       [ 6, 46, 16,  4],\n",
      "       [12, 18, 34,  8],\n",
      "       [19, 14, 16, 23]]), 'loss': 1.7695213953653972}\n",
      "Code will be running on device  cuda:0\n"
     ]
    },
    {
     "name": "stderr",
     "output_type": "stream",
     "text": [
      "../centralRepo/baseModel.py:565: UserWarning: To copy construct from a tensor, it is recommended to use sourceTensor.clone().detach() or sourceTensor.clone().detach().requires_grad_(True), rather than torch.tensor(sourceTensor).\n",
      "  return predicted, actual, torch.tensor(loss).item()/totalCount, predicted_probs\n",
      "../centralRepo/baseModel.py:565: UserWarning: To copy construct from a tensor, it is recommended to use sourceTensor.clone().detach() or sourceTensor.clone().detach().requires_grad_(True), rather than torch.tensor(sourceTensor).\n",
      "  return predicted, actual, torch.tensor(loss).item()/totalCount, predicted_probs\n"
     ]
    },
    {
     "name": "stdout",
     "output_type": "stream",
     "text": [
      "Results for model fbcnet 2 {'acc': 0.71875, 'cm': array([[65,  4,  1,  2],\n",
      "       [ 8, 48,  1, 15],\n",
      "       [ 8, 18, 27, 19],\n",
      "       [ 2,  3,  0, 67]]), 'loss': 0.6911504533555772}\n",
      "Code will be running on device  cuda:0\n"
     ]
    },
    {
     "name": "stderr",
     "output_type": "stream",
     "text": [
      "../centralRepo/baseModel.py:565: UserWarning: To copy construct from a tensor, it is recommended to use sourceTensor.clone().detach() or sourceTensor.clone().detach().requires_grad_(True), rather than torch.tensor(sourceTensor).\n",
      "  return predicted, actual, torch.tensor(loss).item()/totalCount, predicted_probs\n",
      "../centralRepo/baseModel.py:565: UserWarning: To copy construct from a tensor, it is recommended to use sourceTensor.clone().detach() or sourceTensor.clone().detach().requires_grad_(True), rather than torch.tensor(sourceTensor).\n",
      "  return predicted, actual, torch.tensor(loss).item()/totalCount, predicted_probs\n"
     ]
    },
    {
     "name": "stdout",
     "output_type": "stream",
     "text": [
      "Results for model eegnet 2 {'acc': 0.6319444444444444, 'cm': array([[58, 11,  2,  1],\n",
      "       [ 6, 47, 16,  3],\n",
      "       [ 5, 21, 32, 14],\n",
      "       [ 3,  5, 19, 45]]), 'loss': 1.2124682532416449}\n",
      "Code will be running on device  cuda:0\n"
     ]
    },
    {
     "name": "stderr",
     "output_type": "stream",
     "text": [
      "../centralRepo/baseModel.py:565: UserWarning: To copy construct from a tensor, it is recommended to use sourceTensor.clone().detach() or sourceTensor.clone().detach().requires_grad_(True), rather than torch.tensor(sourceTensor).\n",
      "  return predicted, actual, torch.tensor(loss).item()/totalCount, predicted_probs\n",
      "../centralRepo/baseModel.py:565: UserWarning: To copy construct from a tensor, it is recommended to use sourceTensor.clone().detach() or sourceTensor.clone().detach().requires_grad_(True), rather than torch.tensor(sourceTensor).\n",
      "  return predicted, actual, torch.tensor(loss).item()/totalCount, predicted_probs\n"
     ]
    },
    {
     "name": "stdout",
     "output_type": "stream",
     "text": [
      "Results for model fbcnet 3 {'acc': 0.6770833333333334, 'cm': array([[64,  4,  3,  1],\n",
      "       [10, 44, 10,  8],\n",
      "       [ 9, 14, 28, 21],\n",
      "       [ 0,  6,  7, 59]]), 'loss': 0.7571341726515028}\n",
      "Code will be running on device  cuda:0\n"
     ]
    },
    {
     "name": "stderr",
     "output_type": "stream",
     "text": [
      "../centralRepo/baseModel.py:565: UserWarning: To copy construct from a tensor, it is recommended to use sourceTensor.clone().detach() or sourceTensor.clone().detach().requires_grad_(True), rather than torch.tensor(sourceTensor).\n",
      "  return predicted, actual, torch.tensor(loss).item()/totalCount, predicted_probs\n",
      "../centralRepo/baseModel.py:565: UserWarning: To copy construct from a tensor, it is recommended to use sourceTensor.clone().detach() or sourceTensor.clone().detach().requires_grad_(True), rather than torch.tensor(sourceTensor).\n",
      "  return predicted, actual, torch.tensor(loss).item()/totalCount, predicted_probs\n"
     ]
    },
    {
     "name": "stdout",
     "output_type": "stream",
     "text": [
      "Results for model eegnet 3 {'acc': 0.5763888888888888, 'cm': array([[50, 17,  3,  2],\n",
      "       [ 4, 40, 18, 10],\n",
      "       [10, 14, 30, 18],\n",
      "       [ 6,  7, 13, 46]]), 'loss': 1.3629199133978949}\n",
      "Code will be running on device  cuda:0\n"
     ]
    },
    {
     "name": "stderr",
     "output_type": "stream",
     "text": [
      "../centralRepo/baseModel.py:565: UserWarning: To copy construct from a tensor, it is recommended to use sourceTensor.clone().detach() or sourceTensor.clone().detach().requires_grad_(True), rather than torch.tensor(sourceTensor).\n",
      "  return predicted, actual, torch.tensor(loss).item()/totalCount, predicted_probs\n",
      "../centralRepo/baseModel.py:565: UserWarning: To copy construct from a tensor, it is recommended to use sourceTensor.clone().detach() or sourceTensor.clone().detach().requires_grad_(True), rather than torch.tensor(sourceTensor).\n",
      "  return predicted, actual, torch.tensor(loss).item()/totalCount, predicted_probs\n"
     ]
    },
    {
     "name": "stdout",
     "output_type": "stream",
     "text": [
      "Results for model fbcnet 4 {'acc': 0.6979166666666666, 'cm': array([[57, 12,  3,  0],\n",
      "       [ 8, 54,  8,  2],\n",
      "       [ 3, 18, 46,  5],\n",
      "       [ 1, 20,  7, 44]]), 'loss': 0.7005608346727159}\n",
      "Code will be running on device  cuda:0\n"
     ]
    },
    {
     "name": "stderr",
     "output_type": "stream",
     "text": [
      "../centralRepo/baseModel.py:565: UserWarning: To copy construct from a tensor, it is recommended to use sourceTensor.clone().detach() or sourceTensor.clone().detach().requires_grad_(True), rather than torch.tensor(sourceTensor).\n",
      "  return predicted, actual, torch.tensor(loss).item()/totalCount, predicted_probs\n",
      "../centralRepo/baseModel.py:565: UserWarning: To copy construct from a tensor, it is recommended to use sourceTensor.clone().detach() or sourceTensor.clone().detach().requires_grad_(True), rather than torch.tensor(sourceTensor).\n",
      "  return predicted, actual, torch.tensor(loss).item()/totalCount, predicted_probs\n"
     ]
    },
    {
     "name": "stdout",
     "output_type": "stream",
     "text": [
      "Results for model eegnet 4 {'acc': 0.4791666666666667, 'cm': array([[40, 15,  7, 10],\n",
      "       [14, 38, 17,  3],\n",
      "       [12, 10, 28, 22],\n",
      "       [19, 10, 11, 32]]), 'loss': 1.7808407677544489}\n",
      "Code will be running on device  cuda:0\n"
     ]
    },
    {
     "name": "stderr",
     "output_type": "stream",
     "text": [
      "../centralRepo/baseModel.py:565: UserWarning: To copy construct from a tensor, it is recommended to use sourceTensor.clone().detach() or sourceTensor.clone().detach().requires_grad_(True), rather than torch.tensor(sourceTensor).\n",
      "  return predicted, actual, torch.tensor(loss).item()/totalCount, predicted_probs\n",
      "../centralRepo/baseModel.py:565: UserWarning: To copy construct from a tensor, it is recommended to use sourceTensor.clone().detach() or sourceTensor.clone().detach().requires_grad_(True), rather than torch.tensor(sourceTensor).\n",
      "  return predicted, actual, torch.tensor(loss).item()/totalCount, predicted_probs\n"
     ]
    },
    {
     "name": "stdout",
     "output_type": "stream",
     "text": [
      "Results for model fbcnet 5 {'acc': 0.6770833333333334, 'cm': array([[58, 13,  1,  0],\n",
      "       [ 7, 48, 10,  7],\n",
      "       [ 3, 22, 30, 17],\n",
      "       [ 0, 11,  2, 59]]), 'loss': 0.8125386238098145}\n",
      "Code will be running on device  cuda:0\n"
     ]
    },
    {
     "name": "stderr",
     "output_type": "stream",
     "text": [
      "../centralRepo/baseModel.py:565: UserWarning: To copy construct from a tensor, it is recommended to use sourceTensor.clone().detach() or sourceTensor.clone().detach().requires_grad_(True), rather than torch.tensor(sourceTensor).\n",
      "  return predicted, actual, torch.tensor(loss).item()/totalCount, predicted_probs\n",
      "../centralRepo/baseModel.py:565: UserWarning: To copy construct from a tensor, it is recommended to use sourceTensor.clone().detach() or sourceTensor.clone().detach().requires_grad_(True), rather than torch.tensor(sourceTensor).\n",
      "  return predicted, actual, torch.tensor(loss).item()/totalCount, predicted_probs\n"
     ]
    },
    {
     "name": "stdout",
     "output_type": "stream",
     "text": [
      "Results for model eegnet 5 {'acc': 0.4861111111111111, 'cm': array([[36, 13, 17,  6],\n",
      "       [ 8, 41, 17,  6],\n",
      "       [13, 12, 30, 17],\n",
      "       [12, 14, 13, 33]]), 'loss': 1.7944051954481337}\n",
      "Code will be running on device  cuda:0\n"
     ]
    },
    {
     "name": "stderr",
     "output_type": "stream",
     "text": [
      "../centralRepo/baseModel.py:565: UserWarning: To copy construct from a tensor, it is recommended to use sourceTensor.clone().detach() or sourceTensor.clone().detach().requires_grad_(True), rather than torch.tensor(sourceTensor).\n",
      "  return predicted, actual, torch.tensor(loss).item()/totalCount, predicted_probs\n",
      "../centralRepo/baseModel.py:565: UserWarning: To copy construct from a tensor, it is recommended to use sourceTensor.clone().detach() or sourceTensor.clone().detach().requires_grad_(True), rather than torch.tensor(sourceTensor).\n",
      "  return predicted, actual, torch.tensor(loss).item()/totalCount, predicted_probs\n"
     ]
    },
    {
     "name": "stdout",
     "output_type": "stream",
     "text": [
      "Results for model fbcnet 6 {'acc': 0.59375, 'cm': array([[60,  8,  0,  4],\n",
      "       [ 9, 29,  1, 33],\n",
      "       [ 9, 16, 14, 33],\n",
      "       [ 0,  3,  1, 68]]), 'loss': 0.9135962592230903}\n",
      "Code will be running on device  cuda:0\n"
     ]
    },
    {
     "name": "stderr",
     "output_type": "stream",
     "text": [
      "../centralRepo/baseModel.py:565: UserWarning: To copy construct from a tensor, it is recommended to use sourceTensor.clone().detach() or sourceTensor.clone().detach().requires_grad_(True), rather than torch.tensor(sourceTensor).\n",
      "  return predicted, actual, torch.tensor(loss).item()/totalCount, predicted_probs\n",
      "../centralRepo/baseModel.py:565: UserWarning: To copy construct from a tensor, it is recommended to use sourceTensor.clone().detach() or sourceTensor.clone().detach().requires_grad_(True), rather than torch.tensor(sourceTensor).\n",
      "  return predicted, actual, torch.tensor(loss).item()/totalCount, predicted_probs\n"
     ]
    },
    {
     "name": "stdout",
     "output_type": "stream",
     "text": [
      "Results for model eegnet 6 {'acc': 0.5798611111111112, 'cm': array([[51, 10,  8,  3],\n",
      "       [ 5, 44, 16,  7],\n",
      "       [10, 11, 31, 20],\n",
      "       [10,  9, 12, 41]]), 'loss': 1.3259551790025499}\n",
      "Code will be running on device  cuda:0\n"
     ]
    },
    {
     "name": "stderr",
     "output_type": "stream",
     "text": [
      "../centralRepo/baseModel.py:565: UserWarning: To copy construct from a tensor, it is recommended to use sourceTensor.clone().detach() or sourceTensor.clone().detach().requires_grad_(True), rather than torch.tensor(sourceTensor).\n",
      "  return predicted, actual, torch.tensor(loss).item()/totalCount, predicted_probs\n",
      "../centralRepo/baseModel.py:565: UserWarning: To copy construct from a tensor, it is recommended to use sourceTensor.clone().detach() or sourceTensor.clone().detach().requires_grad_(True), rather than torch.tensor(sourceTensor).\n",
      "  return predicted, actual, torch.tensor(loss).item()/totalCount, predicted_probs\n"
     ]
    },
    {
     "name": "stdout",
     "output_type": "stream",
     "text": [
      "Results for model fbcnet 7 {'acc': 0.7430555555555556, 'cm': array([[63,  3,  6,  0],\n",
      "       [10, 33, 22,  7],\n",
      "       [ 4,  0, 66,  2],\n",
      "       [ 1,  6, 13, 52]]), 'loss': 0.6958628760443794}\n",
      "Code will be running on device  cuda:0\n"
     ]
    },
    {
     "name": "stderr",
     "output_type": "stream",
     "text": [
      "../centralRepo/baseModel.py:565: UserWarning: To copy construct from a tensor, it is recommended to use sourceTensor.clone().detach() or sourceTensor.clone().detach().requires_grad_(True), rather than torch.tensor(sourceTensor).\n",
      "  return predicted, actual, torch.tensor(loss).item()/totalCount, predicted_probs\n"
     ]
    },
    {
     "name": "stdout",
     "output_type": "stream",
     "text": [
      "Results for model eegnet 7 {'acc': 0.6597222222222222, 'cm': array([[51, 10,  5,  6],\n",
      "       [ 4, 41, 13, 14],\n",
      "       [11, 10, 36, 15],\n",
      "       [ 3,  3,  4, 62]]), 'loss': 1.2813310623168945}\n",
      "Theoretical max accuracy: 1.0\n"
     ]
    },
    {
     "name": "stderr",
     "output_type": "stream",
     "text": [
      "../centralRepo/baseModel.py:565: UserWarning: To copy construct from a tensor, it is recommended to use sourceTensor.clone().detach() or sourceTensor.clone().detach().requires_grad_(True), rather than torch.tensor(sourceTensor).\n",
      "  return predicted, actual, torch.tensor(loss).item()/totalCount, predicted_probs\n"
     ]
    }
   ],
   "source": [
    "subs = list(range(9))\n",
    "accs = []\n",
    "all_preds = {}\n",
    "all_pred_probs = {}\n",
    "all_losses = {}\n",
    "all_test_results = {}\n",
    "all_acts = {}\n",
    "all_train_preds = {}\n",
    "all_train_pred_probs = {}\n",
    "all_train_losses = {}\n",
    "all_train_results = {}\n",
    "for test_sub in subs:\n",
    "    test_sub_str = '00' + str(test_sub + 1)\n",
    "    preds = []\n",
    "    pred_probs = []\n",
    "    train_preds = []\n",
    "    train_pred_probs = []\n",
    "    results = {}\n",
    "    train_results = {}\n",
    "    train_losses = []\n",
    "    print(\"Testing subject \" + test_sub_str + \" with all models...\")\n",
    "    for sub in subs:\n",
    "        if(sub == test_sub):\n",
    "            continue\n",
    "        model_train_results = {}\n",
    "        model_test_results = {}\n",
    "        for model_name, net, data, ROOT_PATH in models:\n",
    "            state_dict_path = os.path.join(ROOT_PATH, 'sub' + str(sub), 'finetuned_sub' + str(test_sub), 'network_state_dict.pth')\n",
    "            netInitState = torch.load(state_dict_path)\n",
    "            net.load_state_dict(netInitState, strict=False)\n",
    "            outPathSub = None\n",
    "            model = baseModel(net=net, resultsSavePath=outPathSub, batchSize= config['batchSize'], nGPU = nGPU)\n",
    "            testResults, pred, act, pred_prob = test_model(test_sub_str, data, model, session='0')\n",
    "            train_preds.append(pred)\n",
    "            train_pred_probs.append(pred_prob)\n",
    "            model_train_results[model_name] = testResults\n",
    "            train_losses.append(testResults['loss'])\n",
    "\n",
    "            testResults, pred, act, pred_prob = test_model(test_sub_str, data, model)\n",
    "            preds.append(pred)\n",
    "            pred_probs.append(pred_prob)\n",
    "            model_test_results[model_name] = testResults\n",
    "            print(\"Results for model\", model_name, sub, testResults)\n",
    "        \n",
    "        train_results[sub] = model_train_results\n",
    "        results[sub] = model_test_results\n",
    "    \n",
    "    correct = 0\n",
    "    for i in range(len(act)):\n",
    "        for pred in preds:\n",
    "            if(pred[i] == act[i]):\n",
    "                correct += 1\n",
    "                break\n",
    "    \n",
    "    all_preds[test_sub] = preds\n",
    "    all_pred_probs[test_sub] = pred_probs\n",
    "    all_acts[test_sub] = act\n",
    "    all_test_results[test_sub] = results\n",
    "    \n",
    "    all_train_preds[test_sub] = train_preds\n",
    "    all_train_pred_probs[test_sub] = train_pred_probs\n",
    "    all_train_losses[test_sub] = train_losses\n",
    "    all_train_results[test_sub] = train_results\n",
    "    \n",
    "    acc = correct/len(act)\n",
    "    accs.append(acc)\n",
    "    print(\"Theoretical max accuracy:\", acc)"
   ]
  },
  {
   "cell_type": "code",
   "execution_count": 6,
   "metadata": {
    "scrolled": true
   },
   "outputs": [
    {
     "data": {
      "text/plain": [
       "[0.9965277777777778,\n",
       " 0.9652777777777778,\n",
       " 1.0,\n",
       " 0.9930555555555556,\n",
       " 0.9930555555555556,\n",
       " 0.9791666666666666,\n",
       " 0.9965277777777778,\n",
       " 0.9930555555555556,\n",
       " 1.0]"
      ]
     },
     "execution_count": 6,
     "metadata": {},
     "output_type": "execute_result"
    }
   ],
   "source": [
    "accs"
   ]
  },
  {
   "cell_type": "code",
   "execution_count": 7,
   "metadata": {
    "scrolled": true
   },
   "outputs": [
    {
     "name": "stdout",
     "output_type": "stream",
     "text": [
      "Average theoretical max accuracy: 0.9907407407407407\n"
     ]
    }
   ],
   "source": [
    "avg_acc = sum(accs) / len(accs)\n",
    "print(\"Average theoretical max accuracy:\", avg_acc)"
   ]
  },
  {
   "cell_type": "code",
   "execution_count": 8,
   "metadata": {},
   "outputs": [
    {
     "name": "stdout",
     "output_type": "stream",
     "text": [
      "99.653 & 96.528 & 100.000 & 99.306 & 99.306 & 97.917 & 99.653 & 99.306 & 100.000 & 99.074\n"
     ]
    }
   ],
   "source": [
    "accs.append(avg_acc)\n",
    "tabstr = ' & '.join([\"{0:.3f}\".format(x*100) for x in accs])\n",
    "print(tabstr)"
   ]
  },
  {
   "cell_type": "code",
   "execution_count": 9,
   "metadata": {},
   "outputs": [],
   "source": [
    "# sub_spec_accs = [all_test_results[i][i]['acc'] for i in range(9)]\n",
    "# print(sub_spec_accs)\n",
    "# print(\"Subject specific average accuracy:\", sum(sub_spec_accs) / len(sub_spec_accs))\n",
    "# print(\"Subject specific median accuracy:\", statistics.median(sub_spec_accs))"
   ]
  },
  {
   "cell_type": "code",
   "execution_count": 10,
   "metadata": {
    "scrolled": true
   },
   "outputs": [
    {
     "name": "stdout",
     "output_type": "stream",
     "text": [
      "Voted accuracy: 0.8298611111111112\n",
      "Voted accuracy: 0.625\n",
      "Voted accuracy: 0.90625\n",
      "Voted accuracy: 0.7256944444444444\n",
      "Voted accuracy: 0.7916666666666666\n",
      "Voted accuracy: 0.6145833333333334\n",
      "Voted accuracy: 0.7847222222222222\n",
      "Voted accuracy: 0.8402777777777778\n",
      "Voted accuracy: 0.7534722222222222\n",
      "Average voted accuracy: 0.7635030864197531\n",
      "Median voted accuracy: 0.7847222222222222\n",
      "82.986 & 62.500 & 90.625 & 72.569 & 79.167 & 61.458 & 78.472 & 84.028 & 75.347 & 76.350\n"
     ]
    }
   ],
   "source": [
    "voted_accs = []\n",
    "for test_sub in subs:\n",
    "    voted_pred = []\n",
    "#     test_sub = 1\n",
    "    preds = all_preds[test_sub]\n",
    "    act = all_acts[test_sub]\n",
    "    for i in range(len(preds[0])):\n",
    "        votes = {l:0 for l in range(4)}\n",
    "        for pred in preds:\n",
    "            votes[pred[i]]+=1\n",
    "        voted_pred.append(max(votes, key=votes.get))\n",
    "\n",
    "    correct = 0\n",
    "    for pred, act_val in zip(voted_pred, act):\n",
    "        if(pred == act_val):\n",
    "            correct += 1\n",
    "    voted_acc = correct / len(act)\n",
    "    voted_accs.append(voted_acc)\n",
    "    print(\"Voted accuracy:\", voted_acc)\n",
    "    \n",
    "avg_voted_acc = sum(voted_accs) / len(voted_accs)\n",
    "print(\"Average voted accuracy:\", avg_voted_acc)\n",
    "print(\"Median voted accuracy:\", statistics.median(voted_accs))\n",
    "voted_accs.append(avg_voted_acc)\n",
    "tabstr = ' & '.join([\"{0:.3f}\".format(x*100) for x in voted_accs])\n",
    "print(tabstr)"
   ]
  },
  {
   "cell_type": "markdown",
   "metadata": {},
   "source": [
    "### Soft probability combine"
   ]
  },
  {
   "cell_type": "code",
   "execution_count": 11,
   "metadata": {
    "scrolled": true
   },
   "outputs": [
    {
     "name": "stdout",
     "output_type": "stream",
     "text": [
      "Soft probability combined accuracy: 0.8402777777777778\n",
      "Soft probability combined accuracy: 0.6840277777777778\n",
      "Soft probability combined accuracy: 0.8993055555555556\n",
      "Soft probability combined accuracy: 0.7361111111111112\n",
      "Soft probability combined accuracy: 0.7951388888888888\n",
      "Soft probability combined accuracy: 0.6284722222222222\n",
      "Soft probability combined accuracy: 0.8125\n",
      "Soft probability combined accuracy: 0.8298611111111112\n",
      "Soft probability combined accuracy: 0.7743055555555556\n",
      "Average combined accuracy: 0.7777777777777778\n",
      "Median combined accuracy: 0.7951388888888888\n",
      "84.028 & 68.403 & 89.931 & 73.611 & 79.514 & 62.847 & 81.250 & 82.986 & 77.431 & 77.778\n"
     ]
    }
   ],
   "source": [
    "comb_accs = []\n",
    "for test_sub in subs:\n",
    "    pred_probs = np.array(all_pred_probs[test_sub])\n",
    "    n, h, w, c = pred_probs.shape\n",
    "    pred_probs = np.reshape(pred_probs, (n, h*w, c))\n",
    "#     print(pred_probs.shape)\n",
    "    class_probs = np.sum(pred_probs, axis=0)\n",
    "    soft_preds = np.argmax(class_probs, axis=1)\n",
    "    correct = 0\n",
    "    for pred, act_val in zip(soft_preds, all_acts[test_sub]):\n",
    "        if(pred == act_val):\n",
    "            correct += 1\n",
    "    voted_acc = correct / len(all_acts[test_sub])\n",
    "    comb_accs.append(voted_acc)\n",
    "    print(\"Soft probability combined accuracy:\", voted_acc)\n",
    "\n",
    "avg_comb_acc = sum(comb_accs) / len(comb_accs)\n",
    "print(\"Average combined accuracy:\", avg_comb_acc)\n",
    "print(\"Median combined accuracy:\", statistics.median(comb_accs))\n",
    "comb_accs.append(avg_comb_acc)\n",
    "tabstr = ' & '.join([\"{0:.3f}\".format(x*100) for x in comb_accs])\n",
    "print(tabstr)"
   ]
  },
  {
   "cell_type": "code",
   "execution_count": 12,
   "metadata": {},
   "outputs": [],
   "source": [
    "cms = {test_sub: {train_sub: [results['fbcnet']['cm'], results['eegnet']['cm']]  for train_sub, results in test_results.items()} for test_sub, test_results in all_train_results.items()}"
   ]
  },
  {
   "cell_type": "code",
   "execution_count": 13,
   "metadata": {},
   "outputs": [],
   "source": [
    "# metrics = {test_sub: {train_sub: [np.array([2*cm[0][i][i]/(np.sum(cm[0][i,:]) + np.sum(cm[0][:,i])) for i in range(4)]), np.array([2*cm[1][i][i]/(np.sum(cm[1][i,:]) + np.sum(cm[1][:,i])) for i in range(4)])] for train_sub, cm in test_results.items()} for test_sub, test_results in cms.items()}\n",
    "metrics = {test_sub: {train_sub: [np.array([cm[0][i][i]/np.sum(cm[0][i,:]) for i in range(4)]), np.array([cm[1][i][i]/np.sum(cm[1][i,:]) for i in range(4)])] for train_sub, cm in test_results.items()} for test_sub, test_results in cms.items()}"
   ]
  },
  {
   "cell_type": "code",
   "execution_count": 23,
   "metadata": {},
   "outputs": [],
   "source": [
    "recall_sums = {test_sub: np.concatenate([np.array([np.sum(recalls[0]) for train_sub, recalls in test_results.items()]), np.array([np.sum(recalls[1]) for train_sub, recalls in test_results.items()])]) for test_sub, test_results in metrics.items()}"
   ]
  },
  {
   "cell_type": "code",
   "execution_count": 24,
   "metadata": {},
   "outputs": [
    {
     "data": {
      "text/plain": [
       "array([4.        , 3.90277778, 3.94444444, 3.95833333, 3.91666667,\n",
       "       3.97222222, 3.86111111, 4.        , 3.94444444, 4.        ,\n",
       "       3.94444444, 3.86111111, 3.94444444, 3.97222222, 3.97222222,\n",
       "       3.93055556])"
      ]
     },
     "execution_count": 24,
     "metadata": {},
     "output_type": "execute_result"
    }
   ],
   "source": [
    "recall_sums[0]"
   ]
  },
  {
   "cell_type": "markdown",
   "metadata": {},
   "source": [
    "## RSSP"
   ]
  },
  {
   "cell_type": "code",
   "execution_count": 15,
   "metadata": {
    "scrolled": true
   },
   "outputs": [
    {
     "name": "stdout",
     "output_type": "stream",
     "text": [
      "Soft probability combined accuracy: 0.8402777777777778\n",
      "Soft probability combined accuracy: 0.6840277777777778\n",
      "Soft probability combined accuracy: 0.8993055555555556\n",
      "Soft probability combined accuracy: 0.7326388888888888\n",
      "Soft probability combined accuracy: 0.7881944444444444\n",
      "Soft probability combined accuracy: 0.6319444444444444\n",
      "Soft probability combined accuracy: 0.8090277777777778\n",
      "Soft probability combined accuracy: 0.8263888888888888\n",
      "Soft probability combined accuracy: 0.78125\n",
      "Average combined accuracy: 0.7770061728395061\n",
      "Median combined accuracy: 0.7881944444444444\n",
      "84.028 & 68.403 & 89.931 & 73.264 & 78.819 & 63.194 & 80.903 & 82.639 & 78.125 & 77.701\n"
     ]
    }
   ],
   "source": [
    "comb_accs = []\n",
    "for test_sub in subs:\n",
    "    mlist = list(range(9))\n",
    "    mlist.pop(test_sub)\n",
    "    pred_probs = np.array(all_pred_probs[test_sub])\n",
    "    n, h, w, c = pred_probs.shape\n",
    "    pred_probs = np.reshape(pred_probs, (n, h*w, c))\n",
    "#     print(pred_probs.shape)\n",
    "#     print(pred_probs[8][0])\n",
    "    for i in range(len(pred_probs)):\n",
    "#         print(pred_probs[i])\n",
    "        for j in range(len(pred_probs[i])):\n",
    "            pred_probs[i][j] = np.multiply(pred_probs[i][j], metrics[test_sub][mlist[i % 8]][i // 8])\n",
    "    class_probs = np.sum(pred_probs, axis=0)\n",
    "    soft_preds = np.argmax(class_probs, axis=1)\n",
    "    correct = 0\n",
    "    for pred, act_val in zip(soft_preds, all_acts[test_sub]):\n",
    "        if(pred == act_val):\n",
    "            correct += 1\n",
    "    voted_acc = correct / len(all_acts[test_sub])\n",
    "    comb_accs.append(voted_acc)\n",
    "    print(\"Soft probability combined accuracy:\", voted_acc)\n",
    "\n",
    "avg_comb_acc = sum(comb_accs) / len(comb_accs)\n",
    "print(\"Average combined accuracy:\", avg_comb_acc)\n",
    "print(\"Median combined accuracy:\", statistics.median(comb_accs))\n",
    "comb_accs.append(avg_comb_acc)\n",
    "tabstr = ' & '.join([\"{0:.3f}\".format(x*100) for x in comb_accs])\n",
    "print(tabstr)"
   ]
  },
  {
   "cell_type": "markdown",
   "metadata": {},
   "source": [
    "## RSV"
   ]
  },
  {
   "cell_type": "code",
   "execution_count": 16,
   "metadata": {
    "scrolled": true
   },
   "outputs": [
    {
     "name": "stdout",
     "output_type": "stream",
     "text": [
      "Voted accuracy: 0.8298611111111112\n",
      "Voted accuracy: 0.6354166666666666\n",
      "Voted accuracy: 0.8993055555555556\n",
      "Voted accuracy: 0.7361111111111112\n",
      "Voted accuracy: 0.7847222222222222\n",
      "Voted accuracy: 0.6111111111111112\n",
      "Voted accuracy: 0.7708333333333334\n",
      "Voted accuracy: 0.8368055555555556\n",
      "Voted accuracy: 0.7465277777777778\n",
      "Average voted accuracy: 0.7611882716049382\n",
      "Median voted accuracy: 0.7708333333333334\n",
      "82.986 & 63.542 & 89.931 & 73.611 & 78.472 & 61.111 & 77.083 & 83.681 & 74.653 & 76.119\n"
     ]
    }
   ],
   "source": [
    "voted_accs = []\n",
    "for test_sub in subs:\n",
    "    voted_pred = []\n",
    "    mlist = list(range(9))\n",
    "    mlist.pop(test_sub)\n",
    "#     test_sub = 1\n",
    "    preds = all_preds[test_sub]\n",
    "    act = all_acts[test_sub]\n",
    "    for i in range(len(preds[0])):\n",
    "        votes = {l:0 for l in range(4)}\n",
    "        for j, pred in enumerate(preds):\n",
    "            votes[pred[i]]+=metrics[test_sub][mlist[j % 8]][j // 8][pred[i]]\n",
    "        voted_pred.append(max(votes, key=votes.get))\n",
    "\n",
    "    correct = 0\n",
    "    for pred, act_val in zip(voted_pred, act):\n",
    "        if(pred == act_val):\n",
    "            correct += 1\n",
    "    voted_acc = correct / len(act)\n",
    "    voted_accs.append(voted_acc)\n",
    "    print(\"Voted accuracy:\", voted_acc)\n",
    "    \n",
    "avg_voted_acc = sum(voted_accs) / len(voted_accs)\n",
    "print(\"Average voted accuracy:\", avg_voted_acc)\n",
    "print(\"Median voted accuracy:\", statistics.median(voted_accs))\n",
    "voted_accs.append(avg_voted_acc)\n",
    "tabstr = ' & '.join([\"{0:.3f}\".format(x*100) for x in voted_accs])\n",
    "print(tabstr)"
   ]
  },
  {
   "cell_type": "code",
   "execution_count": 17,
   "metadata": {},
   "outputs": [
    {
     "name": "stdout",
     "output_type": "stream",
     "text": [
      "Top recall scaled soft probability combined accuracy: 0.7986111111111112\n",
      "Top recall scaled soft probability combined accuracy: 0.65625\n",
      "Top recall scaled soft probability combined accuracy: 0.8923611111111112\n",
      "Top recall scaled soft probability combined accuracy: 0.7395833333333334\n",
      "Top recall scaled soft probability combined accuracy: 0.7395833333333334\n",
      "Top recall scaled soft probability combined accuracy: 0.6076388888888888\n",
      "Top recall scaled soft probability combined accuracy: 0.8368055555555556\n",
      "Top recall scaled soft probability combined accuracy: 0.8055555555555556\n",
      "Top recall scaled soft probability combined accuracy: 0.7708333333333334\n",
      "Average combined accuracy: 0.7608024691358025\n",
      "Median combined accuracy: 0.7708333333333334\n",
      "79.861 & 65.625 & 89.236 & 73.958 & 73.958 & 60.764 & 83.681 & 80.556 & 77.083 & 76.080\n"
     ]
    }
   ],
   "source": [
    "comb_accs = []\n",
    "for test_sub in subs:\n",
    "    mlist = list(range(9))\n",
    "    mlist.pop(test_sub)\n",
    "    recalls = np.concatenate(recall_sums[test_sub])\n",
    "    sorted_recall_idx = np.argsort(recalls)\n",
    "    # print(sorted_recall_idx)\n",
    "    # print(sorted_recall_idx[-5:])\n",
    "    pred_probs = np.array(all_pred_probs[test_sub])\n",
    "    n, h, w, c = pred_probs.shape\n",
    "    pred_probs = np.reshape(pred_probs, (n, h*w, c))\n",
    "#     print(pred_probs.shape)\n",
    "    pred_probs = np.take(pred_probs, sorted_recall_idx[-8:], 0)\n",
    "#     print(pred_probs.shape)\n",
    "    for i in range(len(pred_probs)):\n",
    "        for j in range(len(pred_probs[i])):\n",
    "            pred_probs[i][j] = np.multiply(pred_probs[i][j], metrics[test_sub][mlist[i % 8]][i // 8])\n",
    "    class_probs = np.sum(pred_probs, axis=0)\n",
    "    soft_preds = np.argmax(class_probs, axis=1)\n",
    "    correct = 0\n",
    "    for pred, act_val in zip(soft_preds, all_acts[test_sub]):\n",
    "        if(pred == act_val):\n",
    "            correct += 1\n",
    "    voted_acc = correct / len(all_acts[test_sub])\n",
    "    comb_accs.append(voted_acc)\n",
    "    print(\"Top recall scaled soft probability combined accuracy:\", voted_acc)\n",
    "    \n",
    "avg_comb_acc = sum(comb_accs) / len(comb_accs)\n",
    "print(\"Average combined accuracy:\", avg_comb_acc)\n",
    "print(\"Median combined accuracy:\", statistics.median(comb_accs))\n",
    "comb_accs.append(avg_comb_acc)\n",
    "tabstr = ' & '.join([\"{0:.3f}\".format(x*100) for x in comb_accs])\n",
    "print(tabstr)"
   ]
  },
  {
   "cell_type": "code",
   "execution_count": 27,
   "metadata": {},
   "outputs": [
    {
     "name": "stdout",
     "output_type": "stream",
     "text": [
      "Top-2\n",
      "Top recall scaled soft probability combined accuracy: 0.6041666666666666\n",
      "Top recall scaled soft probability combined accuracy: 0.5277777777777778\n",
      "Top recall scaled soft probability combined accuracy: 0.7638888888888888\n",
      "Top recall scaled soft probability combined accuracy: 0.6180555555555556\n",
      "Top recall scaled soft probability combined accuracy: 0.6597222222222222\n",
      "Top recall scaled soft probability combined accuracy: 0.5138888888888888\n",
      "Top recall scaled soft probability combined accuracy: 0.7465277777777778\n",
      "Top recall scaled soft probability combined accuracy: 0.5729166666666666\n",
      "Top recall scaled soft probability combined accuracy: 0.6875\n",
      "Average combined accuracy: 0.6327160493827161\n",
      "Median combined accuracy: 0.6180555555555556\n",
      "60.417 & 52.778 & 76.389 & 61.806 & 65.972 & 51.389 & 74.653 & 57.292 & 68.750 & 63.272\n",
      "\n",
      "\n",
      "Top-3\n",
      "Top recall scaled soft probability combined accuracy: 0.75\n",
      "Top recall scaled soft probability combined accuracy: 0.6076388888888888\n",
      "Top recall scaled soft probability combined accuracy: 0.8263888888888888\n",
      "Top recall scaled soft probability combined accuracy: 0.6284722222222222\n",
      "Top recall scaled soft probability combined accuracy: 0.6736111111111112\n",
      "Top recall scaled soft probability combined accuracy: 0.5763888888888888\n",
      "Top recall scaled soft probability combined accuracy: 0.7673611111111112\n",
      "Top recall scaled soft probability combined accuracy: 0.6770833333333334\n",
      "Top recall scaled soft probability combined accuracy: 0.6666666666666666\n",
      "Average combined accuracy: 0.6859567901234568\n",
      "Median combined accuracy: 0.6736111111111112\n",
      "75.000 & 60.764 & 82.639 & 62.847 & 67.361 & 57.639 & 76.736 & 67.708 & 66.667 & 68.596\n",
      "\n",
      "\n",
      "Top-4\n",
      "Top recall scaled soft probability combined accuracy: 0.8229166666666666\n",
      "Top recall scaled soft probability combined accuracy: 0.6388888888888888\n",
      "Top recall scaled soft probability combined accuracy: 0.8229166666666666\n",
      "Top recall scaled soft probability combined accuracy: 0.6979166666666666\n",
      "Top recall scaled soft probability combined accuracy: 0.6840277777777778\n",
      "Top recall scaled soft probability combined accuracy: 0.5659722222222222\n",
      "Top recall scaled soft probability combined accuracy: 0.7951388888888888\n",
      "Top recall scaled soft probability combined accuracy: 0.71875\n",
      "Top recall scaled soft probability combined accuracy: 0.7118055555555556\n",
      "Average combined accuracy: 0.7175925925925924\n",
      "Median combined accuracy: 0.7118055555555556\n",
      "82.292 & 63.889 & 82.292 & 69.792 & 68.403 & 56.597 & 79.514 & 71.875 & 71.181 & 71.759\n",
      "\n",
      "\n",
      "Top-5\n",
      "Top recall scaled soft probability combined accuracy: 0.7916666666666666\n",
      "Top recall scaled soft probability combined accuracy: 0.6354166666666666\n",
      "Top recall scaled soft probability combined accuracy: 0.84375\n",
      "Top recall scaled soft probability combined accuracy: 0.7048611111111112\n",
      "Top recall scaled soft probability combined accuracy: 0.7291666666666666\n",
      "Top recall scaled soft probability combined accuracy: 0.5902777777777778\n",
      "Top recall scaled soft probability combined accuracy: 0.8055555555555556\n",
      "Top recall scaled soft probability combined accuracy: 0.7708333333333334\n",
      "Top recall scaled soft probability combined accuracy: 0.7604166666666666\n",
      "Average combined accuracy: 0.7368827160493826\n",
      "Median combined accuracy: 0.7604166666666666\n",
      "79.167 & 63.542 & 84.375 & 70.486 & 72.917 & 59.028 & 80.556 & 77.083 & 76.042 & 73.688\n",
      "\n",
      "\n",
      "Top-6\n",
      "Top recall scaled soft probability combined accuracy: 0.7708333333333334\n",
      "Top recall scaled soft probability combined accuracy: 0.6319444444444444\n",
      "Top recall scaled soft probability combined accuracy: 0.8645833333333334\n",
      "Top recall scaled soft probability combined accuracy: 0.7013888888888888\n",
      "Top recall scaled soft probability combined accuracy: 0.7326388888888888\n",
      "Top recall scaled soft probability combined accuracy: 0.5902777777777778\n",
      "Top recall scaled soft probability combined accuracy: 0.8333333333333334\n",
      "Top recall scaled soft probability combined accuracy: 0.7708333333333334\n",
      "Top recall scaled soft probability combined accuracy: 0.78125\n",
      "Average combined accuracy: 0.7418981481481481\n",
      "Median combined accuracy: 0.7708333333333334\n",
      "77.083 & 63.194 & 86.458 & 70.139 & 73.264 & 59.028 & 83.333 & 77.083 & 78.125 & 74.190\n",
      "\n",
      "\n",
      "Top-7\n",
      "Top recall scaled soft probability combined accuracy: 0.7986111111111112\n",
      "Top recall scaled soft probability combined accuracy: 0.6493055555555556\n",
      "Top recall scaled soft probability combined accuracy: 0.8958333333333334\n",
      "Top recall scaled soft probability combined accuracy: 0.7256944444444444\n",
      "Top recall scaled soft probability combined accuracy: 0.7430555555555556\n",
      "Top recall scaled soft probability combined accuracy: 0.6006944444444444\n",
      "Top recall scaled soft probability combined accuracy: 0.8368055555555556\n",
      "Top recall scaled soft probability combined accuracy: 0.8055555555555556\n",
      "Top recall scaled soft probability combined accuracy: 0.7604166666666666\n",
      "Average combined accuracy: 0.7573302469135803\n",
      "Median combined accuracy: 0.7604166666666666\n",
      "79.861 & 64.931 & 89.583 & 72.569 & 74.306 & 60.069 & 83.681 & 80.556 & 76.042 & 75.733\n",
      "\n",
      "\n",
      "Top-8\n",
      "Top recall scaled soft probability combined accuracy: 0.7951388888888888\n",
      "Top recall scaled soft probability combined accuracy: 0.6527777777777778\n",
      "Top recall scaled soft probability combined accuracy: 0.8993055555555556\n",
      "Top recall scaled soft probability combined accuracy: 0.7256944444444444\n",
      "Top recall scaled soft probability combined accuracy: 0.7465277777777778\n",
      "Top recall scaled soft probability combined accuracy: 0.6145833333333334\n",
      "Top recall scaled soft probability combined accuracy: 0.8368055555555556\n",
      "Top recall scaled soft probability combined accuracy: 0.8090277777777778\n",
      "Top recall scaled soft probability combined accuracy: 0.7743055555555556\n",
      "Average combined accuracy: 0.761574074074074\n",
      "Median combined accuracy: 0.7743055555555556\n",
      "79.514 & 65.278 & 89.931 & 72.569 & 74.653 & 61.458 & 83.681 & 80.903 & 77.431 & 76.157\n",
      "\n",
      "\n"
     ]
    }
   ],
   "source": [
    "for i in range(2,9):\n",
    "    comb_accs = []\n",
    "    print(\"Top-\" + str(i))\n",
    "    for test_sub in subs:\n",
    "        mlist = list(range(9))\n",
    "        mlist.pop(test_sub)\n",
    "        sorted_recall_idx = np.argsort(recall_sums[test_sub])\n",
    "        # print(sorted_recall_idx)\n",
    "        # print(sorted_recall_idx[-5:])\n",
    "        pred_probs = np.array(all_pred_probs[test_sub])\n",
    "        n, h, w, c = pred_probs.shape\n",
    "        pred_probs = np.reshape(pred_probs, (n, h*w, c))\n",
    "    #     print(pred_probs.shape)\n",
    "        pred_probs = np.take(pred_probs, sorted_recall_idx[-i:], 0)\n",
    "    #     print(pred_probs.shape)\n",
    "#         for i in range(len(pred_probs)):\n",
    "#             for j in range(len(pred_probs[i])):\n",
    "#                 pred_probs[i][j] = np.multiply(pred_probs[i][j], metrics[test_sub][mlist[i % 8]][i // 8])\n",
    "        class_probs = np.sum(pred_probs, axis=0)\n",
    "        soft_preds = np.argmax(class_probs, axis=1)\n",
    "        correct = 0\n",
    "        for pred, act_val in zip(soft_preds, all_acts[test_sub]):\n",
    "            if(pred == act_val):\n",
    "                correct += 1\n",
    "        voted_acc = correct / len(all_acts[test_sub])\n",
    "        comb_accs.append(voted_acc)\n",
    "        print(\"Top recall scaled soft probability combined accuracy:\", voted_acc)\n",
    "\n",
    "    avg_comb_acc = sum(comb_accs) / len(comb_accs)\n",
    "    print(\"Average combined accuracy:\", avg_comb_acc)\n",
    "    print(\"Median combined accuracy:\", statistics.median(comb_accs))\n",
    "    comb_accs.append(avg_comb_acc)\n",
    "    tabstr = ' & '.join([\"{0:.3f}\".format(x*100) for x in comb_accs])\n",
    "    print(tabstr)\n",
    "    print()\n",
    "    print()"
   ]
  },
  {
   "cell_type": "code",
   "execution_count": null,
   "metadata": {},
   "outputs": [],
   "source": []
  }
 ],
 "metadata": {
  "kernelspec": {
   "display_name": "Python 3",
   "language": "python",
   "name": "python3"
  },
  "language_info": {
   "codemirror_mode": {
    "name": "ipython",
    "version": 3
   },
   "file_extension": ".py",
   "mimetype": "text/x-python",
   "name": "python",
   "nbconvert_exporter": "python",
   "pygments_lexer": "ipython3",
   "version": "3.7.16"
  }
 },
 "nbformat": 4,
 "nbformat_minor": 2
}
